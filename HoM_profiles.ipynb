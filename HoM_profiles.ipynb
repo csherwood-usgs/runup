{
 "cells": [
  {
   "cell_type": "code",
   "execution_count": 1,
   "id": "ccc4f927",
   "metadata": {},
   "outputs": [],
   "source": [
    "import pandas as pd\n",
    "import numpy as np\n",
    "from scipy.signal import savgol_filter\n",
    "from scipy.interpolate import interp1d\n",
    "import matplotlib.pyplot as plt"
   ]
  },
  {
   "cell_type": "code",
   "execution_count": 2,
   "id": "62ed0fe7",
   "metadata": {},
   "outputs": [],
   "source": [
    "dirname = 'D:/crs/proj/2022_runup/'\n",
    "fname = 'hom_profiles.csv'\n",
    "fpath = dirname+fname"
   ]
  },
  {
   "cell_type": "code",
   "execution_count": 1,
   "id": "9ba58340",
   "metadata": {},
   "outputs": [
    {
     "name": "stdout",
     "output_type": "stream",
     "text": [
      "bs2020: 0.0121\n",
      "bs2021: 0.0121\n",
      "bs2022: 0.0112\n",
      "\n"
     ]
    }
   ],
   "source": [
    "# hand calculation of slope from bar crest to zero NAVD88\n",
    "bs2020 = 5.273/(596.6-159.3)\n",
    "bs2021 = 5.15/(599.85-173.9)\n",
    "bs2022 = 5.21/(633.99-170.69)\n",
    "print('bs2020: {:.04f}\\nbs2021: {:.04f}\\nbs2022: {:.04f}\\n'.format(bs2020,bs2021,bs2022))"
   ]
  },
  {
   "cell_type": "code",
   "execution_count": 3,
   "id": "203c0bfa",
   "metadata": {},
   "outputs": [
    {
     "data": {
      "text/html": [
       "<div>\n",
       "<style scoped>\n",
       "    .dataframe tbody tr th:only-of-type {\n",
       "        vertical-align: middle;\n",
       "    }\n",
       "\n",
       "    .dataframe tbody tr th {\n",
       "        vertical-align: top;\n",
       "    }\n",
       "\n",
       "    .dataframe thead th {\n",
       "        text-align: right;\n",
       "    }\n",
       "</style>\n",
       "<table border=\"1\" class=\"dataframe\">\n",
       "  <thead>\n",
       "    <tr style=\"text-align: right;\">\n",
       "      <th></th>\n",
       "      <th>ID</th>\n",
       "      <th>X</th>\n",
       "      <th>Y</th>\n",
       "      <th>Elevation</th>\n",
       "      <th>Elevation (2020015FA_Truro_topobathy_1m.tif)</th>\n",
       "      <th>Elevation (2021014FA_Truro_topobathy_1m.tif)</th>\n",
       "      <th>Elevation (2022015FA_Truro_Topobathy_1m.tif)</th>\n",
       "      <th>Distance (Segment)</th>\n",
       "      <th>Distance (Total)</th>\n",
       "      <th>Distance 3D (Segment)</th>\n",
       "      <th>Distance 3D (Total)</th>\n",
       "      <th>Slope (Degrees)</th>\n",
       "      <th>Slope (Percent)</th>\n",
       "      <th>Segment Index</th>\n",
       "    </tr>\n",
       "  </thead>\n",
       "  <tbody>\n",
       "    <tr>\n",
       "      <th>0</th>\n",
       "      <td>1</td>\n",
       "      <td>410754.987</td>\n",
       "      <td>4656015.953</td>\n",
       "      <td>16.989</td>\n",
       "      <td>16.850</td>\n",
       "      <td>16.674</td>\n",
       "      <td>16.989</td>\n",
       "      <td>0.000</td>\n",
       "      <td>0.000</td>\n",
       "      <td>0.000</td>\n",
       "      <td>0.000</td>\n",
       "      <td>-</td>\n",
       "      <td>-</td>\n",
       "      <td>1</td>\n",
       "    </tr>\n",
       "    <tr>\n",
       "      <th>1</th>\n",
       "      <td>2</td>\n",
       "      <td>410755.424</td>\n",
       "      <td>4656016.639</td>\n",
       "      <td>16.946</td>\n",
       "      <td>16.895</td>\n",
       "      <td>16.687</td>\n",
       "      <td>16.946</td>\n",
       "      <td>0.813</td>\n",
       "      <td>0.813</td>\n",
       "      <td>0.814</td>\n",
       "      <td>0.814</td>\n",
       "      <td>3.0</td>\n",
       "      <td>5.2</td>\n",
       "      <td>1</td>\n",
       "    </tr>\n",
       "    <tr>\n",
       "      <th>2</th>\n",
       "      <td>3</td>\n",
       "      <td>410755.860</td>\n",
       "      <td>4656017.324</td>\n",
       "      <td>16.854</td>\n",
       "      <td>16.922</td>\n",
       "      <td>16.679</td>\n",
       "      <td>16.854</td>\n",
       "      <td>0.813</td>\n",
       "      <td>1.626</td>\n",
       "      <td>0.818</td>\n",
       "      <td>1.632</td>\n",
       "      <td>6.5</td>\n",
       "      <td>11.4</td>\n",
       "      <td>1</td>\n",
       "    </tr>\n",
       "    <tr>\n",
       "      <th>3</th>\n",
       "      <td>4</td>\n",
       "      <td>410756.297</td>\n",
       "      <td>4656018.009</td>\n",
       "      <td>16.783</td>\n",
       "      <td>16.929</td>\n",
       "      <td>16.644</td>\n",
       "      <td>16.783</td>\n",
       "      <td>0.813</td>\n",
       "      <td>2.438</td>\n",
       "      <td>0.816</td>\n",
       "      <td>2.448</td>\n",
       "      <td>5.0</td>\n",
       "      <td>8.7</td>\n",
       "      <td>1</td>\n",
       "    </tr>\n",
       "    <tr>\n",
       "      <th>4</th>\n",
       "      <td>5</td>\n",
       "      <td>410756.733</td>\n",
       "      <td>4656018.695</td>\n",
       "      <td>16.764</td>\n",
       "      <td>16.903</td>\n",
       "      <td>16.563</td>\n",
       "      <td>16.764</td>\n",
       "      <td>0.813</td>\n",
       "      <td>3.251</td>\n",
       "      <td>0.813</td>\n",
       "      <td>3.261</td>\n",
       "      <td>1.4</td>\n",
       "      <td>2.4</td>\n",
       "      <td>1</td>\n",
       "    </tr>\n",
       "    <tr>\n",
       "      <th>...</th>\n",
       "      <td>...</td>\n",
       "      <td>...</td>\n",
       "      <td>...</td>\n",
       "      <td>...</td>\n",
       "      <td>...</td>\n",
       "      <td>...</td>\n",
       "      <td>...</td>\n",
       "      <td>...</td>\n",
       "      <td>...</td>\n",
       "      <td>...</td>\n",
       "      <td>...</td>\n",
       "      <td>...</td>\n",
       "      <td>...</td>\n",
       "      <td>...</td>\n",
       "    </tr>\n",
       "    <tr>\n",
       "      <th>1019</th>\n",
       "      <td>1020</td>\n",
       "      <td>411199.746</td>\n",
       "      <td>4656714.365</td>\n",
       "      <td>-9.275</td>\n",
       "      <td>NaN</td>\n",
       "      <td>-9.453</td>\n",
       "      <td>-9.275</td>\n",
       "      <td>0.813</td>\n",
       "      <td>828.250</td>\n",
       "      <td>0.813</td>\n",
       "      <td>831.670</td>\n",
       "      <td>1.5</td>\n",
       "      <td>2.5</td>\n",
       "      <td>1</td>\n",
       "    </tr>\n",
       "    <tr>\n",
       "      <th>1020</th>\n",
       "      <td>1021</td>\n",
       "      <td>411200.182</td>\n",
       "      <td>4656715.051</td>\n",
       "      <td>-9.295</td>\n",
       "      <td>NaN</td>\n",
       "      <td>-9.470</td>\n",
       "      <td>-9.295</td>\n",
       "      <td>0.813</td>\n",
       "      <td>829.070</td>\n",
       "      <td>0.813</td>\n",
       "      <td>832.480</td>\n",
       "      <td>1.4</td>\n",
       "      <td>2.5</td>\n",
       "      <td>1</td>\n",
       "    </tr>\n",
       "    <tr>\n",
       "      <th>1021</th>\n",
       "      <td>1022</td>\n",
       "      <td>411200.619</td>\n",
       "      <td>4656715.736</td>\n",
       "      <td>-9.316</td>\n",
       "      <td>NaN</td>\n",
       "      <td>-9.487</td>\n",
       "      <td>-9.316</td>\n",
       "      <td>0.813</td>\n",
       "      <td>829.880</td>\n",
       "      <td>0.813</td>\n",
       "      <td>833.300</td>\n",
       "      <td>1.4</td>\n",
       "      <td>2.5</td>\n",
       "      <td>1</td>\n",
       "    </tr>\n",
       "    <tr>\n",
       "      <th>1022</th>\n",
       "      <td>1023</td>\n",
       "      <td>411201.055</td>\n",
       "      <td>4656716.422</td>\n",
       "      <td>-9.336</td>\n",
       "      <td>NaN</td>\n",
       "      <td>-9.505</td>\n",
       "      <td>-9.336</td>\n",
       "      <td>0.813</td>\n",
       "      <td>830.690</td>\n",
       "      <td>0.813</td>\n",
       "      <td>834.110</td>\n",
       "      <td>1.4</td>\n",
       "      <td>2.5</td>\n",
       "      <td>1</td>\n",
       "    </tr>\n",
       "    <tr>\n",
       "      <th>1023</th>\n",
       "      <td>1024</td>\n",
       "      <td>411201.491</td>\n",
       "      <td>4656717.106</td>\n",
       "      <td>-9.357</td>\n",
       "      <td>NaN</td>\n",
       "      <td>-9.522</td>\n",
       "      <td>-9.357</td>\n",
       "      <td>0.812</td>\n",
       "      <td>831.500</td>\n",
       "      <td>0.812</td>\n",
       "      <td>834.920</td>\n",
       "      <td>1.4</td>\n",
       "      <td>2.5</td>\n",
       "      <td>1</td>\n",
       "    </tr>\n",
       "  </tbody>\n",
       "</table>\n",
       "<p>1024 rows × 14 columns</p>\n",
       "</div>"
      ],
      "text/plain": [
       "        ID           X            Y  Elevation  \\\n",
       "0        1  410754.987  4656015.953     16.989   \n",
       "1        2  410755.424  4656016.639     16.946   \n",
       "2        3  410755.860  4656017.324     16.854   \n",
       "3        4  410756.297  4656018.009     16.783   \n",
       "4        5  410756.733  4656018.695     16.764   \n",
       "...    ...         ...          ...        ...   \n",
       "1019  1020  411199.746  4656714.365     -9.275   \n",
       "1020  1021  411200.182  4656715.051     -9.295   \n",
       "1021  1022  411200.619  4656715.736     -9.316   \n",
       "1022  1023  411201.055  4656716.422     -9.336   \n",
       "1023  1024  411201.491  4656717.106     -9.357   \n",
       "\n",
       "      Elevation (2020015FA_Truro_topobathy_1m.tif)  \\\n",
       "0                                           16.850   \n",
       "1                                           16.895   \n",
       "2                                           16.922   \n",
       "3                                           16.929   \n",
       "4                                           16.903   \n",
       "...                                            ...   \n",
       "1019                                           NaN   \n",
       "1020                                           NaN   \n",
       "1021                                           NaN   \n",
       "1022                                           NaN   \n",
       "1023                                           NaN   \n",
       "\n",
       "      Elevation (2021014FA_Truro_topobathy_1m.tif)  \\\n",
       "0                                           16.674   \n",
       "1                                           16.687   \n",
       "2                                           16.679   \n",
       "3                                           16.644   \n",
       "4                                           16.563   \n",
       "...                                            ...   \n",
       "1019                                        -9.453   \n",
       "1020                                        -9.470   \n",
       "1021                                        -9.487   \n",
       "1022                                        -9.505   \n",
       "1023                                        -9.522   \n",
       "\n",
       "      Elevation (2022015FA_Truro_Topobathy_1m.tif)  Distance (Segment)  \\\n",
       "0                                           16.989               0.000   \n",
       "1                                           16.946               0.813   \n",
       "2                                           16.854               0.813   \n",
       "3                                           16.783               0.813   \n",
       "4                                           16.764               0.813   \n",
       "...                                            ...                 ...   \n",
       "1019                                        -9.275               0.813   \n",
       "1020                                        -9.295               0.813   \n",
       "1021                                        -9.316               0.813   \n",
       "1022                                        -9.336               0.813   \n",
       "1023                                        -9.357               0.812   \n",
       "\n",
       "      Distance (Total)  Distance 3D (Segment)  Distance 3D (Total)  \\\n",
       "0                0.000                  0.000                0.000   \n",
       "1                0.813                  0.814                0.814   \n",
       "2                1.626                  0.818                1.632   \n",
       "3                2.438                  0.816                2.448   \n",
       "4                3.251                  0.813                3.261   \n",
       "...                ...                    ...                  ...   \n",
       "1019           828.250                  0.813              831.670   \n",
       "1020           829.070                  0.813              832.480   \n",
       "1021           829.880                  0.813              833.300   \n",
       "1022           830.690                  0.813              834.110   \n",
       "1023           831.500                  0.812              834.920   \n",
       "\n",
       "     Slope (Degrees) Slope (Percent)  Segment Index  \n",
       "0                  -               -              1  \n",
       "1                3.0             5.2              1  \n",
       "2                6.5            11.4              1  \n",
       "3                5.0             8.7              1  \n",
       "4                1.4             2.4              1  \n",
       "...              ...             ...            ...  \n",
       "1019             1.5             2.5              1  \n",
       "1020             1.4             2.5              1  \n",
       "1021             1.4             2.5              1  \n",
       "1022             1.4             2.5              1  \n",
       "1023             1.4             2.5              1  \n",
       "\n",
       "[1024 rows x 14 columns]"
      ]
     },
     "execution_count": 3,
     "metadata": {},
     "output_type": "execute_result"
    }
   ],
   "source": [
    "# The .csv profile files written by Global Mapper have some weird characters we want to get rid of.\n",
    "# Read in the file\n",
    "with open(fpath, 'r') as f :\n",
    "  filedata = f.read()\n",
    "\n",
    "# Replace the target strings\n",
    "filedata = filedata.replace('%', '')\n",
    "#filedata = filedata.replace('-', '') #this will remove negative values!\n",
    "\n",
    "# Write the file out again with new name\n",
    "new_fname = 'mod_'+fname\n",
    "new_fpath = dirname+new_fname\n",
    "with open(new_fpath, 'w') as f:\n",
    "  f.write(filedata)\n",
    "\n",
    "# read the profile\n",
    "df=pd.read_csv(new_fpath,header = 0,delimiter=',')\n",
    "df"
   ]
  },
  {
   "cell_type": "code",
   "execution_count": 4,
   "id": "59873044",
   "metadata": {},
   "outputs": [],
   "source": [
    "# extract profiles, flip so the are oriented onshore, calculate distance and slope\n",
    "dist = df['Distance (Total)'].values\n",
    "odist = np.flip( dist[-1]-dist )\n",
    "elev2020 = np.flip( df['Elevation (2020015FA_Truro_topobathy_1m.tif)'].values )\n",
    "elev2021 = np.flip( df['Elevation (2021014FA_Truro_topobathy_1m.tif)'].values )\n",
    "elev2022 = np.flip( df['Elevation (2022015FA_Truro_Topobathy_1m.tif)'].values )\n",
    "\n",
    "dx = np.diff(dist)\n",
    "slope2020 = np.nan*np.ones_like(dist)\n",
    "slope2020[1:]=np.diff(elev2020)/dx\n",
    "slope2021 = np.nan*np.ones_like(dist)\n",
    "slope2021[1:]=np.diff(elev2021)/dx\n",
    "slope2022 = np.nan*np.ones_like(dist)\n",
    "slope2022[1:]=np.diff(elev2022)/dx"
   ]
  },
  {
   "cell_type": "code",
   "execution_count": 5,
   "id": "8f2dd0ac",
   "metadata": {},
   "outputs": [
    {
     "data": {
      "text/plain": [
       "<matplotlib.legend.Legend at 0x1e6240b7160>"
      ]
     },
     "execution_count": 5,
     "metadata": {},
     "output_type": "execute_result"
    },
    {
     "data": {
      "image/png": "[encoded data removed]",
      "text/plain": [
       "<Figure size 432x288 with 1 Axes>"
      ]
     },
     "metadata": {
      "needs_background": "light"
     },
     "output_type": "display_data"
    }
   ],
   "source": [
    "plt.plot(odist,elev2020,label='2020')\n",
    "plt.plot(odist,elev2021,label='2021')\n",
    "plt.plot(odist,elev2022,label='2022')\n",
    "plt.legend()"
   ]
  },
  {
   "cell_type": "code",
   "execution_count": 6,
   "id": "e996e427",
   "metadata": {},
   "outputs": [
    {
     "data": {
      "text/plain": [
       "[<matplotlib.lines.Line2D at 0x1e62488d0f0>]"
      ]
     },
     "execution_count": 6,
     "metadata": {},
     "output_type": "execute_result"
    },
    {
     "data": {
      "image/png": "[encoded data removed]",
      "text/plain": [
       "<Figure size 432x288 with 1 Axes>"
      ]
     },
     "metadata": {
      "needs_background": "light"
     },
     "output_type": "display_data"
    }
   ],
   "source": [
    "plt.plot(elev2020)"
   ]
  },
  {
   "cell_type": "code",
   "execution_count": 7,
   "id": "c80de09b",
   "metadata": {},
   "outputs": [
    {
     "data": {
      "text/plain": [
       "<matplotlib.legend.Legend at 0x1e62488ece0>"
      ]
     },
     "execution_count": 7,
     "metadata": {},
     "output_type": "execute_result"
    },
    {
     "data": {
      "image/png": "[encoded data removed]",
      "text/plain": [
       "<Figure size 432x288 with 1 Axes>"
      ]
     },
     "metadata": {
      "needs_background": "light"
     },
     "output_type": "display_data"
    }
   ],
   "source": [
    "plt.plot(odist,slope2020,label='2020')\n",
    "plt.plot(odist,slope2021,label='2021')\n",
    "plt.plot(odist,slope2022,label='2022')\n",
    "plt.ylim([-.1,.1])\n",
    "plt.legend()"
   ]
  },
  {
   "cell_type": "code",
   "execution_count": 8,
   "id": "397c3333",
   "metadata": {},
   "outputs": [],
   "source": [
    "# offshore slope is -0.025"
   ]
  },
  {
   "cell_type": "code",
   "execution_count": 9,
   "id": "c70414d0",
   "metadata": {},
   "outputs": [
    {
     "data": {
      "text/plain": [
       "-0.03209876543209843"
      ]
     },
     "execution_count": 9,
     "metadata": {},
     "output_type": "execute_result"
    }
   ],
   "source": [
    "slope2021[425]"
   ]
  },
  {
   "cell_type": "code",
   "execution_count": 20,
   "id": "fdc13b34",
   "metadata": {},
   "outputs": [
    {
     "data": {
      "text/plain": [
       "[<matplotlib.lines.Line2D at 0x1e625cbca00>]"
      ]
     },
     "execution_count": 20,
     "metadata": {},
     "output_type": "execute_result"
    },
    {
     "data": {
      "image/png": "[encoded data removed]",
      "text/plain": [
       "<Figure size 432x288 with 1 Axes>"
      ]
     },
     "metadata": {
      "needs_background": "light"
     },
     "output_type": "display_data"
    }
   ],
   "source": [
    "# make beach slope\n",
    "f_slope = 0.037\n",
    "beach_slope = 0.037\n",
    "bstart = 550\n",
    "beach_dist = dist.copy()\n",
    "fake_elev2022 = elev2022.copy()\n",
    "fake_elev2022[nstart:]=fake_elev2022[bstart-1]+(beach_dist[bstart:]-beach_dist[nstart-1])*beach_slope\n",
    "fake_elev2021 = elev2021.copy()\n",
    "fake_elev2021[nstart:]=fake_elev2021[bstart-1]+(beach_dist[bstart:]-beach_dist[nstart-1])*beach_slope\n",
    "fake_elev2020 = elev2020.copy()\n",
    "fake_elev2020[nstart:]=fake_elev2020[bstart-1]+(beach_dist[bstart:]-beach_dist[nstart-1])*beach_slope\n",
    "\n",
    "plt.plot(elev2020)\n",
    "plt.plot(elev2021)\n",
    "plt.plot(elev2022)\n",
    "plt.plot(fake_elev2020)\n",
    "plt.plot(fake_elev2021)\n",
    "plt.plot(fake_elev2022)"
   ]
  },
  {
   "cell_type": "code",
   "execution_count": null,
   "id": "02b851ee",
   "metadata": {},
   "outputs": [],
   "source": [
    "# fill offshore missing values for 2020\n",
    "fake_elev2020[0:115]=fake_elev2021[0:115]\n",
    "plt.plot(fake_elev2020[50:150])"
   ]
  },
  {
   "cell_type": "code",
   "execution_count": 90,
   "id": "47b78432",
   "metadata": {},
   "outputs": [
    {
     "name": "stdout",
     "output_type": "stream",
     "text": [
      "dz2020 =  5.478 dx =  219.11999999999998\n",
      "dz2021 =  5.478\n",
      "dz2022 =  5.643000000000001 dx =  225.72000000000003\n"
     ]
    }
   ],
   "source": [
    "# make offshore slope\n",
    "off_slope = 0.025\n",
    "# offshore padding needed\n",
    "print('dz2020 = ', 15+fake_elev2020[0], 'dx = ',(15+fake_elev2020[0]) / off_slope )\n",
    "print('dz2021 = ', 15+fake_elev2021[0])\n",
    "print('dz2022 = ', 15+fake_elev2022[0], 'dx = ',(15+fake_elev2022[0]) / off_slope )"
   ]
  },
  {
   "cell_type": "code",
   "execution_count": 40,
   "id": "eda22508",
   "metadata": {},
   "outputs": [],
   "source": [
    "dxx = np.median(dx)"
   ]
  },
  {
   "cell_type": "code",
   "execution_count": 94,
   "id": "ea6a1511",
   "metadata": {},
   "outputs": [
    {
     "name": "stdout",
     "output_type": "stream",
     "text": [
      "[  0.           0.81521739   1.63043478   2.44565217   3.26086957\n",
      "   4.07608696   4.89130435   5.70652174   6.52173913   7.33695652\n",
      "   8.15217391   8.9673913    9.7826087   10.59782609  11.41304348\n",
      "  12.22826087  13.04347826  13.85869565  14.67391304  15.48913043\n",
      "  16.30434783  17.11956522  17.93478261  18.75        19.56521739\n",
      "  20.38043478  21.19565217  22.01086957  22.82608696  23.64130435\n",
      "  24.45652174  25.27173913  26.08695652  26.90217391  27.7173913\n",
      "  28.5326087   29.34782609  30.16304348  30.97826087  31.79347826\n",
      "  32.60869565  33.42391304  34.23913043  35.05434783  35.86956522\n",
      "  36.68478261  37.5         38.31521739  39.13043478  39.94565217\n",
      "  40.76086957  41.57608696  42.39130435  43.20652174  44.02173913\n",
      "  44.83695652  45.65217391  46.4673913   47.2826087   48.09782609\n",
      "  48.91304348  49.72826087  50.54347826  51.35869565  52.17391304\n",
      "  52.98913043  53.80434783  54.61956522  55.43478261  56.25\n",
      "  57.06521739  57.88043478  58.69565217  59.51086957  60.32608696\n",
      "  61.14130435  61.95652174  62.77173913  63.58695652  64.40217391\n",
      "  65.2173913   66.0326087   66.84782609  67.66304348  68.47826087\n",
      "  69.29347826  70.10869565  70.92391304  71.73913043  72.55434783\n",
      "  73.36956522  74.18478261  75.          75.81521739  76.63043478\n",
      "  77.44565217  78.26086957  79.07608696  79.89130435  80.70652174\n",
      "  81.52173913  82.33695652  83.15217391  83.9673913   84.7826087\n",
      "  85.59782609  86.41304348  87.22826087  88.04347826  88.85869565\n",
      "  89.67391304  90.48913043  91.30434783  92.11956522  92.93478261\n",
      "  93.75        94.56521739  95.38043478  96.19565217  97.01086957\n",
      "  97.82608696  98.64130435  99.45652174 100.27173913 101.08695652\n",
      " 101.90217391 102.7173913  103.5326087  104.34782609 105.16304348\n",
      " 105.97826087 106.79347826 107.60869565 108.42391304 109.23913043\n",
      " 110.05434783 110.86956522 111.68478261 112.5        113.31521739\n",
      " 114.13043478 114.94565217 115.76086957 116.57608696 117.39130435\n",
      " 118.20652174 119.02173913 119.83695652 120.65217391 121.4673913\n",
      " 122.2826087  123.09782609 123.91304348 124.72826087 125.54347826\n",
      " 126.35869565 127.17391304 127.98913043 128.80434783 129.61956522\n",
      " 130.43478261 131.25       132.06521739 132.88043478 133.69565217\n",
      " 134.51086957 135.32608696 136.14130435 136.95652174 137.77173913\n",
      " 138.58695652 139.40217391 140.2173913  141.0326087  141.84782609\n",
      " 142.66304348 143.47826087 144.29347826 145.10869565 145.92391304\n",
      " 146.73913043 147.55434783 148.36956522 149.18478261 150.\n",
      " 150.81521739 151.63043478 152.44565217 153.26086957 154.07608696\n",
      " 154.89130435 155.70652174 156.52173913 157.33695652 158.15217391\n",
      " 158.9673913  159.7826087  160.59782609 161.41304348 162.22826087\n",
      " 163.04347826 163.85869565 164.67391304 165.48913043 166.30434783\n",
      " 167.11956522 167.93478261 168.75       169.56521739 170.38043478\n",
      " 171.19565217 172.01086957 172.82608696 173.64130435 174.45652174\n",
      " 175.27173913 176.08695652 176.90217391 177.7173913  178.5326087\n",
      " 179.34782609 180.16304348 180.97826087 181.79347826 182.60869565\n",
      " 183.42391304 184.23913043 185.05434783 185.86956522 186.68478261\n",
      " 187.5        188.31521739 189.13043478 189.94565217 190.76086957\n",
      " 191.57608696 192.39130435 193.20652174 194.02173913 194.83695652\n",
      " 195.65217391 196.4673913  197.2826087  198.09782609 198.91304348\n",
      " 199.72826087 200.54347826 201.35869565 202.17391304 202.98913043\n",
      " 203.80434783 204.61956522 205.43478261 206.25       207.06521739\n",
      " 207.88043478 208.69565217 209.51086957 210.32608696 211.14130435\n",
      " 211.95652174 212.77173913 213.58695652 214.40217391 215.2173913\n",
      " 216.0326087  216.84782609 217.66304348 218.47826087 219.29347826\n",
      " 220.10869565 220.92391304 221.73913043 222.55434783 223.36956522\n",
      " 224.18478261 225.        ]\n",
      "0.02425933306762322\n",
      "[-15.         -14.98022337 -14.96044674 -14.94067011 -14.92089348\n",
      " -14.90111685 -14.88134022 -14.86156359 -14.84178696 -14.82201033\n",
      " -14.8022337  -14.78245707 -14.76268044 -14.74290381 -14.72312718\n",
      " -14.70335055 -14.68357392 -14.66379729 -14.64402066 -14.62424403\n",
      " -14.6044674  -14.58469077 -14.56491414 -14.5451375  -14.52536087\n",
      " -14.50558424 -14.48580761 -14.46603098 -14.44625435 -14.42647772\n",
      " -14.40670109 -14.38692446 -14.36714783 -14.3473712  -14.32759457\n",
      " -14.30781794 -14.28804131 -14.26826468 -14.24848805 -14.22871142\n",
      " -14.20893479 -14.18915816 -14.16938153 -14.1496049  -14.12982827\n",
      " -14.11005164 -14.09027501 -14.07049838 -14.05072175 -14.03094512\n",
      " -14.01116849 -13.99139186 -13.97161523 -13.9518386  -13.93206197\n",
      " -13.91228534 -13.89250871 -13.87273208 -13.85295545 -13.83317882\n",
      " -13.81340219 -13.79362556 -13.77384893 -13.7540723  -13.73429567\n",
      " -13.71451904 -13.69474241 -13.67496578 -13.65518915 -13.63541251\n",
      " -13.61563588 -13.59585925 -13.57608262 -13.55630599 -13.53652936\n",
      " -13.51675273 -13.4969761  -13.47719947 -13.45742284 -13.43764621\n",
      " -13.41786958 -13.39809295 -13.37831632 -13.35853969 -13.33876306\n",
      " -13.31898643 -13.2992098  -13.27943317 -13.25965654 -13.23987991\n",
      " -13.22010328 -13.20032665 -13.18055002 -13.16077339 -13.14099676\n",
      " -13.12122013 -13.1014435  -13.08166687 -13.06189024 -13.04211361\n",
      " -13.02233698 -13.00256035 -12.98278372 -12.96300709 -12.94323046\n",
      " -12.92345383 -12.9036772  -12.88390057 -12.86412394 -12.84434731\n",
      " -12.82457068 -12.80479405 -12.78501742 -12.76524079 -12.74546416\n",
      " -12.72568752 -12.70591089 -12.68613426 -12.66635763 -12.646581\n",
      " -12.62680437 -12.60702774 -12.58725111 -12.56747448 -12.54769785\n",
      " -12.52792122 -12.50814459 -12.48836796 -12.46859133 -12.4488147\n",
      " -12.42903807 -12.40926144 -12.38948481 -12.36970818 -12.34993155\n",
      " -12.33015492 -12.31037829 -12.29060166 -12.27082503 -12.2510484\n",
      " -12.23127177 -12.21149514 -12.19171851 -12.17194188 -12.15216525\n",
      " -12.13238862 -12.11261199 -12.09283536 -12.07305873 -12.0532821\n",
      " -12.03350547 -12.01372884 -11.99395221 -11.97417558 -11.95439895\n",
      " -11.93462232 -11.91484569 -11.89506906 -11.87529243 -11.8555158\n",
      " -11.83573917 -11.81596253 -11.7961859  -11.77640927 -11.75663264\n",
      " -11.73685601 -11.71707938 -11.69730275 -11.67752612 -11.65774949\n",
      " -11.63797286 -11.61819623 -11.5984196  -11.57864297 -11.55886634\n",
      " -11.53908971 -11.51931308 -11.49953645 -11.47975982 -11.45998319\n",
      " -11.44020656 -11.42042993 -11.4006533  -11.38087667 -11.36110004\n",
      " -11.34132341 -11.32154678 -11.30177015 -11.28199352 -11.26221689\n",
      " -11.24244026 -11.22266363 -11.202887   -11.18311037 -11.16333374\n",
      " -11.14355711 -11.12378048 -11.10400385 -11.08422722 -11.06445059\n",
      " -11.04467396 -11.02489733 -11.0051207  -10.98534407 -10.96556744\n",
      " -10.94579081 -10.92601418 -10.90623754 -10.88646091 -10.86668428\n",
      " -10.84690765 -10.82713102 -10.80735439 -10.78757776 -10.76780113\n",
      " -10.7480245  -10.72824787 -10.70847124 -10.68869461 -10.66891798\n",
      " -10.64914135 -10.62936472 -10.60958809 -10.58981146 -10.57003483\n",
      " -10.5502582  -10.53048157 -10.51070494 -10.49092831 -10.47115168\n",
      " -10.45137505 -10.43159842 -10.41182179 -10.39204516 -10.37226853\n",
      " -10.3524919  -10.33271527 -10.31293864 -10.29316201 -10.27338538\n",
      " -10.25360875 -10.23383212 -10.21405549 -10.19427886 -10.17450223\n",
      " -10.1547256  -10.13494897 -10.11517234 -10.09539571 -10.07561908\n",
      " -10.05584245 -10.03606582 -10.01628919  -9.99651255  -9.97673592\n",
      "  -9.95695929  -9.93718266  -9.91740603  -9.8976294   -9.87785277\n",
      "  -9.85807614  -9.83829951  -9.81852288  -9.79874625  -9.77896962\n",
      "  -9.75919299  -9.73941636  -9.71963973  -9.6998631   -9.68008647\n",
      "  -9.66030984  -9.64053321  -9.62075658  -9.60097995  -9.58120332\n",
      "  -9.56142669  -9.54165006]\n",
      "-9.522\n"
     ]
    }
   ],
   "source": [
    "xx = 225\n",
    "off_dist = np.linspace(0.,xx,int(xx/dxx))\n",
    "print(off_dist)\n",
    "off_slope2021 = (15+fake_elev2021[0])/(xx+dxx)\n",
    "off_elev2021 = -15+off_dist*off_slope2021\n",
    "print(off_slope2021)\n",
    "print(off_elev2021)\n",
    "print(fake_elev2021[0])"
   ]
  },
  {
   "cell_type": "code",
   "execution_count": 95,
   "id": "9efd14f4",
   "metadata": {},
   "outputs": [
    {
     "name": "stdout",
     "output_type": "stream",
     "text": [
      "0.024990035870864888\n",
      "[-15.         -14.97962769 -14.95925538 -14.93888306 -14.91851075\n",
      " -14.89813844 -14.87776613 -14.85739382 -14.83702151 -14.81664919\n",
      " -14.79627688 -14.77590457 -14.75553226 -14.73515995 -14.71478763\n",
      " -14.69441532 -14.67404301 -14.6536707  -14.63329839 -14.61292607\n",
      " -14.59255376 -14.57218145 -14.55180914 -14.53143683 -14.51106452\n",
      " -14.4906922  -14.47031989 -14.44994758 -14.42957527 -14.40920296\n",
      " -14.38883064 -14.36845833 -14.34808602 -14.32771371 -14.3073414\n",
      " -14.28696909 -14.26659677 -14.24622446 -14.22585215 -14.20547984\n",
      " -14.18510753 -14.16473521 -14.1443629  -14.12399059 -14.10361828\n",
      " -14.08324597 -14.06287365 -14.04250134 -14.02212903 -14.00175672\n",
      " -13.98138441 -13.9610121  -13.94063978 -13.92026747 -13.89989516\n",
      " -13.87952285 -13.85915054 -13.83877822 -13.81840591 -13.7980336\n",
      " -13.77766129 -13.75728898 -13.73691667 -13.71654435 -13.69617204\n",
      " -13.67579973 -13.65542742 -13.63505511 -13.61468279 -13.59431048\n",
      " -13.57393817 -13.55356586 -13.53319355 -13.51282123 -13.49244892\n",
      " -13.47207661 -13.4517043  -13.43133199 -13.41095968 -13.39058736\n",
      " -13.37021505 -13.34984274 -13.32947043 -13.30909812 -13.2887258\n",
      " -13.26835349 -13.24798118 -13.22760887 -13.20723656 -13.18686425\n",
      " -13.16649193 -13.14611962 -13.12574731 -13.105375   -13.08500269\n",
      " -13.06463037 -13.04425806 -13.02388575 -13.00351344 -12.98314113\n",
      " -12.96276881 -12.9423965  -12.92202419 -12.90165188 -12.88127957\n",
      " -12.86090726 -12.84053494 -12.82016263 -12.79979032 -12.77941801\n",
      " -12.7590457  -12.73867338 -12.71830107 -12.69792876 -12.67755645\n",
      " -12.65718414 -12.63681183 -12.61643951 -12.5960672  -12.57569489\n",
      " -12.55532258 -12.53495027 -12.51457795 -12.49420564 -12.47383333\n",
      " -12.45346102 -12.43308871 -12.41271639 -12.39234408 -12.37197177\n",
      " -12.35159946 -12.33122715 -12.31085484 -12.29048252 -12.27011021\n",
      " -12.2497379  -12.22936559 -12.20899328 -12.18862096 -12.16824865\n",
      " -12.14787634 -12.12750403 -12.10713172 -12.08675941 -12.06638709\n",
      " -12.04601478 -12.02564247 -12.00527016 -11.98489785 -11.96452553\n",
      " -11.94415322 -11.92378091 -11.9034086  -11.88303629 -11.86266397\n",
      " -11.84229166 -11.82191935 -11.80154704 -11.78117473 -11.76080242\n",
      " -11.7404301  -11.72005779 -11.69968548 -11.67931317 -11.65894086\n",
      " -11.63856854 -11.61819623 -11.59782392 -11.57745161 -11.5570793\n",
      " -11.53670699 -11.51633467 -11.49596236 -11.47559005 -11.45521774\n",
      " -11.43484543 -11.41447311 -11.3941008  -11.37372849 -11.35335618\n",
      " -11.33298387 -11.31261155 -11.29223924 -11.27186693 -11.25149462\n",
      " -11.23112231 -11.21075    -11.19037768 -11.17000537 -11.14963306\n",
      " -11.12926075 -11.10888844 -11.08851612 -11.06814381 -11.0477715\n",
      " -11.02739919 -11.00702688 -10.98665457 -10.96628225 -10.94590994\n",
      " -10.92553763 -10.90516532 -10.88479301 -10.86442069 -10.84404838\n",
      " -10.82367607 -10.80330376 -10.78293145 -10.76255913 -10.74218682\n",
      " -10.72181451 -10.7014422  -10.68106989 -10.66069758 -10.64032526\n",
      " -10.61995295 -10.59958064 -10.57920833 -10.55883602 -10.5384637\n",
      " -10.51809139 -10.49771908 -10.47734677 -10.45697446 -10.43660215\n",
      " -10.41622983 -10.39585752 -10.37548521 -10.3551129  -10.33474059\n",
      " -10.31436827 -10.29399596 -10.27362365 -10.25325134 -10.23287903\n",
      " -10.21250671 -10.1921344  -10.17176209 -10.15138978 -10.13101747\n",
      " -10.11064516 -10.09027284 -10.06990053 -10.04952822 -10.02915591\n",
      " -10.0087836   -9.98841128  -9.96803897  -9.94766666  -9.92729435\n",
      "  -9.90692204  -9.88654973  -9.86617741  -9.8458051   -9.82543279\n",
      "  -9.80506048  -9.78468817  -9.76431585  -9.74394354  -9.72357123\n",
      "  -9.70319892  -9.68282661  -9.66245429  -9.64208198  -9.62170967\n",
      "  -9.60133736  -9.58096505  -9.56059274  -9.54022042  -9.51984811\n",
      "  -9.4994758   -9.47910349  -9.45873118  -9.43835886  -9.41798655\n",
      "  -9.39761424  -9.37724193]\n",
      "-9.357\n"
     ]
    }
   ],
   "source": [
    "off_slope2022 = (15+fake_elev2022[0])/(xx+dxx)\n",
    "off_elev2022 = -15+off_dist*off_slope2022\n",
    "print(off_slope2022)\n",
    "print(off_elev2022)\n",
    "print(fake_elev2022[0])"
   ]
  },
  {
   "cell_type": "code",
   "execution_count": 97,
   "id": "d83feb71",
   "metadata": {},
   "outputs": [],
   "source": [
    "full_dist = np.concatenate( ( off_dist, (dist + dxx + off_dist[-1])) )"
   ]
  },
  {
   "cell_type": "code",
   "execution_count": 98,
   "id": "2c4ad3fe",
   "metadata": {},
   "outputs": [],
   "source": [
    "full_2022_elev = np.concatenate( (off_elev2022, fake_elev2022) ) \n",
    "full_2021_elev = np.concatenate( (off_elev2021, fake_elev2021) ) \n",
    "full_2020_elev = np.concatenate( (off_elev2021, fake_elev2020) )"
   ]
  },
  {
   "cell_type": "code",
   "execution_count": 101,
   "id": "9cf4bef6",
   "metadata": {},
   "outputs": [
    {
     "data": {
      "text/plain": [
       "<matplotlib.legend.Legend at 0x1e625e9e140>"
      ]
     },
     "execution_count": 101,
     "metadata": {},
     "output_type": "execute_result"
    },
    {
     "data": {
      "image/png": "[encoded data removed]",
      "text/plain": [
       "<Figure size 432x288 with 1 Axes>"
      ]
     },
     "metadata": {
      "needs_background": "light"
     },
     "output_type": "display_data"
    }
   ],
   "source": [
    "plt.plot(full_dist, full_2020_elev,label='2020')\n",
    "plt.plot(full_dist, full_2021_elev,label='2021')\n",
    "plt.plot(full_dist, full_2022_elev,label='2022')\n",
    "plt.xlabel('Cross-shore Distance (m)')\n",
    "plt.ylabel('Elevation (m NAVD88)')\n",
    "plt.legend()"
   ]
  },
  {
   "cell_type": "code",
   "execution_count": 128,
   "id": "8644d2d2",
   "metadata": {},
   "outputs": [
    {
     "name": "stdout",
     "output_type": "stream",
     "text": [
      "npts= 24\n",
      "(1301,)\n",
      "(1301,)\n"
     ]
    },
    {
     "data": {
      "text/plain": [
       "array([ -7.44561427,  -8.06072595,  -8.67501361,  -9.28847724,\n",
       "        -9.90111685, -10.51293243, -11.12392398, -11.73409151,\n",
       "       -12.34343501, -12.95195449, -13.55964993])"
      ]
     },
     "execution_count": 128,
     "metadata": {},
     "output_type": "execute_result"
    }
   ],
   "source": [
    "# Want to smooth over about N meters...how many points is that for the filter window?\n",
    "nmeters = 20.\n",
    "npts = int(nmeters/dxx)\n",
    "print('npts=',npts)\n",
    "print(np.shape(full_2020_elev))\n",
    "def smooth(y, box_pts):\n",
    "    box = np.ones(box_pts)/box_pts\n",
    "    y_smooth = np.convolve(y, box, mode='same')\n",
    "    return y_smooth\n",
    "\n",
    "e2020 = smooth(full_2020_elev, npts)\n",
    "e2021 = smooth(full_2021_elev, npts)\n",
    "e2022 = smooth(full_2022_elev, npts)\n",
    "\n",
    "print(np.shape(e2020))\n",
    "e2020[0:11]"
   ]
  },
  {
   "cell_type": "code",
   "execution_count": 127,
   "id": "876b655b",
   "metadata": {},
   "outputs": [
    {
     "data": {
      "text/plain": [
       "<matplotlib.legend.Legend at 0x1e625d4c520>"
      ]
     },
     "execution_count": 127,
     "metadata": {},
     "output_type": "execute_result"
    },
    {
     "data": {
      "image/png": "[encoded data removed]",
      "text/plain": [
       "<Figure size 432x288 with 1 Axes>"
      ]
     },
     "metadata": {
      "needs_background": "light"
     },
     "output_type": "display_data"
    }
   ],
   "source": [
    "plt.plot(full_dist, e2020,label='2020')\n",
    "plt.plot(full_dist, e2021,label='2021')\n",
    "plt.plot(full_dist, e2022,label='2022')\n",
    "plt.xlabel('Cross-shore Distance (m)')\n",
    "plt.ylabel('Elevation (m NAVD88)')\n",
    "plt.legend()"
   ]
  },
  {
   "cell_type": "code",
   "execution_count": 150,
   "id": "ccc40cc3",
   "metadata": {},
   "outputs": [
    {
     "data": {
      "text/plain": [
       "<matplotlib.legend.Legend at 0x1e626cac100>"
      ]
     },
     "execution_count": 150,
     "metadata": {},
     "output_type": "execute_result"
    },
    {
     "data": {
      "image/png": "[encoded data removed]",
      "text/plain": [
       "<Figure size 432x288 with 1 Axes>"
      ]
     },
     "metadata": {
      "needs_background": "light"
     },
     "output_type": "display_data"
    }
   ],
   "source": [
    "# Want to smooth over about N meters...how many points is that for the filter window?\n",
    "nmeters = 20.\n",
    "npts = int(nmeters/dxx)\n",
    "# npts must be odd\n",
    "if (npts % 2) == 0:\n",
    "    npts = npts+1\n",
    "\n",
    "# smooth with Savitsky-Golay filter\n",
    "e2020 = savgol_filter(full_2020_elev, npts, 3, mode='constant',cval=np.nan) # window size npts, polynomial order 3\n",
    "e2021 = savgol_filter(full_2021_elev, npts, 3, mode='constant',cval=np.nan) # window size npts, polynomial order 3\n",
    "e2022 = savgol_filter(full_2022_elev, npts, 3, mode='constant',cval=np.nan) # window size npts, polynomial order 3\n",
    "\n",
    "#fix the ends...these have constant slopes, so just replace with unfiltered data\n",
    "nbad = int(npts/2)\n",
    "e2020[0:nbad]=full_2020_elev[0:nbad]\n",
    "e2020[-(nbad+1):]=full_2020_elev[-(nbad+1):]\n",
    "e2021[0:nbad]=full_2021_elev[0:nbad]\n",
    "e2021[-(nbad+1):]=full_2021_elev[-(nbad+1):]\n",
    "e2022[0:nbad]=full_2022_elev[0:nbad]\n",
    "e2022[-(nbad+1):]=full_2022_elev[-(nbad+1):]\n",
    "\n",
    "plt.plot(full_dist, e2020,label='2020')\n",
    "plt.plot(full_dist, e2021,label='2021')\n",
    "plt.plot(full_dist, e2022,label='2022')\n",
    "plt.xlabel('Cross-shore Distance (m)')\n",
    "plt.ylabel('Elevation (m NAVD88)')\n",
    "plt.legend()"
   ]
  },
  {
   "cell_type": "code",
   "execution_count": 151,
   "id": "bb3684ba",
   "metadata": {},
   "outputs": [
    {
     "data": {
      "text/plain": [
       "0"
      ]
     },
     "execution_count": 151,
     "metadata": {},
     "output_type": "execute_result"
    }
   ],
   "source": [
    "np.sum(np.isnan(e2020+e2021+e2022))"
   ]
  },
  {
   "cell_type": "code",
   "execution_count": 152,
   "id": "9293968d",
   "metadata": {},
   "outputs": [
    {
     "data": {
      "text/plain": [
       "[<matplotlib.lines.Line2D at 0x1e62895ae30>]"
      ]
     },
     "execution_count": 152,
     "metadata": {},
     "output_type": "execute_result"
    },
    {
     "data": {
      "image/png": "[encoded data removed]",
      "text/plain": [
       "<Figure size 432x288 with 1 Axes>"
      ]
     },
     "metadata": {
      "needs_background": "light"
     },
     "output_type": "display_data"
    }
   ],
   "source": [
    "# Determine model grid and interpolate at model dxm\n",
    "dxm = 0.5\n",
    "xstart = 0.\n",
    "xend = 1000.\n",
    "xm = np.arange(xstart, xend+dxm, dxm)\n",
    "\n",
    "f2020 = interp1d(full_dist, e2020)\n",
    "em2020 = f2020(xm)\n",
    "\n",
    "f2021 = interp1d(full_dist, e2021)\n",
    "em2021 = f2021(xm)\n",
    "\n",
    "f2022 = interp1d(full_dist, e2022)\n",
    "em2022 = f2022(xm)\n",
    "\n",
    "plt.plot(xm, em2020,label='2020')\n",
    "plt.plot(xm, em2021,label='2021')\n",
    "plt.plot(xm, em2022,label='2022')\n",
    "plt.xlabel('Cross-shore Distance (m)')\n",
    "plt.ylabel('Elevation (m NAVD88)')\n",
    "plt.legend()"
   ]
  },
  {
   "cell_type": "code",
   "execution_count": 158,
   "id": "dbe97ea0",
   "metadata": {},
   "outputs": [],
   "source": [
    "np.savetxt('D:/crs/proj/2022_SWASH/HoM/hom2020.bot', em2020, fmt='%.3f', delimiter=\",\")\n",
    "np.savetxt('D:/crs/proj/2022_SWASH/HoM/hom2021.bot', em2021, fmt='%.3f', delimiter=\",\")\n",
    "np.savetxt('D:/crs/proj/2022_SWASH/HoM/hom2022.bot', em2022, fmt='%.3f', delimiter=\",\")"
   ]
  }
 ],
 "metadata": {
  "kernelspec": {
   "display_name": "Python 3 (ipykernel)",
   "language": "python",
   "name": "python3"
  },
  "language_info": {
   "codemirror_mode": {
    "name": "ipython",
    "version": 3
   },
   "file_extension": ".py",
   "mimetype": "text/x-python",
   "name": "python",
   "nbconvert_exporter": "python",
   "pygments_lexer": "ipython3",
   "version": "3.9.13"
  }
 },
 "nbformat": 4,
 "nbformat_minor": 5
}

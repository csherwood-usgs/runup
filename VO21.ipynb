{
 "cells": [
  {
   "cell_type": "code",
   "execution_count": 1,
   "id": "9d1eb4ba",
   "metadata": {},
   "outputs": [],
   "source": [
    "# Test van Ormondt runup\n",
    "import numpy as np\n",
    "import pandas as pd\n",
    "import matplotlib.pyplot as plt\n",
    "%run -i runup_funcs.py\n",
    "%run -i wave_funcs.py \n",
    "drv, _ = which_computer()"
   ]
  },
  {
   "cell_type": "code",
   "execution_count": 2,
   "id": "914ef314",
   "metadata": {},
   "outputs": [],
   "source": [
    "# conditions for 95th HoLo per Alfredo email\n",
    "Hs95=2.61\n",
    "Tp95=9.35\n",
    "Bf = [.052, .103, .153]"
   ]
  },
  {
   "cell_type": "code",
   "execution_count": 3,
   "id": "36927cb6",
   "metadata": {},
   "outputs": [
    {
     "data": {
      "text/html": [
       "<div>\n",
       "<style scoped>\n",
       "    .dataframe tbody tr th:only-of-type {\n",
       "        vertical-align: middle;\n",
       "    }\n",
       "\n",
       "    .dataframe tbody tr th {\n",
       "        vertical-align: top;\n",
       "    }\n",
       "\n",
       "    .dataframe thead th {\n",
       "        text-align: right;\n",
       "    }\n",
       "</style>\n",
       "<table border=\"1\" class=\"dataframe\">\n",
       "  <thead>\n",
       "    <tr style=\"text-align: right;\">\n",
       "      <th></th>\n",
       "      <th>pno</th>\n",
       "      <th>lon</th>\n",
       "      <th>lat</th>\n",
       "      <th>bslope</th>\n",
       "      <th>nsslope</th>\n",
       "      <th>a</th>\n",
       "      <th>rmse</th>\n",
       "    </tr>\n",
       "  </thead>\n",
       "  <tbody>\n",
       "    <tr>\n",
       "      <th>count</th>\n",
       "      <td>70.000000</td>\n",
       "      <td>70.000000</td>\n",
       "      <td>70.000000</td>\n",
       "      <td>70.000000</td>\n",
       "      <td>70.000000</td>\n",
       "      <td>70.000000</td>\n",
       "      <td>70.000000</td>\n",
       "    </tr>\n",
       "    <tr>\n",
       "      <th>mean</th>\n",
       "      <td>3612.014286</td>\n",
       "      <td>-70.018529</td>\n",
       "      <td>41.919279</td>\n",
       "      <td>0.097407</td>\n",
       "      <td>0.015050</td>\n",
       "      <td>0.129914</td>\n",
       "      <td>0.242286</td>\n",
       "    </tr>\n",
       "    <tr>\n",
       "      <th>std</th>\n",
       "      <td>23.027075</td>\n",
       "      <td>0.091703</td>\n",
       "      <td>0.135975</td>\n",
       "      <td>0.041468</td>\n",
       "      <td>0.006132</td>\n",
       "      <td>0.041188</td>\n",
       "      <td>0.155444</td>\n",
       "    </tr>\n",
       "    <tr>\n",
       "      <th>min</th>\n",
       "      <td>3573.000000</td>\n",
       "      <td>-70.245000</td>\n",
       "      <td>41.671400</td>\n",
       "      <td>0.021200</td>\n",
       "      <td>0.003700</td>\n",
       "      <td>0.064000</td>\n",
       "      <td>0.010000</td>\n",
       "    </tr>\n",
       "    <tr>\n",
       "      <th>25%</th>\n",
       "      <td>3592.250000</td>\n",
       "      <td>-70.077000</td>\n",
       "      <td>41.798875</td>\n",
       "      <td>0.074575</td>\n",
       "      <td>0.011850</td>\n",
       "      <td>0.096000</td>\n",
       "      <td>0.130000</td>\n",
       "    </tr>\n",
       "    <tr>\n",
       "      <th>50%</th>\n",
       "      <td>3612.500000</td>\n",
       "      <td>-69.985000</td>\n",
       "      <td>41.945200</td>\n",
       "      <td>0.089350</td>\n",
       "      <td>0.014350</td>\n",
       "      <td>0.129000</td>\n",
       "      <td>0.210000</td>\n",
       "    </tr>\n",
       "    <tr>\n",
       "      <th>75%</th>\n",
       "      <td>3630.750000</td>\n",
       "      <td>-69.937500</td>\n",
       "      <td>42.050125</td>\n",
       "      <td>0.118875</td>\n",
       "      <td>0.017100</td>\n",
       "      <td>0.149750</td>\n",
       "      <td>0.347500</td>\n",
       "    </tr>\n",
       "    <tr>\n",
       "      <th>max</th>\n",
       "      <td>3653.000000</td>\n",
       "      <td>-69.929000</td>\n",
       "      <td>42.080800</td>\n",
       "      <td>0.262200</td>\n",
       "      <td>0.047800</td>\n",
       "      <td>0.233000</td>\n",
       "      <td>0.690000</td>\n",
       "    </tr>\n",
       "  </tbody>\n",
       "</table>\n",
       "</div>"
      ],
      "text/plain": [
       "               pno        lon        lat     bslope    nsslope          a  \\\n",
       "count    70.000000  70.000000  70.000000  70.000000  70.000000  70.000000   \n",
       "mean   3612.014286 -70.018529  41.919279   0.097407   0.015050   0.129914   \n",
       "std      23.027075   0.091703   0.135975   0.041468   0.006132   0.041188   \n",
       "min    3573.000000 -70.245000  41.671400   0.021200   0.003700   0.064000   \n",
       "25%    3592.250000 -70.077000  41.798875   0.074575   0.011850   0.096000   \n",
       "50%    3612.500000 -69.985000  41.945200   0.089350   0.014350   0.129000   \n",
       "75%    3630.750000 -69.937500  42.050125   0.118875   0.017100   0.149750   \n",
       "max    3653.000000 -69.929000  42.080800   0.262200   0.047800   0.233000   \n",
       "\n",
       "            rmse  \n",
       "count  70.000000  \n",
       "mean    0.242286  \n",
       "std     0.155444  \n",
       "min     0.010000  \n",
       "25%     0.130000  \n",
       "50%     0.210000  \n",
       "75%     0.347500  \n",
       "max     0.690000  "
      ]
     },
     "execution_count": 3,
     "metadata": {},
     "output_type": "execute_result"
    }
   ],
   "source": [
    "# Read in Dean parameters fit to Cape Cod profiles in fit_Dean_parameter.m\n",
    "csv = drv+'crs/proj/2022_Runup/cape_dean_params.csv'\n",
    "colnames = ['pno','lon','lat','bslope','nsslope','a','rmse']\n",
    "df = pd.read_csv(csv, header=None, names = colnames)\n",
    "df.describe()"
   ]
  },
  {
   "cell_type": "code",
   "execution_count": 4,
   "id": "86ffdb24",
   "metadata": {},
   "outputs": [],
   "source": [
    "bslope = df['bslope'].values\n",
    "a = df['a'].values"
   ]
  },
  {
   "cell_type": "code",
   "execution_count": 5,
   "id": "a2868390",
   "metadata": {},
   "outputs": [
    {
     "name": "stdout",
     "output_type": "stream",
     "text": [
      "[0.08  0.087 0.071 0.079 0.116 0.073 0.094 0.092 0.092 0.107 0.099 0.137\n",
      " 0.136 0.106 0.129 0.103 0.153 0.101 0.093 0.102 0.1   0.097 0.137 0.189\n",
      " 0.144 0.137 0.14  0.129 0.133 0.131 0.148 0.169 0.191 0.211 0.149 0.119\n",
      " 0.129 0.122 0.064 0.129 0.143 0.233 0.181 0.184 0.13  0.195 0.168 0.211\n",
      " 0.174 0.216 0.126 0.204 0.201 0.169 0.148 0.105 0.098 0.095 0.087 0.092\n",
      " 0.086 0.086 0.079 0.096 0.096 0.094 0.116 0.132 0.181 0.15 ]\n"
     ]
    }
   ],
   "source": [
    "print(a)"
   ]
  },
  {
   "cell_type": "code",
   "execution_count": 6,
   "id": "b0cb3f71",
   "metadata": {},
   "outputs": [
    {
     "name": "stdout",
     "output_type": "stream",
     "text": [
      "Hs95: 2.61  Tp95: 9.35\n",
      "Lo95:  136.49362275214648\n"
     ]
    }
   ],
   "source": [
    "# Use 95% wave height and period, calculate range of runup based on dean profile\n",
    "# Use constant median slope\n",
    "s06r2 = np.nan*np.ones_like(bslope)\n",
    "Vo21r2 = np.nan*np.ones_like(bslope)\n",
    "print('Hs95: {}  Tp95: {}'.format(Hs95,Tp95))\n",
    "Lo95 = calc_L0(Tp95)\n",
    "print('Lo95: ',Lo95)\n",
    "\n",
    "for i, ai in enumerate(a):\n",
    "    Vo21r2[i] = VO21( Hs95, Tp95, ai, Bf[1])\n",
    "    s06r2[i] = S06(Hs95, Lo95, Bf[1] )"
   ]
  },
  {
   "cell_type": "code",
   "execution_count": 7,
   "id": "f5a27356",
   "metadata": {},
   "outputs": [],
   "source": [
    "# Use 95% wave height and period, calculate range of runup based on dean profile\n",
    "# Use all of the slopes\n",
    "s06r2s = np.nan*np.ones_like(bslope)\n",
    "Vo21r2s = np.nan*np.ones_like(bslope)\n",
    "for i, (ai,bs) in enumerate(zip(a,bslope)):\n",
    "    Vo21r2s[i] = VO21( Hs95, Tp95, ai, bs)\n",
    "    s06r2s[i] = S06(Hs95, Lo95, bs )"
   ]
  },
  {
   "cell_type": "code",
   "execution_count": 8,
   "id": "0bdd3cb1",
   "metadata": {},
   "outputs": [
    {
     "data": {
      "image/png": "[encoded data removed]",
      "text/plain": [
       "<Figure size 432x288 with 1 Axes>"
      ]
     },
     "metadata": {
      "needs_background": "light"
     },
     "output_type": "display_data"
    }
   ],
   "source": [
    "# Stack them together for boxplot\n",
    "res = np.vstack((Vo21r2, s06r2, Vo21r2s, s06r2s)).T\n",
    "#plt.title('Constant and Variable Beach Slope')\n",
    "plt.boxplot(res, notch=True)\n",
    "plt.plot([2.5, 2.5],[1.0,4.0],'--',c='gray')\n",
    "#plt.ylim([0,1.5])\n",
    "plt.ylabel('Runup (m)', fontsize=14)\n",
    "plt.xticks([1,2,3,4], ['VO21','S06','V021','S06'])\n",
    "plt.xlabel(r'Constant $\\beta_f$      |     Observed $\\beta_f$',fontsize=14)\n",
    "plt.savefig(drv+'crs/proj/2022_runup/VO21_bar_fixed_slope_runup_boxplot.png', dpi=200)"
   ]
  }
 ],
 "metadata": {
  "kernelspec": {
   "display_name": "Python 3 (ipykernel)",
   "language": "python",
   "name": "python3"
  },
  "language_info": {
   "codemirror_mode": {
    "name": "ipython",
    "version": 3
   },
   "file_extension": ".py",
   "mimetype": "text/x-python",
   "name": "python",
   "nbconvert_exporter": "python",
   "pygments_lexer": "ipython3",
   "version": "3.10.4"
  }
 },
 "nbformat": 4,
 "nbformat_minor": 5
}

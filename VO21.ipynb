{
 "cells": [
  {
   "cell_type": "code",
   "execution_count": 6,
   "id": "9d1eb4ba",
   "metadata": {},
   "outputs": [],
   "source": [
    "# Test van Ormondt runup\n",
    "import numpy as np\n",
    "import pandas as pd\n",
    "import matplotlib.pyplot as plt\n",
    "%run -i runup_funcs.py\n",
    "%run -i wave_funcs.py \n",
    "drv, _ = which_computer()"
   ]
  },
  {
   "cell_type": "code",
   "execution_count": 8,
   "id": "b0cb3f71",
   "metadata": {},
   "outputs": [
    {
     "name": "stdout",
     "output_type": "stream",
     "text": [
      "1.1542322641540617\n"
     ]
    }
   ],
   "source": [
    "# conditions for 95th HoLo per Alfredo email\n",
    "Hs=2.6139\n",
    "Tp=9.3503\n",
    "Bf = [.052, .103, .153]\n",
    "a = 0.13\n",
    "\n",
    "R2 = VO21( Hs, Tp, a, .1 )\n",
    "print(R2)"
   ]
  }
 ],
 "metadata": {
  "kernelspec": {
   "display_name": "Python 3 (ipykernel)",
   "language": "python",
   "name": "python3"
  },
  "language_info": {
   "codemirror_mode": {
    "name": "ipython",
    "version": 3
   },
   "file_extension": ".py",
   "mimetype": "text/x-python",
   "name": "python",
   "nbconvert_exporter": "python",
   "pygments_lexer": "ipython3",
   "version": "3.9.7"
  }
 },
 "nbformat": 4,
 "nbformat_minor": 5
}

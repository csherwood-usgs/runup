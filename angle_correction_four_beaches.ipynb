{
 "cells": [
  {
   "cell_type": "code",
   "execution_count": 1,
   "id": "4fb2285f",
   "metadata": {},
   "outputs": [],
   "source": [
    "# Investigate angle correction at four beaches\n",
    "import numpy as np\n",
    "import pandas as pd\n",
    "import matplotlib.pyplot as plt\n",
    "%run -i runup_funcs.py\n",
    "\n",
    "drv, _ = which_computer()"
   ]
  },
  {
   "cell_type": "code",
   "execution_count": 11,
   "id": "47093e4c",
   "metadata": {},
   "outputs": [
    {
     "name": "stdout",
     "output_type": "stream",
     "text": [
      "unweighted\n",
      "S06: 1.615 S06c: 1.605 Frac.diff.: 0.994\n",
      "S06: 1.615 S06c: 1.606 Frac.diff.: 0.994\n",
      "S06: 1.615 S06c: 1.573 Frac.diff.: 0.974\n",
      "weighted\n",
      "S06: 1.615 S06c: 1.612 Frac.diff.: 0.998\n",
      "S06: 1.615 S06c: 1.609 Frac.diff.: 0.996\n",
      "S06: 1.615 S06c: 1.604 Frac.diff.: 0.993\n"
     ]
    }
   ],
   "source": [
    "# HoM\n",
    "Hs = 2.11\n",
    "Tp = 9.52\n",
    "az = 32.\n",
    "beta_f = 0.103 # median\n",
    "wavdir = [44.8, 19.8, 57.7]\n",
    "wavdirs = [39.1, 22.2, 45.4]\n",
    "\n",
    "print('unweighted')\n",
    "for an in wavdir:\n",
    "    Hc = ang_corr(Hs, az, an )\n",
    "    R2a = S06( Hs, calc_L0( Tp ), beta_f )\n",
    "    R2b = S06( Hc, calc_L0( Tp ), beta_f )\n",
    "    print('S06: {:.3f} S06c: {:.3f} Frac.diff.: {:.3f}'.format( R2a, R2b, R2b/R2a ))\n",
    "print('weighted')    \n",
    "for an in wavdirs:\n",
    "    Hc = ang_corr(Hs, az, an )\n",
    "    R2a = S06( Hs, calc_L0( Tp ), beta_f )\n",
    "    R2b = S06( Hc, calc_L0( Tp ), beta_f )\n",
    "    print('S06: {:.3f} S06c: {:.3f} Frac.diff.: {:.3f}'.format( R2a, R2b, R2b/R2a ))"
   ]
  },
  {
   "cell_type": "code",
   "execution_count": 12,
   "id": "a2f8c79c",
   "metadata": {},
   "outputs": [
    {
     "name": "stdout",
     "output_type": "stream",
     "text": [
      "unweighted\n",
      "S06: 3.703 S06c: nan Frac.diff.: nan\n",
      "S06: 3.703 S06c: 2.218 Frac.diff.: 0.599\n",
      "S06: 3.703 S06c: nan Frac.diff.: nan\n"
     ]
    },
    {
     "name": "stderr",
     "output_type": "stream",
     "text": [
      "D:\\crs\\src\\runup\\runup_funcs.py:180: RuntimeWarning: invalid value encountered in sqrt\n",
      "  Hc = np.sqrt( np.cos (adiff) *H*H )\n"
     ]
    }
   ],
   "source": [
    "# Marconi\n",
    "Hs = 2.15\n",
    "Tp = 9.7\n",
    "az = 74\n",
    "beta_f = 0.2549 # median\n",
    "\n",
    "wavdir = [179.8, 156.6, 176.6]\n",
    "\n",
    "print('unweighted')\n",
    "for an in wavdir:\n",
    "    Hc = ang_corr(Hs, az, an )\n",
    "    R2a = S06( Hs, calc_L0( Tp ), beta_f )\n",
    "    R2b = S06( Hc, calc_L0( Tp ), beta_f )\n",
    "    print('S06: {:.3f} S06c: {:.3f} Frac.diff.: {:.3f}'.format( R2a, R2b, R2b/R2a ))"
   ]
  },
  {
   "cell_type": "code",
   "execution_count": null,
   "id": "1554f7e2",
   "metadata": {},
   "outputs": [],
   "source": [
    "# Pea Island\n",
    "Hs = 2.11\n",
    "Tp = 9.52\n",
    "az = 32.\n",
    "beta_f = 0.103 # median\n",
    "wavdir = [44.8, 19.8, 57.7]\n",
    "wavdirs = [39.1, 22.2, 45.4]\n",
    "\n",
    "print('unweighted')\n",
    "for an in wavdir:\n",
    "    Hc = ang_corr(Hs, az, an )\n",
    "    R2a = S06( Hs, calc_L0( Tp ), beta_f )\n",
    "    R2b = S06( Hc, calc_L0( Tp ), beta_f )\n",
    "    print('S06: {:.3f} S06c: {:.3f} Frac.diff.: {:.3f}'.format( R2a, R2b, R2b/R2a ))\n",
    "print('weighted')    \n",
    "for an in wavdirs:\n",
    "    Hc = ang_corr(Hs, az, an )\n",
    "    R2a = S06( Hs, calc_L0( Tp ), beta_f )\n",
    "    R2b = S06( Hc, calc_L0( Tp ), beta_f )\n",
    "    print('S06: {:.3f} S06c: {:.3f} Frac.diff.: {:.3f}'.format( R2a, R2b, R2b/R2a ))"
   ]
  }
 ],
 "metadata": {
  "kernelspec": {
   "display_name": "Python 3 (ipykernel)",
   "language": "python",
   "name": "python3"
  },
  "language_info": {
   "codemirror_mode": {
    "name": "ipython",
    "version": 3
   },
   "file_extension": ".py",
   "mimetype": "text/x-python",
   "name": "python",
   "nbconvert_exporter": "python",
   "pygments_lexer": "ipython3",
   "version": "3.9.13"
  }
 },
 "nbformat": 4,
 "nbformat_minor": 5
}

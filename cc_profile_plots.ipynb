{
 "cells": [
  {
   "cell_type": "code",
   "execution_count": 76,
   "id": "f2f487b9",
   "metadata": {},
   "outputs": [],
   "source": [
    "import pandas as pd\n",
    "import numpy as np\n",
    "import matplotlib.pyplot as plt\n",
    "%run -i runup_funcs.py\n",
    "%run -i wave_funcs.py"
   ]
  },
  {
   "cell_type": "code",
   "execution_count": 2,
   "id": "03356927",
   "metadata": {},
   "outputs": [
    {
     "data": {
      "text/html": [
       "<div>\n",
       "<style scoped>\n",
       "    .dataframe tbody tr th:only-of-type {\n",
       "        vertical-align: middle;\n",
       "    }\n",
       "\n",
       "    .dataframe tbody tr th {\n",
       "        vertical-align: top;\n",
       "    }\n",
       "\n",
       "    .dataframe thead th {\n",
       "        text-align: right;\n",
       "    }\n",
       "</style>\n",
       "<table border=\"1\" class=\"dataframe\">\n",
       "  <thead>\n",
       "    <tr style=\"text-align: right;\">\n",
       "      <th></th>\n",
       "      <th>pno</th>\n",
       "      <th>lon</th>\n",
       "      <th>lat</th>\n",
       "      <th>beachslope</th>\n",
       "      <th>nsslope</th>\n",
       "      <th>slz</th>\n",
       "      <th>slx</th>\n",
       "      <th>dlz</th>\n",
       "      <th>dlx</th>\n",
       "      <th>nbars</th>\n",
       "    </tr>\n",
       "  </thead>\n",
       "  <tbody>\n",
       "    <tr>\n",
       "      <th>count</th>\n",
       "      <td>70.000000</td>\n",
       "      <td>70.000000</td>\n",
       "      <td>70.000000</td>\n",
       "      <td>70.000000</td>\n",
       "      <td>70.000000</td>\n",
       "      <td>7.000000e+01</td>\n",
       "      <td>70.000000</td>\n",
       "      <td>70.000000</td>\n",
       "      <td>70.000000</td>\n",
       "      <td>70.000000</td>\n",
       "    </tr>\n",
       "    <tr>\n",
       "      <th>mean</th>\n",
       "      <td>3612.014286</td>\n",
       "      <td>-70.018529</td>\n",
       "      <td>41.919279</td>\n",
       "      <td>0.097407</td>\n",
       "      <td>0.015050</td>\n",
       "      <td>9.800000e-01</td>\n",
       "      <td>1926.591857</td>\n",
       "      <td>4.693714</td>\n",
       "      <td>1977.377571</td>\n",
       "      <td>2.214286</td>\n",
       "    </tr>\n",
       "    <tr>\n",
       "      <th>std</th>\n",
       "      <td>23.027075</td>\n",
       "      <td>0.091703</td>\n",
       "      <td>0.135975</td>\n",
       "      <td>0.041468</td>\n",
       "      <td>0.006132</td>\n",
       "      <td>3.354718e-16</td>\n",
       "      <td>1002.861175</td>\n",
       "      <td>1.187603</td>\n",
       "      <td>996.898588</td>\n",
       "      <td>1.019987</td>\n",
       "    </tr>\n",
       "    <tr>\n",
       "      <th>min</th>\n",
       "      <td>3573.000000</td>\n",
       "      <td>-70.245000</td>\n",
       "      <td>41.671400</td>\n",
       "      <td>0.021200</td>\n",
       "      <td>0.003700</td>\n",
       "      <td>9.800000e-01</td>\n",
       "      <td>284.550000</td>\n",
       "      <td>1.570000</td>\n",
       "      <td>309.550000</td>\n",
       "      <td>0.000000</td>\n",
       "    </tr>\n",
       "    <tr>\n",
       "      <th>25%</th>\n",
       "      <td>3592.250000</td>\n",
       "      <td>-70.077000</td>\n",
       "      <td>41.798875</td>\n",
       "      <td>0.074575</td>\n",
       "      <td>0.011850</td>\n",
       "      <td>9.800000e-01</td>\n",
       "      <td>1409.905000</td>\n",
       "      <td>4.007500</td>\n",
       "      <td>1457.557500</td>\n",
       "      <td>2.000000</td>\n",
       "    </tr>\n",
       "    <tr>\n",
       "      <th>50%</th>\n",
       "      <td>3612.500000</td>\n",
       "      <td>-69.985000</td>\n",
       "      <td>41.945200</td>\n",
       "      <td>0.089350</td>\n",
       "      <td>0.014350</td>\n",
       "      <td>9.800000e-01</td>\n",
       "      <td>1614.870000</td>\n",
       "      <td>4.650000</td>\n",
       "      <td>1654.870000</td>\n",
       "      <td>2.000000</td>\n",
       "    </tr>\n",
       "    <tr>\n",
       "      <th>75%</th>\n",
       "      <td>3630.750000</td>\n",
       "      <td>-69.937500</td>\n",
       "      <td>42.050125</td>\n",
       "      <td>0.118875</td>\n",
       "      <td>0.017100</td>\n",
       "      <td>9.800000e-01</td>\n",
       "      <td>2005.282500</td>\n",
       "      <td>5.437500</td>\n",
       "      <td>2076.547500</td>\n",
       "      <td>3.000000</td>\n",
       "    </tr>\n",
       "    <tr>\n",
       "      <th>max</th>\n",
       "      <td>3653.000000</td>\n",
       "      <td>-69.929000</td>\n",
       "      <td>42.080800</td>\n",
       "      <td>0.262200</td>\n",
       "      <td>0.047800</td>\n",
       "      <td>9.800000e-01</td>\n",
       "      <td>6444.620000</td>\n",
       "      <td>8.070000</td>\n",
       "      <td>6512.120000</td>\n",
       "      <td>5.000000</td>\n",
       "    </tr>\n",
       "  </tbody>\n",
       "</table>\n",
       "</div>"
      ],
      "text/plain": [
       "               pno        lon        lat  beachslope    nsslope           slz  \\\n",
       "count    70.000000  70.000000  70.000000   70.000000  70.000000  7.000000e+01   \n",
       "mean   3612.014286 -70.018529  41.919279    0.097407   0.015050  9.800000e-01   \n",
       "std      23.027075   0.091703   0.135975    0.041468   0.006132  3.354718e-16   \n",
       "min    3573.000000 -70.245000  41.671400    0.021200   0.003700  9.800000e-01   \n",
       "25%    3592.250000 -70.077000  41.798875    0.074575   0.011850  9.800000e-01   \n",
       "50%    3612.500000 -69.985000  41.945200    0.089350   0.014350  9.800000e-01   \n",
       "75%    3630.750000 -69.937500  42.050125    0.118875   0.017100  9.800000e-01   \n",
       "max    3653.000000 -69.929000  42.080800    0.262200   0.047800  9.800000e-01   \n",
       "\n",
       "               slx        dlz          dlx      nbars  \n",
       "count    70.000000  70.000000    70.000000  70.000000  \n",
       "mean   1926.591857   4.693714  1977.377571   2.214286  \n",
       "std    1002.861175   1.187603   996.898588   1.019987  \n",
       "min     284.550000   1.570000   309.550000   0.000000  \n",
       "25%    1409.905000   4.007500  1457.557500   2.000000  \n",
       "50%    1614.870000   4.650000  1654.870000   2.000000  \n",
       "75%    2005.282500   5.437500  2076.547500   3.000000  \n",
       "max    6444.620000   8.070000  6512.120000   5.000000  "
      ]
     },
     "execution_count": 2,
     "metadata": {},
     "output_type": "execute_result"
    }
   ],
   "source": [
    "df = pd.read_csv('C:/crs/proj/2022_runup/cape_profiles.csv', na_values = 'NaN')\n",
    "#df = df.drop(df.columns[[23]], axis=1) # extra column because of final comma\n",
    "df.describe()"
   ]
  },
  {
   "cell_type": "code",
   "execution_count": 3,
   "id": "eeab47ed",
   "metadata": {},
   "outputs": [],
   "source": [
    "lat = df['lat'].values\n",
    "lon = df['lon'].values\n",
    "nb = df['nbars'].values\n",
    "\n",
    "bs1 = df['bs1'].values.astype('float')\n",
    "bz1 = df['bz1'].values.astype('float')\n",
    "bs2 = df['bs2'].values.astype('float')\n",
    "bz2 = df['bz2'].values.astype('float')\n",
    "bs3 = df['bs3'].values.astype('float')\n",
    "bz3 = df['bz3'].values.astype('float')\n",
    "bs4 = df['bs4'].values.astype('float')\n",
    "bz4 = df['bz4'].values.astype('float')\n",
    "bs5 = df['bs5'].values.astype('float')\n",
    "bz5 = df['bz5'].values.astype('float')\n",
    "bx1 = df['bx1'].values.astype('float')\n",
    "bx2 = df['bx2'].values.astype('float')\n",
    "bx3 = df['bx3'].values.astype('float')\n",
    "bx4 = df['bx4'].values.astype('float')\n",
    "bx5 = df['bx5'].values.astype('float')\n",
    "\n",
    "bslope = df['beachslope'].values.astype('float')\n",
    "nsslope = df['nsslope'].values.astype('float')\n",
    "\n",
    "slz = df['slz'].values.astype('float')\n",
    "slx = df['slx'].values.astype('float')\n",
    "dlz = df['dlz'].values.astype('float')\n",
    "dlx = df['dlx'].values.astype('float')"
   ]
  },
  {
   "cell_type": "code",
   "execution_count": 40,
   "id": "f3dee623",
   "metadata": {},
   "outputs": [
    {
     "name": "stdout",
     "output_type": "stream",
     "text": [
      "Bar 1\n",
      "  n, nnan, nvalid:  70 2 68\n",
      "  mean, std, min, max   : 0.020 0.010 0.003 0.047\n",
      "  d5, d25, d50, d75, d95: 0.008 0.013 0.018 0.026 0.037\n",
      "\n",
      "Bar 2\n",
      "  n, nnan, nvalid:  70 14 56\n",
      "  mean, std, min, max   : 0.012 0.003 0.005 0.020\n",
      "  d5, d25, d50, d75, d95: 0.006 0.010 0.012 0.013 0.018\n",
      "\n",
      "Bar 3\n",
      "  n, nnan, nvalid:  70 49 21\n",
      "  mean, std, min, max   : 0.010 0.002 0.005 0.014\n",
      "  d5, d25, d50, d75, d95: 0.006 0.007 0.010 0.012 0.012\n",
      "\n",
      "Bar 4\n",
      "  n, nnan, nvalid:  70 62 8\n",
      "  mean, std, min, max   : 0.008 0.002 0.006 0.012\n",
      "  d5, d25, d50, d75, d95: 0.006 0.007 0.009 0.009 0.011\n",
      "\n",
      "Bar 5\n",
      "  n, nnan, nvalid:  70 68 2\n",
      "  mean, std, min, max   : 0.007 0.001 0.006 0.009\n",
      "  d5, d25, d50, d75, d95: 0.006 0.007 0.007 0.008 0.009\n",
      "\n"
     ]
    }
   ],
   "source": [
    "print('Bar 1')\n",
    "stat_summary(bs1, iprint=True)\n",
    "print()\n",
    "print('Bar 2')\n",
    "stat_summary(bs2, iprint=True)\n",
    "print()\n",
    "print('Bar 3')\n",
    "stat_summary(bs3, iprint=True)\n",
    "print()\n",
    "print('Bar 4')\n",
    "stat_summary(bs4, iprint=True)\n",
    "print()\n",
    "print('Bar 5')\n",
    "stat_summary(bs5, iprint=True)\n",
    "print()"
   ]
  },
  {
   "cell_type": "code",
   "execution_count": 41,
   "id": "984fdf75",
   "metadata": {},
   "outputs": [
    {
     "name": "stdout",
     "output_type": "stream",
     "text": [
      "[0.    0.005 0.01  0.015 0.02  0.025 0.03  0.035 0.04  0.045 0.05 ]\n"
     ]
    },
    {
     "data": {
      "image/png": "[encoded data removed]",
      "text/plain": [
       "<Figure size 432x288 with 1 Axes>"
      ]
     },
     "metadata": {
      "needs_background": "light"
     },
     "output_type": "display_data"
    }
   ],
   "source": [
    "\n",
    "bcols = ['#ffffcc','#a1dab4','#41b6c4','#2c7fb8','#253494']\n",
    "bins = np.arange(0.,.055, .005)\n",
    "print(bins)\n",
    "plt.hist(bs1, alpha = .5, bins = bins, label='Bar 1')\n",
    "plt.hist(bs2, alpha = .5, bins = bins, label='Bar 2')\n",
    "plt.hist(bs3, alpha = .5, bins = bins, label='Bar 3')\n",
    "plt.hist(bs4, alpha = .5, bins = bins, label='Bar 4')\n",
    "# plt.hist(bs1, alpha = .5, bins = bins, color = bcols[1])\n",
    "# plt.hist(bs2, alpha = .5, bins = bins, color = bcols[2])\n",
    "# plt.hist(bs3, alpha = .5, bins = bins, color = bcols[3])\n",
    "# plt.hist(bs4, alpha = .5, bins = bins, color = bcols[4])\n",
    "# plt.hist(bs1, bins = bins, label='Bar 1', histtype='step', linewidth=2.5, color = bcols[1] )\n",
    "# plt.hist(bs2, bins = bins, label='Bar 2', histtype='step', linewidth=2.5, color = bcols[2] )\n",
    "# plt.hist(bs3, bins = bins, label='Bar 3', histtype='step', linewidth=2.5, color = bcols[3] )\n",
    "# plt.hist(bs4, bins = bins, label='Bar 4', histtype='step', linewidth=2.5, color = bcols[4] )\n",
    "plt.xlabel('Bar Slope (tanB)')\n",
    "plt.ylabel('N')\n",
    "plt.legend()\n",
    "# plt.savefig(\"C:/crs/proj/2022_Runup/barslope_hist.svg\", dpi=200)"
   ]
  },
  {
   "cell_type": "code",
   "execution_count": 80,
   "id": "e7877b91",
   "metadata": {},
   "outputs": [
    {
     "name": "stdout",
     "output_type": "stream",
     "text": [
      "0.010000333346667207\n"
     ]
    }
   ],
   "source": [
    "print(np.tan(0.01))"
   ]
  },
  {
   "cell_type": "code",
   "execution_count": 84,
   "id": "87832b33",
   "metadata": {},
   "outputs": [
    {
     "name": "stdout",
     "output_type": "stream",
     "text": [
      "0.1197 0.011 1.863809685205128 1.6525072517897805 1.0098050830118492\n",
      "0.0212 0.013 0.7474992453792526 1.3693058400555964 0.9016957375109396\n",
      "0.047 0.024 0.9960875002115336 1.9583962438773994 1.141397246570936\n",
      "0.0593 0.027 1.129312437136821 2.1438645750319503 1.2122232952399017\n",
      "0.0284 0.015 0.8120100571460981 1.478047369000074 0.9516241959709193\n",
      "0.0566 0.01 1.0993986241936422 1.3144716423504197 0.8580611330580246\n",
      "0.0387 0.021 0.911077107977229 1.7905962570620746 1.0785156683012327\n",
      "0.0774 0.011 1.33797154750546 1.4444188241482374 0.9193418864251389\n",
      "0.0597 0.018 1.1337738094946335 1.711360371317763 1.0546919791078662\n",
      "0.1757 0.019 2.6025748634001267 2.3605980457902627 1.4189017143784435\n",
      "0.0851 0.023 1.4303402752018703 2.0574490164616392 1.2068070742089594\n",
      "0.0804 0.031 1.3737362329213174 2.4219294357359993 1.3259974787273743\n",
      "0.132 0.029 2.0231363105888955 2.588030519917445 1.470738263895916\n",
      "0.0921 0.03 1.5158272840691607 2.4276726733068763 1.345942902206135\n",
      "0.0944 0.02 1.5441990103049472 1.956629901731707 1.17342444018998\n",
      "0.0666 0.019 1.2118688229642263 1.7856555392424909 1.0877226491977559\n",
      "0.0745 0.026 1.303688268287701 2.155380805082256 1.2315436694969777\n",
      "0.0477 0.039 1.0034487295703423 2.683412505869971 1.3507075707603158\n",
      "0.0807 0.009 1.3773287992976557 1.3624100827472514 0.863441386554682\n",
      "0.108 0.011 1.7144516187408554 1.5907051701758574 0.9820458435020946\n",
      "0.0899 0.016 1.4888162441669435 1.742206111911333 1.0744118442323805\n",
      "0.0753 0.013 1.3131164101850614 1.5318778875200159 0.9699353486944673\n",
      "0.0893 0.022 1.4814718616102966 2.028724010098761 1.1993127373401966\n",
      "0.0795 0.019 1.3629758645946435 1.8394258105797563 1.1156052836411254\n",
      "0.1117 0.024 1.7614246923105734 2.236901940919921 1.3044797122771823\n",
      "0.1383 0.035 2.105513104533212 2.912638964181767 1.6004330365954478\n",
      "0.0892 0.025 1.4802487423377275 2.1728988732293932 1.2539897439773042\n",
      "0.113 0.047 1.7779880535038024 3.351846224514868 1.6629227838299439\n",
      "0.0894 0.03 1.4826952515745786 2.414864905299215 1.337535871493944\n",
      "0.0817 0.03 1.3893245968789942 2.3795173787427073 1.314580591061317\n",
      "0.0833 0.036 1.4085825371866478 2.675846173271037 1.4064189365688096\n",
      "0.0717 0.031 1.2708720286632975 2.3847064622452256 1.3019623276888412\n",
      "0.0942 0.012 1.5417266521818638 1.5698293715410923 0.9811340266083309\n",
      "0.061 0.013 1.1483248201288214 1.4749659109403903 0.9452121873046635\n",
      "0.1517 0.029 2.282184131414171 2.700511652926147 1.550582662891217\n",
      "0.0982 0.039 1.591356875741612 2.890988154849976 1.4984566906434924\n",
      "0.0813 0.013 1.384522500469086 1.5580220329642955 0.9815662631459876\n",
      "0.124 0.013 1.919264455139086 1.7723162216667823 1.0825387687565702\n",
      "0.0736 0.003 1.2931089448990145 1.0423170348889577 0.5857583978795806\n",
      "0.2622 0.031 3.7820542858117725 3.4733606577910643 2.1243149886136874\n",
      "0.1489 0.02 2.245118275403804 2.2503410784861386 1.3460149905560992\n",
      "0.0518 0.014 1.0471220706552866 1.491214503294729 0.9555835267817883\n",
      "0.0693 0.02 1.24297807785545 1.8446157433732313 1.1128052307381697\n",
      "0.0611 0.015 1.1494473591416376 1.571799167669491 0.9929558177277586\n",
      "0.1236 0.025 1.9140942382305328 2.3488161514047556 1.3642946591629326\n",
      "0.1909 0.013 2.8075200911578837 2.1633455115878752 1.2867306758382497\n",
      "0.0906 0.033 1.4973968626448473 2.5651133910415815 1.387031191553354\n",
      "0.1729 0.026 2.5649762662760764 2.6812974456555616 1.5782961306503291\n",
      "0.1376 0.038 2.096336830189975 3.053205857398322 1.6454902257339818\n",
      "0.1079 0.028 1.713185649979725 2.4099654155079353 1.3647557749570736\n",
      "0.0765 0.011 1.3273007351877197 1.4405383255628037 0.9177419241146917\n",
      "0.1451 0.017 2.1949364153763753 2.0837330322286767 1.257090978705793\n",
      "0.087 0.004 1.4534096361836784 1.1498051285247135 0.6616466986021754\n",
      "0.1164 0.009 1.8214463586630496 1.5383393186920868 0.9335859359762096\n",
      "0.1218 0.015 1.8908574376251044 1.856800558861644 1.1325713014230943\n",
      "0.1748 0.008 2.5904839585529906 1.8246298078174286 1.035829656679246\n",
      "0.0917 0.01 1.5109067850579732 1.4613471179218394 0.9159010317667671\n",
      "0.1078 0.011 1.711919873714638 1.589672408360297 0.9815879483720534\n",
      "0.1692 0.02 2.515373904647968 2.369857276207015 1.420734676213238\n",
      "0.0579 0.009 1.1137575163183289 1.2708078180811537 0.8294478467492628\n",
      "0.0989 0.007 1.6000807092379927 1.3516671683041515 0.8219401098751613\n",
      "0.1273 0.023 1.962005935982392 2.2726888495087634 1.3370606014241566\n",
      "0.075 0.015 1.309578200283882 1.6270677882737106 1.0185107159413862\n",
      "0.1026 0.015 1.6463735730607718 1.7560611852760133 1.0811347387581096\n",
      "0.0748 0.013 1.307221161493817 1.52975555405432 0.9689985263295045\n",
      "0.0826 0.01 1.400147511278099 1.4191390066614376 0.8987818346211742\n",
      "0.0751 0.011 1.3107572506835028 1.4345584913196863 0.9152832876670249\n",
      "0.0398 0.014 0.922092447648252 1.4558573289568257 0.9404938566316684\n"
     ]
    }
   ],
   "source": [
    "# Use median wave height and period, calculate range of runup based on bar slopes\n",
    "s06r2 = np.nan*np.ones_like(bs1)\n",
    "brun1 = np.nan*np.ones_like(bs1)\n",
    "brun2 = np.nan*np.ones_like(bs1)\n",
    "H = 2.\n",
    "T = 10.\n",
    "Ess, f, df = jonswap_ess(H, T)\n",
    "for i, barslope in enumerate(bs1):\n",
    "    if(nb[i]>0):\n",
    "        Lo = calc_L0(T)\n",
    "        brun1[i], S, setup, Sinc, SIG, ir, R16R  = calcR2_Raubenheimer(H, T , bslope[i], barslope)\n",
    "        brun2[i] = two_slope_IPA_free(Ess, f, df, bslope[i], barslope)\n",
    "        s06r2[i] = S06(H, Lo, bslope[i] )\n",
    "        print(bslope[i], barslope, s06r2[i], brun1[i], brun2[i])\n"
   ]
  },
  {
   "cell_type": "code",
   "execution_count": 67,
   "id": "a6ee80b4",
   "metadata": {},
   "outputs": [
    {
     "name": "stdout",
     "output_type": "stream",
     "text": [
      "[[1.         0.17350259]\n",
      " [0.17350259 1.        ]]\n"
     ]
    }
   ],
   "source": [
    "ok = np.argwhere(np.isfinite(bs1))\n",
    "np.shape([bslope[ok], bs1[ok]])\n",
    "cc = np.corrcoef(np.squeeze([bslope[ok], bs1[ok]]))\n",
    "print(cc)"
   ]
  },
  {
   "cell_type": "code",
   "execution_count": 75,
   "id": "2588661f",
   "metadata": {},
   "outputs": [
    {
     "data": {
      "image/png": "[encoded data removed]",
      "text/plain": [
       "<Figure size 432x288 with 2 Axes>"
      ]
     },
     "metadata": {
      "needs_background": "light"
     },
     "output_type": "display_data"
    }
   ],
   "source": [
    "plt.scatter(bslope[ok],bs1[ok],s=25, c=bs1[ok]/bslope[ok],cmap='inferno')\n",
    "cbar = plt.colorbar()\n",
    "cbar.ax.set_ylabel('Bar slope / Beach slope', rotation=90)\n",
    "plt.xlabel('Beach Slope')\n",
    "plt.ylabel('Bar Slope')\n",
    "plt.savefig(\"C:/crs/proj/2022_Runup/beachslope_barslope_scatter.svg\", dpi=200)"
   ]
  },
  {
   "cell_type": "code",
   "execution_count": 70,
   "id": "71183a1e",
   "metadata": {},
   "outputs": [
    {
     "name": "stdout",
     "output_type": "stream",
     "text": [
      "  n, nnan, nvalid:  70 2 68\n",
      "  mean, std, min, max   : 0.238 0.149 0.041 0.818\n",
      "  d5, d25, d50, d75, d95: 0.069 0.123 0.201 0.308 0.522\n"
     ]
    },
    {
     "data": {
      "text/plain": [
       "{'n': 70,\n",
       " 'nnan': 2,\n",
       " 'nvalid': 68,\n",
       " 'mean': 0.23759755607443195,\n",
       " 'std': 0.14927780992557865,\n",
       " 'min': 0.04076086956521739,\n",
       " 'max': 0.8176100628930818,\n",
       " 'd5': 0.06903651004422137,\n",
       " 'd25': 0.12263087584537027,\n",
       " 'd50': 0.20113268608414242,\n",
       " 'd75': 0.30756387802203194,\n",
       " 'd95': 0.5220332634102487}"
      ]
     },
     "execution_count": 70,
     "metadata": {},
     "output_type": "execute_result"
    },
    {
     "data": {
      "image/png": "[encoded data removed]",
      "text/plain": [
       "<Figure size 432x288 with 1 Axes>"
      ]
     },
     "metadata": {
      "needs_background": "light"
     },
     "output_type": "display_data"
    }
   ],
   "source": [
    "plt.hist(bs1/bslope)\n",
    "stat_summary(bs1/bslope, iprint=True)"
   ]
  },
  {
   "cell_type": "code",
   "execution_count": 42,
   "id": "21753847",
   "metadata": {},
   "outputs": [
    {
     "name": "stdout",
     "output_type": "stream",
     "text": [
      "  n, nnan, nvalid:  70 2 68\n",
      "  mean, std, min, max   : 0.043 0.068 0.003 0.532\n",
      "  d5, d25, d50, d75, d95: 0.013 0.016 0.028 0.044 0.091\n"
     ]
    },
    {
     "data": {
      "text/plain": [
       "{'n': 70,\n",
       " 'nnan': 2,\n",
       " 'nvalid': 68,\n",
       " 'mean': 0.043068042090329474,\n",
       " 'std': 0.06775578203614865,\n",
       " 'min': 0.0033395127840919565,\n",
       " 'max': 0.5319982028724403,\n",
       " 'd5': 0.012909132376834328,\n",
       " 'd25': 0.015514273750572726,\n",
       " 'd50': 0.02767529766947889,\n",
       " 'd75': 0.044019811123363575,\n",
       " 'd95': 0.09051028168132733}"
      ]
     },
     "execution_count": 42,
     "metadata": {},
     "output_type": "execute_result"
    }
   ],
   "source": [
    "# high tide slope (not sure I trust this...these are very steep)\n",
    "tide = 1.12\n",
    "\n",
    "# lower of shoreline+tide or dune low\n",
    "rise = np.minimum(slz+tide,dlz)-bz1\n",
    "# (lower of distance to dune line or tide on beach slope) minus bar x\n",
    "run = np.minimum(dlx,slx-tide/bslope)-bx1\n",
    "ht_slope = rise/run\n",
    "stat_summary(ht_slope, iprint=True)"
   ]
  },
  {
   "cell_type": "code",
   "execution_count": 5,
   "id": "0ac0f28c",
   "metadata": {},
   "outputs": [
    {
     "data": {
      "text/plain": [
       "Text(0.5, 1.0, 'Bar Slope')"
      ]
     },
     "execution_count": 5,
     "metadata": {},
     "output_type": "execute_result"
    },
    {
     "data": {
      "image/png": "[encoded data removed]",
      "text/plain": [
       "<Figure size 432x288 with 2 Axes>"
      ]
     },
     "metadata": {
      "needs_background": "light"
     },
     "output_type": "display_data"
    }
   ],
   "source": [
    "plt.scatter(lon,lat,(100*ht_slope)**2,ht_slope,cmap='inferno')\n",
    "plt.colorbar()\n",
    "plt.title('Bar Slope')"
   ]
  },
  {
   "cell_type": "code",
   "execution_count": 6,
   "id": "6ea852e8",
   "metadata": {},
   "outputs": [
    {
     "data": {
      "text/plain": [
       "Text(0.5, 1.0, 'Number of Bars')"
      ]
     },
     "execution_count": 6,
     "metadata": {},
     "output_type": "execute_result"
    },
    {
     "data": {
      "image/png": "[encoded data removed]",
      "text/plain": [
       "<Figure size 432x288 with 2 Axes>"
      ]
     },
     "metadata": {
      "needs_background": "light"
     },
     "output_type": "display_data"
    }
   ],
   "source": [
    "plt.scatter(lon,lat,4*nb**2,nb,cmap='inferno')\n",
    "plt.colorbar()\n",
    "plt.title('Number of Bars')"
   ]
  },
  {
   "cell_type": "code",
   "execution_count": 7,
   "id": "af1b8fd8",
   "metadata": {},
   "outputs": [
    {
     "ename": "SyntaxError",
     "evalue": "invalid syntax (2128983592.py, line 5)",
     "output_type": "error",
     "traceback": [
      "\u001b[1;36m  Input \u001b[1;32mIn [7]\u001b[1;36m\u001b[0m\n\u001b[1;33m    tz = sz +\u001b[0m\n\u001b[1;37m              ^\u001b[0m\n\u001b[1;31mSyntaxError\u001b[0m\u001b[1;31m:\u001b[0m invalid syntax\n"
     ]
    }
   ],
   "source": [
    "bs1 = df['bs1'].values.astype('float')\n",
    "bz1 = df['bz1'].values.astype('float')\n",
    "# recalculate bar slopes for high tide\n",
    "tide = 1.12\n",
    "tz = sz + \n",
    "iz = np.where(bz1<=-1.3)\n",
    "\n",
    "print('Bar slope 1')\n",
    "stat_summary(bs1[iz], iprint=True)\n",
    "print('Bar depth 1')\n",
    "stat_summary(bz1[iz], iprint=True)\n",
    "iz = np.where(bz1<=-0.5)\n",
    "print(iz)\n",
    "plt.hist(bs1[iz],alpha=0.5)\n",
    "bs2 = df['bs2'].values.astype('float')\n",
    "plt.hist(bs2,alpha=0.5)\n",
    "bs3 = df['bs3'].values.astype('float')\n",
    "plt.hist(bs3,alpha=0.5)"
   ]
  },
  {
   "cell_type": "code",
   "execution_count": null,
   "id": "9e5846b8",
   "metadata": {},
   "outputs": [],
   "source": [
    "print('Beach slope')\n",
    "stat_summary(bslope, iprint=True)\n",
    "print('ht_slope')\n",
    "stat_summary(ht_slope, iprint=True)\n",
    "\n",
    "# Calc range in runup "
   ]
  }
 ],
 "metadata": {
  "kernelspec": {
   "display_name": "Python 3 (ipykernel)",
   "language": "python",
   "name": "python3"
  },
  "language_info": {
   "codemirror_mode": {
    "name": "ipython",
    "version": 3
   },
   "file_extension": ".py",
   "mimetype": "text/x-python",
   "name": "python",
   "nbconvert_exporter": "python",
   "pygments_lexer": "ipython3",
   "version": "3.9.7"
  }
 },
 "nbformat": 4,
 "nbformat_minor": 5
}

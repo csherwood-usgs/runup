{
 "cells": [
  {
   "cell_type": "code",
   "execution_count": 1,
   "id": "f2f487b9",
   "metadata": {},
   "outputs": [],
   "source": [
    "import pandas as pd\n",
    "import numpy as np\n",
    "import matplotlib.pyplot as plt\n",
    "%run -i runup_funcs.py\n",
    "%run -i wave_funcs.py"
   ]
  },
  {
   "cell_type": "code",
   "execution_count": 3,
   "id": "03356927",
   "metadata": {},
   "outputs": [
    {
     "data": {
      "text/html": [
       "<div>\n",
       "<style scoped>\n",
       "    .dataframe tbody tr th:only-of-type {\n",
       "        vertical-align: middle;\n",
       "    }\n",
       "\n",
       "    .dataframe tbody tr th {\n",
       "        vertical-align: top;\n",
       "    }\n",
       "\n",
       "    .dataframe thead th {\n",
       "        text-align: right;\n",
       "    }\n",
       "</style>\n",
       "<table border=\"1\" class=\"dataframe\">\n",
       "  <thead>\n",
       "    <tr style=\"text-align: right;\">\n",
       "      <th></th>\n",
       "      <th>pno</th>\n",
       "      <th>lon</th>\n",
       "      <th>lat</th>\n",
       "      <th>beachslope</th>\n",
       "      <th>nsslope</th>\n",
       "      <th>slz</th>\n",
       "      <th>slx</th>\n",
       "      <th>dlz</th>\n",
       "      <th>dlx</th>\n",
       "      <th>nbars</th>\n",
       "    </tr>\n",
       "  </thead>\n",
       "  <tbody>\n",
       "    <tr>\n",
       "      <th>count</th>\n",
       "      <td>70.000000</td>\n",
       "      <td>70.000000</td>\n",
       "      <td>70.000000</td>\n",
       "      <td>70.000000</td>\n",
       "      <td>70.000000</td>\n",
       "      <td>7.000000e+01</td>\n",
       "      <td>70.000000</td>\n",
       "      <td>70.000000</td>\n",
       "      <td>70.000000</td>\n",
       "      <td>70.000000</td>\n",
       "    </tr>\n",
       "    <tr>\n",
       "      <th>mean</th>\n",
       "      <td>3612.014286</td>\n",
       "      <td>-70.018529</td>\n",
       "      <td>41.919279</td>\n",
       "      <td>0.097407</td>\n",
       "      <td>0.015050</td>\n",
       "      <td>9.800000e-01</td>\n",
       "      <td>1926.591857</td>\n",
       "      <td>4.693714</td>\n",
       "      <td>1977.377571</td>\n",
       "      <td>2.214286</td>\n",
       "    </tr>\n",
       "    <tr>\n",
       "      <th>std</th>\n",
       "      <td>23.027075</td>\n",
       "      <td>0.091703</td>\n",
       "      <td>0.135975</td>\n",
       "      <td>0.041468</td>\n",
       "      <td>0.006132</td>\n",
       "      <td>3.354718e-16</td>\n",
       "      <td>1002.861175</td>\n",
       "      <td>1.187603</td>\n",
       "      <td>996.898588</td>\n",
       "      <td>1.019987</td>\n",
       "    </tr>\n",
       "    <tr>\n",
       "      <th>min</th>\n",
       "      <td>3573.000000</td>\n",
       "      <td>-70.245000</td>\n",
       "      <td>41.671400</td>\n",
       "      <td>0.021200</td>\n",
       "      <td>0.003700</td>\n",
       "      <td>9.800000e-01</td>\n",
       "      <td>284.550000</td>\n",
       "      <td>1.570000</td>\n",
       "      <td>309.550000</td>\n",
       "      <td>0.000000</td>\n",
       "    </tr>\n",
       "    <tr>\n",
       "      <th>25%</th>\n",
       "      <td>3592.250000</td>\n",
       "      <td>-70.077000</td>\n",
       "      <td>41.798875</td>\n",
       "      <td>0.074575</td>\n",
       "      <td>0.011850</td>\n",
       "      <td>9.800000e-01</td>\n",
       "      <td>1409.905000</td>\n",
       "      <td>4.007500</td>\n",
       "      <td>1457.557500</td>\n",
       "      <td>2.000000</td>\n",
       "    </tr>\n",
       "    <tr>\n",
       "      <th>50%</th>\n",
       "      <td>3612.500000</td>\n",
       "      <td>-69.985000</td>\n",
       "      <td>41.945200</td>\n",
       "      <td>0.089350</td>\n",
       "      <td>0.014350</td>\n",
       "      <td>9.800000e-01</td>\n",
       "      <td>1614.870000</td>\n",
       "      <td>4.650000</td>\n",
       "      <td>1654.870000</td>\n",
       "      <td>2.000000</td>\n",
       "    </tr>\n",
       "    <tr>\n",
       "      <th>75%</th>\n",
       "      <td>3630.750000</td>\n",
       "      <td>-69.937500</td>\n",
       "      <td>42.050125</td>\n",
       "      <td>0.118875</td>\n",
       "      <td>0.017100</td>\n",
       "      <td>9.800000e-01</td>\n",
       "      <td>2005.282500</td>\n",
       "      <td>5.437500</td>\n",
       "      <td>2076.547500</td>\n",
       "      <td>3.000000</td>\n",
       "    </tr>\n",
       "    <tr>\n",
       "      <th>max</th>\n",
       "      <td>3653.000000</td>\n",
       "      <td>-69.929000</td>\n",
       "      <td>42.080800</td>\n",
       "      <td>0.262200</td>\n",
       "      <td>0.047800</td>\n",
       "      <td>9.800000e-01</td>\n",
       "      <td>6444.620000</td>\n",
       "      <td>8.070000</td>\n",
       "      <td>6512.120000</td>\n",
       "      <td>5.000000</td>\n",
       "    </tr>\n",
       "  </tbody>\n",
       "</table>\n",
       "</div>"
      ],
      "text/plain": [
       "               pno        lon        lat  beachslope    nsslope           slz  \\\n",
       "count    70.000000  70.000000  70.000000   70.000000  70.000000  7.000000e+01   \n",
       "mean   3612.014286 -70.018529  41.919279    0.097407   0.015050  9.800000e-01   \n",
       "std      23.027075   0.091703   0.135975    0.041468   0.006132  3.354718e-16   \n",
       "min    3573.000000 -70.245000  41.671400    0.021200   0.003700  9.800000e-01   \n",
       "25%    3592.250000 -70.077000  41.798875    0.074575   0.011850  9.800000e-01   \n",
       "50%    3612.500000 -69.985000  41.945200    0.089350   0.014350  9.800000e-01   \n",
       "75%    3630.750000 -69.937500  42.050125    0.118875   0.017100  9.800000e-01   \n",
       "max    3653.000000 -69.929000  42.080800    0.262200   0.047800  9.800000e-01   \n",
       "\n",
       "               slx        dlz          dlx      nbars  \n",
       "count    70.000000  70.000000    70.000000  70.000000  \n",
       "mean   1926.591857   4.693714  1977.377571   2.214286  \n",
       "std    1002.861175   1.187603   996.898588   1.019987  \n",
       "min     284.550000   1.570000   309.550000   0.000000  \n",
       "25%    1409.905000   4.007500  1457.557500   2.000000  \n",
       "50%    1614.870000   4.650000  1654.870000   2.000000  \n",
       "75%    2005.282500   5.437500  2076.547500   3.000000  \n",
       "max    6444.620000   8.070000  6512.120000   5.000000  "
      ]
     },
     "execution_count": 3,
     "metadata": {},
     "output_type": "execute_result"
    }
   ],
   "source": [
    "df = pd.read_csv('C:/crs/proj/2022_runup/cape_profiles.csv', na_values = 'NaN')\n",
    "#df = df.drop(df.columns[[23]], axis=1) # extra column because of final comma\n",
    "df.describe()"
   ]
  },
  {
   "cell_type": "code",
   "execution_count": 4,
   "id": "eeab47ed",
   "metadata": {},
   "outputs": [],
   "source": [
    "lat = df['lat'].values\n",
    "lon = df['lon'].values\n",
    "nb = df['nbars'].values\n",
    "\n",
    "bs1 = df['bs1'].values.astype('float')\n",
    "bz1 = df['bz1'].values.astype('float')\n",
    "bs2 = df['bs2'].values.astype('float')\n",
    "bz2 = df['bz2'].values.astype('float')\n",
    "bs3 = df['bs3'].values.astype('float')\n",
    "bz3 = df['bz3'].values.astype('float')\n",
    "bs4 = df['bs4'].values.astype('float')\n",
    "bz4 = df['bz4'].values.astype('float')\n",
    "bs5 = df['bs5'].values.astype('float')\n",
    "bz5 = df['bz5'].values.astype('float')\n",
    "bx1 = df['bx1'].values.astype('float')\n",
    "bx2 = df['bx2'].values.astype('float')\n",
    "bx3 = df['bx3'].values.astype('float')\n",
    "bx4 = df['bx4'].values.astype('float')\n",
    "bx5 = df['bx5'].values.astype('float')\n",
    "\n",
    "bslope = df['beachslope'].values.astype('float')\n",
    "nsslope = df['nsslope'].values.astype('float')\n",
    "\n",
    "slz = df['slz'].values.astype('float')\n",
    "slx = df['slx'].values.astype('float')\n",
    "dlz = df['dlz'].values.astype('float')\n",
    "dlx = df['dlx'].values.astype('float')"
   ]
  },
  {
   "cell_type": "code",
   "execution_count": 9,
   "id": "21753847",
   "metadata": {},
   "outputs": [],
   "source": [
    "# high tide slope\n",
    "tide = 1.12\n",
    "\n",
    "# lower of shoreline+tide or dune low\n",
    "rise = np.minimum(slz+tide,dlz)-bz1\n",
    "# (lower of distance to dune line or tide on beach slope) minus bar x\n",
    "run = np.minimum(dlx,slx-tide/bslope)-bx1\n",
    "ht_slope = rise/run"
   ]
  },
  {
   "cell_type": "code",
   "execution_count": 11,
   "id": "0ac0f28c",
   "metadata": {},
   "outputs": [
    {
     "data": {
      "text/plain": [
       "Text(0.5, 1.0, 'Bar Slope')"
      ]
     },
     "execution_count": 11,
     "metadata": {},
     "output_type": "execute_result"
    },
    {
     "data": {
      "image/png": "[encoded data removed]",
      "text/plain": [
       "<Figure size 432x288 with 2 Axes>"
      ]
     },
     "metadata": {
      "needs_background": "light"
     },
     "output_type": "display_data"
    }
   ],
   "source": [
    "plt.scatter(lon,lat,(100*ht_slope)**2,ht_slope,cmap='inferno')\n",
    "plt.colorbar()\n",
    "plt.title('Bar Slope')"
   ]
  },
  {
   "cell_type": "code",
   "execution_count": 7,
   "id": "6ea852e8",
   "metadata": {},
   "outputs": [
    {
     "data": {
      "text/plain": [
       "Text(0.5, 1.0, 'Number of Bars')"
      ]
     },
     "execution_count": 7,
     "metadata": {},
     "output_type": "execute_result"
    },
    {
     "data": {
      "image/png": "[encoded data removed]",
      "text/plain": [
       "<Figure size 432x288 with 2 Axes>"
      ]
     },
     "metadata": {
      "needs_background": "light"
     },
     "output_type": "display_data"
    }
   ],
   "source": [
    "plt.scatter(lon,lat,4*nb**2,nb,cmap='inferno')\n",
    "plt.colorbar()\n",
    "plt.title('Number of Bars')"
   ]
  },
  {
   "cell_type": "code",
   "execution_count": 8,
   "id": "af1b8fd8",
   "metadata": {},
   "outputs": [
    {
     "ename": "SyntaxError",
     "evalue": "invalid syntax (2128983592.py, line 5)",
     "output_type": "error",
     "traceback": [
      "\u001b[1;36m  Input \u001b[1;32mIn [8]\u001b[1;36m\u001b[0m\n\u001b[1;33m    tz = sz +\u001b[0m\n\u001b[1;37m              ^\u001b[0m\n\u001b[1;31mSyntaxError\u001b[0m\u001b[1;31m:\u001b[0m invalid syntax\n"
     ]
    }
   ],
   "source": [
    "bs1 = df['bs1'].values.astype('float')\n",
    "bz1 = df['bz1'].values.astype('float')\n",
    "# recalculate bar slopes for high tide\n",
    "tide = 1.12\n",
    "tz = sz + \n",
    "iz = np.where(bz1<=-1.3)\n",
    "\n",
    "print('Bar slope 1')\n",
    "stat_summary(bs1[iz], iprint=True)\n",
    "print('Bar depth 1')\n",
    "stat_summary(bz1[iz], iprint=True)\n",
    "iz = np.where(bz1<=-0.5)\n",
    "print(iz)\n",
    "plt.hist(bs1[iz],alpha=0.5)\n",
    "bs2 = df['bs2'].values.astype('float')\n",
    "plt.hist(bs2,alpha=0.5)\n",
    "bs3 = df['bs3'].values.astype('float')\n",
    "plt.hist(bs3,alpha=0.5)"
   ]
  },
  {
   "cell_type": "code",
   "execution_count": null,
   "id": "9e5846b8",
   "metadata": {},
   "outputs": [],
   "source": [
    "print('Beach slope')\n",
    "stat_summary(bslope, iprint=True)\n",
    "print('ht_slope')\n",
    "stat_summary(ht_slope, iprint=True)\n",
    "\n",
    "# Calc range in runup "
   ]
  }
 ],
 "metadata": {
  "kernelspec": {
   "display_name": "Python 3 (ipykernel)",
   "language": "python",
   "name": "python3"
  },
  "language_info": {
   "codemirror_mode": {
    "name": "ipython",
    "version": 3
   },
   "file_extension": ".py",
   "mimetype": "text/x-python",
   "name": "python",
   "nbconvert_exporter": "python",
   "pygments_lexer": "ipython3",
   "version": "3.10.4"
  }
 },
 "nbformat": 4,
 "nbformat_minor": 5
}

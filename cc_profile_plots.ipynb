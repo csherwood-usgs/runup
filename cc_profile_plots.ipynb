{
 "cells": [
  {
   "cell_type": "code",
   "execution_count": 41,
   "id": "f2f487b9",
   "metadata": {},
   "outputs": [],
   "source": [
    "import pandas as pd\n",
    "import numpy as np\n",
    "import matplotlib.pyplot as plt\n",
    "%run -i runup_funcs.py\n",
    "%run -i wave_funcs.py"
   ]
  },
  {
   "cell_type": "code",
   "execution_count": 45,
   "id": "03356927",
   "metadata": {},
   "outputs": [
    {
     "data": {
      "text/html": [
       "<div>\n",
       "<style scoped>\n",
       "    .dataframe tbody tr th:only-of-type {\n",
       "        vertical-align: middle;\n",
       "    }\n",
       "\n",
       "    .dataframe tbody tr th {\n",
       "        vertical-align: top;\n",
       "    }\n",
       "\n",
       "    .dataframe thead th {\n",
       "        text-align: right;\n",
       "    }\n",
       "</style>\n",
       "<table border=\"1\" class=\"dataframe\">\n",
       "  <thead>\n",
       "    <tr style=\"text-align: right;\">\n",
       "      <th></th>\n",
       "      <th>pno</th>\n",
       "      <th>lon</th>\n",
       "      <th>lat</th>\n",
       "      <th>beachslope</th>\n",
       "      <th>nsslope</th>\n",
       "      <th>slz</th>\n",
       "      <th>slx</th>\n",
       "      <th>dlz</th>\n",
       "      <th>dlx</th>\n",
       "      <th>nbars</th>\n",
       "    </tr>\n",
       "  </thead>\n",
       "  <tbody>\n",
       "    <tr>\n",
       "      <th>count</th>\n",
       "      <td>70.000000</td>\n",
       "      <td>70.000000</td>\n",
       "      <td>70.000000</td>\n",
       "      <td>70.000000</td>\n",
       "      <td>70.000000</td>\n",
       "      <td>7.000000e+01</td>\n",
       "      <td>70.000000</td>\n",
       "      <td>70.000000</td>\n",
       "      <td>70.000000</td>\n",
       "      <td>70.000000</td>\n",
       "    </tr>\n",
       "    <tr>\n",
       "      <th>mean</th>\n",
       "      <td>3612.014286</td>\n",
       "      <td>-70.018529</td>\n",
       "      <td>41.919279</td>\n",
       "      <td>0.097407</td>\n",
       "      <td>0.015050</td>\n",
       "      <td>9.800000e-01</td>\n",
       "      <td>1926.591857</td>\n",
       "      <td>4.693714</td>\n",
       "      <td>1977.377571</td>\n",
       "      <td>2.214286</td>\n",
       "    </tr>\n",
       "    <tr>\n",
       "      <th>std</th>\n",
       "      <td>23.027075</td>\n",
       "      <td>0.091703</td>\n",
       "      <td>0.135975</td>\n",
       "      <td>0.041468</td>\n",
       "      <td>0.006132</td>\n",
       "      <td>3.354718e-16</td>\n",
       "      <td>1002.861175</td>\n",
       "      <td>1.187603</td>\n",
       "      <td>996.898588</td>\n",
       "      <td>1.019987</td>\n",
       "    </tr>\n",
       "    <tr>\n",
       "      <th>min</th>\n",
       "      <td>3573.000000</td>\n",
       "      <td>-70.245000</td>\n",
       "      <td>41.671400</td>\n",
       "      <td>0.021200</td>\n",
       "      <td>0.003700</td>\n",
       "      <td>9.800000e-01</td>\n",
       "      <td>284.550000</td>\n",
       "      <td>1.570000</td>\n",
       "      <td>309.550000</td>\n",
       "      <td>0.000000</td>\n",
       "    </tr>\n",
       "    <tr>\n",
       "      <th>25%</th>\n",
       "      <td>3592.250000</td>\n",
       "      <td>-70.077000</td>\n",
       "      <td>41.798875</td>\n",
       "      <td>0.074575</td>\n",
       "      <td>0.011850</td>\n",
       "      <td>9.800000e-01</td>\n",
       "      <td>1409.905000</td>\n",
       "      <td>4.007500</td>\n",
       "      <td>1457.557500</td>\n",
       "      <td>2.000000</td>\n",
       "    </tr>\n",
       "    <tr>\n",
       "      <th>50%</th>\n",
       "      <td>3612.500000</td>\n",
       "      <td>-69.985000</td>\n",
       "      <td>41.945200</td>\n",
       "      <td>0.089350</td>\n",
       "      <td>0.014350</td>\n",
       "      <td>9.800000e-01</td>\n",
       "      <td>1614.870000</td>\n",
       "      <td>4.650000</td>\n",
       "      <td>1654.870000</td>\n",
       "      <td>2.000000</td>\n",
       "    </tr>\n",
       "    <tr>\n",
       "      <th>75%</th>\n",
       "      <td>3630.750000</td>\n",
       "      <td>-69.937500</td>\n",
       "      <td>42.050125</td>\n",
       "      <td>0.118875</td>\n",
       "      <td>0.017100</td>\n",
       "      <td>9.800000e-01</td>\n",
       "      <td>2005.282500</td>\n",
       "      <td>5.437500</td>\n",
       "      <td>2076.547500</td>\n",
       "      <td>3.000000</td>\n",
       "    </tr>\n",
       "    <tr>\n",
       "      <th>max</th>\n",
       "      <td>3653.000000</td>\n",
       "      <td>-69.929000</td>\n",
       "      <td>42.080800</td>\n",
       "      <td>0.262200</td>\n",
       "      <td>0.047800</td>\n",
       "      <td>9.800000e-01</td>\n",
       "      <td>6444.620000</td>\n",
       "      <td>8.070000</td>\n",
       "      <td>6512.120000</td>\n",
       "      <td>5.000000</td>\n",
       "    </tr>\n",
       "  </tbody>\n",
       "</table>\n",
       "</div>"
      ],
      "text/plain": [
       "               pno        lon        lat  beachslope    nsslope           slz  \\\n",
       "count    70.000000  70.000000  70.000000   70.000000  70.000000  7.000000e+01   \n",
       "mean   3612.014286 -70.018529  41.919279    0.097407   0.015050  9.800000e-01   \n",
       "std      23.027075   0.091703   0.135975    0.041468   0.006132  3.354718e-16   \n",
       "min    3573.000000 -70.245000  41.671400    0.021200   0.003700  9.800000e-01   \n",
       "25%    3592.250000 -70.077000  41.798875    0.074575   0.011850  9.800000e-01   \n",
       "50%    3612.500000 -69.985000  41.945200    0.089350   0.014350  9.800000e-01   \n",
       "75%    3630.750000 -69.937500  42.050125    0.118875   0.017100  9.800000e-01   \n",
       "max    3653.000000 -69.929000  42.080800    0.262200   0.047800  9.800000e-01   \n",
       "\n",
       "               slx        dlz          dlx      nbars  \n",
       "count    70.000000  70.000000    70.000000  70.000000  \n",
       "mean   1926.591857   4.693714  1977.377571   2.214286  \n",
       "std    1002.861175   1.187603   996.898588   1.019987  \n",
       "min     284.550000   1.570000   309.550000   0.000000  \n",
       "25%    1409.905000   4.007500  1457.557500   2.000000  \n",
       "50%    1614.870000   4.650000  1654.870000   2.000000  \n",
       "75%    2005.282500   5.437500  2076.547500   3.000000  \n",
       "max    6444.620000   8.070000  6512.120000   5.000000  "
      ]
     },
     "execution_count": 45,
     "metadata": {},
     "output_type": "execute_result"
    }
   ],
   "source": [
    "df = pd.read_csv('D:/crs/proj/2022_runup/cape_profiles.csv', na_values = 'NaN')\n",
    "#df = df.drop(df.columns[[23]], axis=1) # extra column because of final comma\n",
    "df.describe()"
   ]
  },
  {
   "cell_type": "code",
   "execution_count": 66,
   "id": "eeab47ed",
   "metadata": {},
   "outputs": [],
   "source": [
    "lat = df['lat'].values\n",
    "lon = df['lon'].values\n",
    "nb = df['nbars'].values\n",
    "\n",
    "bs1 = df['bs1'].values.astype('float')\n",
    "bz1 = df['bz1'].values.astype('float')\n",
    "bs2 = df['bs2'].values.astype('float')\n",
    "bz2 = df['bz2'].values.astype('float')\n",
    "bs3 = df['bs3'].values.astype('float')\n",
    "bz3 = df['bz3'].values.astype('float')\n",
    "bs4 = df['bs4'].values.astype('float')\n",
    "bz4 = df['bz4'].values.astype('float')\n",
    "bs5 = df['bs5'].values.astype('float')\n",
    "bz5 = df['bz5'].values.astype('float')\n",
    "bx1 = df['bx1'].values.astype('float')\n",
    "bx2 = df['bx2'].values.astype('float')\n",
    "bx3 = df['bx3'].values.astype('float')\n",
    "bx4 = df['bx4'].values.astype('float')\n",
    "bx5 = df['bx5'].values.astype('float')\n",
    "\n",
    "bslope = df['beachslope'].values.astype('float')\n",
    "nsslope = df['nsslope'].values.astype('float')\n",
    "\n",
    "slz = df['slz'].values.astype('float')\n",
    "slx = df['slx'].values.astype('float')\n",
    "dlz = df['dlz'].values.astype('float')\n",
    "dlx = df['dlx'].values.astype('float')"
   ]
  },
  {
   "cell_type": "code",
   "execution_count": 72,
   "id": "21753847",
   "metadata": {},
   "outputs": [
    {
     "name": "stdout",
     "output_type": "stream",
     "text": [
      "[ 4.298  5.533  5.045  3.743  4.069  4.285  4.611  4.828  4.172  3.586\n",
      "  2.935  3.261  5.148  3.     4.79   9.003  4.584  2.187  4.665  5.148\n",
      "  4.123  9.963  5.484  9.302 10.045  3.114  3.895  3.309  3.114  3.315\n",
      "  2.707  5.343  7.187  7.729  2.382  3.553  6.102  9.79   9.849  4.107\n",
      "  4.562  9.269  9.801  8.814  7.979  8.662  4.139  2.284  2.133  1.601\n",
      "  8.288  1.552  1.455  1.579  2.04   2.621  3.141  4.98   3.309  3.537\n",
      "  3.385  4.53   3.716  5.918  5.945  5.484  5.359  6.775    nan    nan]\n",
      "[ 320.77027485  284.16581132  143.00421277   79.76198482  150.93638028\n",
      "  284.90401413  140.57543152  319.16471576  153.32353099  123.60849801\n",
      "   78.17301293   54.78165174  131.96415152   49.9733051   167.47459322\n",
      "  398.41518318  119.20144295    4.11091614  368.24143742  340.01462963\n",
      "  177.54071301  685.18016202  186.69000672  417.13094969  356.96314235\n",
      "   48.56266305   98.37494619   36.31949558   53.23103579   59.75230967\n",
      "   30.27962185  122.32635844  501.7574034   495.80634426   35.79400725\n",
      "   51.38370468  367.30886224  674.88774194 2949.2326087    91.17645156\n",
      "  161.81217327  552.25137838  419.11238384  509.97339444  268.66051133\n",
      "  588.27305395   79.30996909   38.52626721   18.78346512    7.10101854\n",
      "  620.52847712   18.39218539   61.75243678   42.19500687   53.8435977\n",
      "  171.40967735  198.53625954  350.30338961  101.37861466  239.12930397\n",
      "  293.30642973  139.56588531  155.30166667  312.66782066  362.60173797\n",
      "  444.96467797  383.17155126  381.28229648           nan           nan]\n",
      "[1154.863 1131.964 1533.286 1911.001 2120.397 2349.858 3303.824 3482.295\n",
      " 3473.796 3155.807 2959.396 2796.978 2695.231 2605.996 2358.121 2092.068\n",
      " 2063.975 1964.589 1512.04  1483.475 1712.701 1235.836 1409.348 1075.071\n",
      " 1182.72  1508.499 1528.329 1746.459 1254.721 1278.329 1365.675 1096.553\n",
      "  898.253  839.943 1383.853 1372.521 1035.175  527.62  3480.17  4954.202\n",
      " 4382.436  735.127 1021.246  939.566 1110.718  817.28  1349.858 1368.036\n",
      " 1370.397 1379.839  695.231 1280.689 1330.264 1259.443 1491.501 1443.343\n",
      " 1460.34  1437.677 1828.612 1675.637 1746.459 1783.286 1712.465 1386.686\n",
      " 1247.875 1041.076  574.835  177.337      nan      nan]\n",
      "[0.013399   0.01947103 0.03527868 0.04692712 0.02695838 0.01504015\n",
      " 0.0328009  0.01512699 0.02721044 0.02901095 0.03754493 0.05952723\n",
      " 0.03901059 0.06003205 0.02860135 0.02259703 0.03845591 0.5319982\n",
      " 0.01266832 0.01514052 0.02322284 0.0145407  0.0293749  0.02229995\n",
      " 0.02814016 0.06412334 0.03959341 0.09110809 0.05849971 0.05547903\n",
      " 0.08940006 0.04367824 0.01432366 0.01558875 0.06654745 0.06914644\n",
      " 0.01661272 0.01450612 0.00333951 0.04504453 0.02819318 0.01678402\n",
      " 0.02338514 0.01728325 0.02969919 0.01472445 0.05218764 0.05928423\n",
      " 0.11355732 0.22546061 0.01335636 0.08438366 0.02356182 0.03742149\n",
      " 0.03788751 0.01529085 0.01582079 0.01421625 0.03264002 0.01479116\n",
      " 0.01154083 0.03245779 0.02392762 0.01892744 0.0163954  0.01232457\n",
      " 0.0139859  0.01776899        nan        nan]\n"
     ]
    }
   ],
   "source": [
    "# high tide slope\n",
    "tide = 1.12\n",
    "\n",
    "\n",
    "rise = np.minimum(slz+tide,dlz)-bz1\n",
    "print(rise)\n",
    "run = np.minimum(dlx,slx-tide/bslope)-bx1\n",
    "print(run)\n",
    "print(bx1)\n",
    "ht_slope = rise/run\n",
    "print(ht_slope)"
   ]
  },
  {
   "cell_type": "code",
   "execution_count": 73,
   "id": "0ac0f28c",
   "metadata": {},
   "outputs": [
    {
     "data": {
      "text/plain": [
       "Text(0.5, 1.0, 'Number of Bars')"
      ]
     },
     "execution_count": 73,
     "metadata": {},
     "output_type": "execute_result"
    },
    {
     "data": {
      "image/png": "[encoded data removed]",
      "text/plain": [
       "<Figure size 432x288 with 2 Axes>"
      ]
     },
     "metadata": {
      "needs_background": "light"
     },
     "output_type": "display_data"
    }
   ],
   "source": [
    "plt.scatter(lon,lat,(100*ht_slope)**2,ht_slope,cmap='inferno')\n",
    "plt.colorbar()\n",
    "plt.title('Number of Bars')"
   ]
  },
  {
   "cell_type": "code",
   "execution_count": 48,
   "id": "6ea852e8",
   "metadata": {},
   "outputs": [
    {
     "data": {
      "text/plain": [
       "Text(0.5, 1.0, 'Number of Bars')"
      ]
     },
     "execution_count": 48,
     "metadata": {},
     "output_type": "execute_result"
    },
    {
     "data": {
      "image/png": "[encoded data removed]",
      "text/plain": [
       "<Figure size 432x288 with 2 Axes>"
      ]
     },
     "metadata": {
      "needs_background": "light"
     },
     "output_type": "display_data"
    }
   ],
   "source": [
    "plt.scatter(lon,lat,4*nb**2,nb,cmap='inferno')\n",
    "plt.colorbar()\n",
    "plt.title('Number of Bars')"
   ]
  },
  {
   "cell_type": "code",
   "execution_count": 39,
   "id": "af1b8fd8",
   "metadata": {},
   "outputs": [
    {
     "name": "stdout",
     "output_type": "stream",
     "text": [
      "Bar slope 1\n",
      "  n, nnan, nvalid:  47 0 47\n",
      "  mean, std, min, max   : 0.018 0.007 0.003 0.039\n",
      "  d5, d25, d50, d75, d95: 0.009 0.013 0.015 0.022 0.031\n",
      "Bar depth 1\n",
      "  n, nnan, nvalid:  47 0 47\n",
      "  mean, std, min, max   : -3.906 2.103 -7.945 -1.437\n",
      "  d5, d25, d50, d75, d95: -7.735 -5.754 -3.048 -2.308 -1.525\n",
      "(array([ 0,  1,  2,  3,  4,  5,  6,  7,  8,  9, 10, 11, 12, 13, 14, 15, 16,\n",
      "       18, 19, 20, 21, 22, 23, 24, 25, 26, 27, 28, 29, 30, 31, 32, 33, 35,\n",
      "       36, 37, 38, 39, 40, 41, 42, 43, 44, 45, 46, 50, 55, 56, 57, 58, 59,\n",
      "       60, 61, 62, 63, 64, 65, 66, 67], dtype=int64),)\n"
     ]
    },
    {
     "data": {
      "text/plain": [
       "(array([1., 1., 4., 3., 1., 1., 4., 5., 0., 1.]),\n",
       " array([0.005 , 0.0059, 0.0068, 0.0077, 0.0086, 0.0095, 0.0104, 0.0113,\n",
       "        0.0122, 0.0131, 0.014 ]),\n",
       " <BarContainer object of 10 artists>)"
      ]
     },
     "execution_count": 39,
     "metadata": {},
     "output_type": "execute_result"
    },
    {
     "data": {
      "image/png": "[encoded data removed]",
      "text/plain": [
       "<Figure size 432x288 with 1 Axes>"
      ]
     },
     "metadata": {
      "needs_background": "light"
     },
     "output_type": "display_data"
    }
   ],
   "source": [
    "bs1 = df['bs1'].values.astype('float')\n",
    "bz1 = df['bz1'].values.astype('float')\n",
    "# recalculate bar slopes for high tide\n",
    "tide = 1.12\n",
    "tz = sz + \n",
    "iz = np.where(bz1<=-1.3)\n",
    "\n",
    "print('Bar slope 1')\n",
    "stat_summary(bs1[iz], iprint=True)\n",
    "print('Bar depth 1')\n",
    "stat_summary(bz1[iz], iprint=True)\n",
    "iz = np.where(bz1<=-0.5)\n",
    "print(iz)\n",
    "plt.hist(bs1[iz],alpha=0.5)\n",
    "bs2 = df['bs2'].values.astype('float')\n",
    "plt.hist(bs2,alpha=0.5)\n",
    "bs3 = df['bs3'].values.astype('float')\n",
    "plt.hist(bs3,alpha=0.5)"
   ]
  },
  {
   "cell_type": "code",
   "execution_count": 76,
   "id": "9e5846b8",
   "metadata": {},
   "outputs": [
    {
     "name": "stdout",
     "output_type": "stream",
     "text": [
      "Beach slope\n",
      "  n, nnan, nvalid:  70 0 70\n",
      "  mean, std, min, max   : 0.097 0.041 0.021 0.262\n",
      "  d5, d25, d50, d75, d95: 0.043 0.075 0.089 0.119 0.174\n",
      "ht_slope\n",
      "  n, nnan, nvalid:  70 2 68\n",
      "  mean, std, min, max   : 0.043 0.068 0.003 0.532\n",
      "  d5, d25, d50, d75, d95: 0.013 0.016 0.028 0.044 0.091\n"
     ]
    },
    {
     "data": {
      "text/plain": [
       "{'n': 70,\n",
       " 'nnan': 2,\n",
       " 'nvalid': 68,\n",
       " 'mean': 0.043068042090329474,\n",
       " 'std': 0.06775578203614865,\n",
       " 'min': 0.0033395127840919565,\n",
       " 'max': 0.5319982028724403,\n",
       " 'd5': 0.012909132376834328,\n",
       " 'd25': 0.015514273750572726,\n",
       " 'd50': 0.02767529766947889,\n",
       " 'd75': 0.044019811123363575,\n",
       " 'd95': 0.09051028168132733}"
      ]
     },
     "execution_count": 76,
     "metadata": {},
     "output_type": "execute_result"
    }
   ],
   "source": [
    "print('Beach slope')\n",
    "stat_summary(bslope, iprint=True)\n",
    "print('ht_slope')\n",
    "stat_summary(ht_slope, iprint=True)\n",
    "\n",
    "# Calc range in runup "
   ]
  }
 ],
 "metadata": {
  "kernelspec": {
   "display_name": "Python 3 (ipykernel)",
   "language": "python",
   "name": "python3"
  },
  "language_info": {
   "codemirror_mode": {
    "name": "ipython",
    "version": 3
   },
   "file_extension": ".py",
   "mimetype": "text/x-python",
   "name": "python",
   "nbconvert_exporter": "python",
   "pygments_lexer": "ipython3",
   "version": "3.10.4"
  }
 },
 "nbformat": 4,
 "nbformat_minor": 5
}

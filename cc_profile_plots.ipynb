{
 "cells": [
  {
   "cell_type": "code",
   "execution_count": 1,
   "id": "f2f487b9",
   "metadata": {},
   "outputs": [],
   "source": [
    "import pandas as pd\n",
    "import numpy as np\n",
    "import matplotlib.pyplot as plt\n",
    "%run -i runup_funcs.py\n",
    "%run -i wave_funcs.py"
   ]
  },
  {
   "cell_type": "code",
   "execution_count": 2,
   "id": "37ce429c",
   "metadata": {},
   "outputs": [
    {
     "data": {
      "text/html": [
       "<div>\n",
       "<style scoped>\n",
       "    .dataframe tbody tr th:only-of-type {\n",
       "        vertical-align: middle;\n",
       "    }\n",
       "\n",
       "    .dataframe tbody tr th {\n",
       "        vertical-align: top;\n",
       "    }\n",
       "\n",
       "    .dataframe thead th {\n",
       "        text-align: right;\n",
       "    }\n",
       "</style>\n",
       "<table border=\"1\" class=\"dataframe\">\n",
       "  <thead>\n",
       "    <tr style=\"text-align: right;\">\n",
       "      <th>var</th>\n",
       "      <th>H_s</th>\n",
       "      <th>T_p</th>\n",
       "      <th>Dir</th>\n",
       "      <th>Dir_scaled</th>\n",
       "      <th>H0L0</th>\n",
       "      <th>Iribarren</th>\n",
       "      <th>WL</th>\n",
       "      <th>subtidal</th>\n",
       "      <th>tides</th>\n",
       "      <th>runup</th>\n",
       "      <th>runup95</th>\n",
       "      <th>TWL</th>\n",
       "      <th>TWL95</th>\n",
       "    </tr>\n",
       "  </thead>\n",
       "  <tbody>\n",
       "    <tr>\n",
       "      <th>mean</th>\n",
       "      <td>0.969</td>\n",
       "      <td>6.08</td>\n",
       "      <td>22.6</td>\n",
       "      <td>21.1</td>\n",
       "      <td>79.0</td>\n",
       "      <td>0.992</td>\n",
       "      <td>-0.0278</td>\n",
       "      <td>-0.0278</td>\n",
       "      <td>-0.000145</td>\n",
       "      <td>0.696</td>\n",
       "      <td>0.973</td>\n",
       "      <td>0.669</td>\n",
       "      <td>0.945</td>\n",
       "    </tr>\n",
       "    <tr>\n",
       "      <th>std</th>\n",
       "      <td>0.606</td>\n",
       "      <td>1.95</td>\n",
       "      <td>46.7</td>\n",
       "      <td>43.8</td>\n",
       "      <td>69.9</td>\n",
       "      <td>0.274</td>\n",
       "      <td>0.8450</td>\n",
       "      <td>0.0941</td>\n",
       "      <td>0.829000</td>\n",
       "      <td>0.378</td>\n",
       "      <td>0.528</td>\n",
       "      <td>0.923</td>\n",
       "      <td>0.993</td>\n",
       "    </tr>\n",
       "    <tr>\n",
       "      <th>5</th>\n",
       "      <td>0.323</td>\n",
       "      <td>3.21</td>\n",
       "      <td>44.8</td>\n",
       "      <td>39.1</td>\n",
       "      <td>16.4</td>\n",
       "      <td>0.639</td>\n",
       "      <td>-1.2900</td>\n",
       "      <td>-0.1830</td>\n",
       "      <td>-1.230000</td>\n",
       "      <td>0.247</td>\n",
       "      <td>0.346</td>\n",
       "      <td>-0.743</td>\n",
       "      <td>-0.571</td>\n",
       "    </tr>\n",
       "    <tr>\n",
       "      <th>16</th>\n",
       "      <td>0.454</td>\n",
       "      <td>4.08</td>\n",
       "      <td>43.4</td>\n",
       "      <td>36.2</td>\n",
       "      <td>26.1</td>\n",
       "      <td>0.729</td>\n",
       "      <td>-1.0000</td>\n",
       "      <td>-0.1050</td>\n",
       "      <td>-0.960000</td>\n",
       "      <td>0.359</td>\n",
       "      <td>0.502</td>\n",
       "      <td>-0.370</td>\n",
       "      <td>-0.148</td>\n",
       "    </tr>\n",
       "    <tr>\n",
       "      <th>50</th>\n",
       "      <td>0.812</td>\n",
       "      <td>5.92</td>\n",
       "      <td>19.8</td>\n",
       "      <td>22.2</td>\n",
       "      <td>58.5</td>\n",
       "      <td>0.948</td>\n",
       "      <td>-0.0218</td>\n",
       "      <td>-0.0258</td>\n",
       "      <td>0.005960</td>\n",
       "      <td>0.613</td>\n",
       "      <td>0.857</td>\n",
       "      <td>0.683</td>\n",
       "      <td>0.955</td>\n",
       "    </tr>\n",
       "    <tr>\n",
       "      <th>85</th>\n",
       "      <td>1.520</td>\n",
       "      <td>8.16</td>\n",
       "      <td>57.7</td>\n",
       "      <td>63.6</td>\n",
       "      <td>133.0</td>\n",
       "      <td>1.270</td>\n",
       "      <td>0.9560</td>\n",
       "      <td>0.0505</td>\n",
       "      <td>0.973000</td>\n",
       "      <td>1.050</td>\n",
       "      <td>1.470</td>\n",
       "      <td>1.670</td>\n",
       "      <td>1.980</td>\n",
       "    </tr>\n",
       "    <tr>\n",
       "      <th>95</th>\n",
       "      <td>2.110</td>\n",
       "      <td>9.52</td>\n",
       "      <td>45.4</td>\n",
       "      <td>52.5</td>\n",
       "      <td>210.0</td>\n",
       "      <td>1.500</td>\n",
       "      <td>1.2400</td>\n",
       "      <td>0.1200</td>\n",
       "      <td>1.240000</td>\n",
       "      <td>1.420</td>\n",
       "      <td>1.990</td>\n",
       "      <td>2.120</td>\n",
       "      <td>2.560</td>\n",
       "    </tr>\n",
       "    <tr>\n",
       "      <th>99</th>\n",
       "      <td>3.100</td>\n",
       "      <td>11.20</td>\n",
       "      <td>45.5</td>\n",
       "      <td>48.8</td>\n",
       "      <td>349.0</td>\n",
       "      <td>1.820</td>\n",
       "      <td>1.5000</td>\n",
       "      <td>0.2320</td>\n",
       "      <td>1.480000</td>\n",
       "      <td>1.940</td>\n",
       "      <td>2.720</td>\n",
       "      <td>2.690</td>\n",
       "      <td>3.340</td>\n",
       "    </tr>\n",
       "  </tbody>\n",
       "</table>\n",
       "</div>"
      ],
      "text/plain": [
       "var     H_s    T_p   Dir  Dir_scaled   H0L0  Iribarren      WL  subtidal  \\\n",
       "mean  0.969   6.08  22.6        21.1   79.0      0.992 -0.0278   -0.0278   \n",
       "std   0.606   1.95  46.7        43.8   69.9      0.274  0.8450    0.0941   \n",
       "5     0.323   3.21  44.8        39.1   16.4      0.639 -1.2900   -0.1830   \n",
       "16    0.454   4.08  43.4        36.2   26.1      0.729 -1.0000   -0.1050   \n",
       "50    0.812   5.92  19.8        22.2   58.5      0.948 -0.0218   -0.0258   \n",
       "85    1.520   8.16  57.7        63.6  133.0      1.270  0.9560    0.0505   \n",
       "95    2.110   9.52  45.4        52.5  210.0      1.500  1.2400    0.1200   \n",
       "99    3.100  11.20  45.5        48.8  349.0      1.820  1.5000    0.2320   \n",
       "\n",
       "var      tides  runup  runup95    TWL  TWL95  \n",
       "mean -0.000145  0.696    0.973  0.669  0.945  \n",
       "std   0.829000  0.378    0.528  0.923  0.993  \n",
       "5    -1.230000  0.247    0.346 -0.743 -0.571  \n",
       "16   -0.960000  0.359    0.502 -0.370 -0.148  \n",
       "50    0.005960  0.613    0.857  0.683  0.955  \n",
       "85    0.973000  1.050    1.470  1.670  1.980  \n",
       "95    1.240000  1.420    1.990  2.120  2.560  \n",
       "99    1.480000  1.940    2.720  2.690  3.340  "
      ]
     },
     "execution_count": 2,
     "metadata": {},
     "output_type": "execute_result"
    }
   ],
   "source": [
    "df_hom = pd.read_csv('d:/crs/proj/2022_runup/hom_stats.csv', delim_whitespace=True, index_col=0, header=0).T\n",
    "df_hom"
   ]
  },
  {
   "cell_type": "code",
   "execution_count": 3,
   "id": "9eef34a2",
   "metadata": {},
   "outputs": [
    {
     "name": "stdout",
     "output_type": "stream",
     "text": [
      "2.11 9.52\n"
     ]
    }
   ],
   "source": [
    "Hs95= df_hom['H_s']['95']\n",
    "Tp95 = df_hom['T_p']['95']\n",
    "print(Hs95, Tp95)"
   ]
  },
  {
   "cell_type": "code",
   "execution_count": 4,
   "id": "03356927",
   "metadata": {},
   "outputs": [
    {
     "data": {
      "text/html": [
       "<div>\n",
       "<style scoped>\n",
       "    .dataframe tbody tr th:only-of-type {\n",
       "        vertical-align: middle;\n",
       "    }\n",
       "\n",
       "    .dataframe tbody tr th {\n",
       "        vertical-align: top;\n",
       "    }\n",
       "\n",
       "    .dataframe thead th {\n",
       "        text-align: right;\n",
       "    }\n",
       "</style>\n",
       "<table border=\"1\" class=\"dataframe\">\n",
       "  <thead>\n",
       "    <tr style=\"text-align: right;\">\n",
       "      <th></th>\n",
       "      <th>pno</th>\n",
       "      <th>lon</th>\n",
       "      <th>lat</th>\n",
       "      <th>beachslope</th>\n",
       "      <th>nsslope</th>\n",
       "      <th>slz</th>\n",
       "      <th>slx</th>\n",
       "      <th>dlz</th>\n",
       "      <th>dlx</th>\n",
       "      <th>nbars</th>\n",
       "    </tr>\n",
       "  </thead>\n",
       "  <tbody>\n",
       "    <tr>\n",
       "      <th>count</th>\n",
       "      <td>70.000000</td>\n",
       "      <td>70.000000</td>\n",
       "      <td>70.000000</td>\n",
       "      <td>70.000000</td>\n",
       "      <td>70.000000</td>\n",
       "      <td>7.000000e+01</td>\n",
       "      <td>70.000000</td>\n",
       "      <td>70.000000</td>\n",
       "      <td>70.000000</td>\n",
       "      <td>70.000000</td>\n",
       "    </tr>\n",
       "    <tr>\n",
       "      <th>mean</th>\n",
       "      <td>3612.014286</td>\n",
       "      <td>-70.018529</td>\n",
       "      <td>41.919279</td>\n",
       "      <td>0.097407</td>\n",
       "      <td>0.015050</td>\n",
       "      <td>9.800000e-01</td>\n",
       "      <td>1926.591857</td>\n",
       "      <td>4.693714</td>\n",
       "      <td>1977.377571</td>\n",
       "      <td>2.214286</td>\n",
       "    </tr>\n",
       "    <tr>\n",
       "      <th>std</th>\n",
       "      <td>23.027075</td>\n",
       "      <td>0.091703</td>\n",
       "      <td>0.135975</td>\n",
       "      <td>0.041468</td>\n",
       "      <td>0.006132</td>\n",
       "      <td>1.118239e-15</td>\n",
       "      <td>1002.861175</td>\n",
       "      <td>1.187603</td>\n",
       "      <td>996.898588</td>\n",
       "      <td>1.019987</td>\n",
       "    </tr>\n",
       "    <tr>\n",
       "      <th>min</th>\n",
       "      <td>3573.000000</td>\n",
       "      <td>-70.245000</td>\n",
       "      <td>41.671400</td>\n",
       "      <td>0.021200</td>\n",
       "      <td>0.003700</td>\n",
       "      <td>9.800000e-01</td>\n",
       "      <td>284.550000</td>\n",
       "      <td>1.570000</td>\n",
       "      <td>309.550000</td>\n",
       "      <td>0.000000</td>\n",
       "    </tr>\n",
       "    <tr>\n",
       "      <th>25%</th>\n",
       "      <td>3592.250000</td>\n",
       "      <td>-70.077000</td>\n",
       "      <td>41.798875</td>\n",
       "      <td>0.074575</td>\n",
       "      <td>0.011850</td>\n",
       "      <td>9.800000e-01</td>\n",
       "      <td>1409.905000</td>\n",
       "      <td>4.007500</td>\n",
       "      <td>1457.557500</td>\n",
       "      <td>2.000000</td>\n",
       "    </tr>\n",
       "    <tr>\n",
       "      <th>50%</th>\n",
       "      <td>3612.500000</td>\n",
       "      <td>-69.985000</td>\n",
       "      <td>41.945200</td>\n",
       "      <td>0.089350</td>\n",
       "      <td>0.014350</td>\n",
       "      <td>9.800000e-01</td>\n",
       "      <td>1614.870000</td>\n",
       "      <td>4.650000</td>\n",
       "      <td>1654.870000</td>\n",
       "      <td>2.000000</td>\n",
       "    </tr>\n",
       "    <tr>\n",
       "      <th>75%</th>\n",
       "      <td>3630.750000</td>\n",
       "      <td>-69.937500</td>\n",
       "      <td>42.050125</td>\n",
       "      <td>0.118875</td>\n",
       "      <td>0.017100</td>\n",
       "      <td>9.800000e-01</td>\n",
       "      <td>2005.282500</td>\n",
       "      <td>5.437500</td>\n",
       "      <td>2076.547500</td>\n",
       "      <td>3.000000</td>\n",
       "    </tr>\n",
       "    <tr>\n",
       "      <th>max</th>\n",
       "      <td>3653.000000</td>\n",
       "      <td>-69.929000</td>\n",
       "      <td>42.080800</td>\n",
       "      <td>0.262200</td>\n",
       "      <td>0.047800</td>\n",
       "      <td>9.800000e-01</td>\n",
       "      <td>6444.620000</td>\n",
       "      <td>8.070000</td>\n",
       "      <td>6512.120000</td>\n",
       "      <td>5.000000</td>\n",
       "    </tr>\n",
       "  </tbody>\n",
       "</table>\n",
       "</div>"
      ],
      "text/plain": [
       "               pno        lon        lat  beachslope    nsslope           slz  \\\n",
       "count    70.000000  70.000000  70.000000   70.000000  70.000000  7.000000e+01   \n",
       "mean   3612.014286 -70.018529  41.919279    0.097407   0.015050  9.800000e-01   \n",
       "std      23.027075   0.091703   0.135975    0.041468   0.006132  1.118239e-15   \n",
       "min    3573.000000 -70.245000  41.671400    0.021200   0.003700  9.800000e-01   \n",
       "25%    3592.250000 -70.077000  41.798875    0.074575   0.011850  9.800000e-01   \n",
       "50%    3612.500000 -69.985000  41.945200    0.089350   0.014350  9.800000e-01   \n",
       "75%    3630.750000 -69.937500  42.050125    0.118875   0.017100  9.800000e-01   \n",
       "max    3653.000000 -69.929000  42.080800    0.262200   0.047800  9.800000e-01   \n",
       "\n",
       "               slx        dlz          dlx      nbars  \n",
       "count    70.000000  70.000000    70.000000  70.000000  \n",
       "mean   1926.591857   4.693714  1977.377571   2.214286  \n",
       "std    1002.861175   1.187603   996.898588   1.019987  \n",
       "min     284.550000   1.570000   309.550000   0.000000  \n",
       "25%    1409.905000   4.007500  1457.557500   2.000000  \n",
       "50%    1614.870000   4.650000  1654.870000   2.000000  \n",
       "75%    2005.282500   5.437500  2076.547500   3.000000  \n",
       "max    6444.620000   8.070000  6512.120000   5.000000  "
      ]
     },
     "execution_count": 4,
     "metadata": {},
     "output_type": "execute_result"
    }
   ],
   "source": [
    "df = pd.read_csv('d:/crs/proj/2022_runup/cape_profiles.csv', na_values = 'NaN')\n",
    "#df = df.drop(df.columns[[23]], axis=1) # extra column because of final comma\n",
    "df.describe()"
   ]
  },
  {
   "cell_type": "code",
   "execution_count": 5,
   "id": "eeab47ed",
   "metadata": {},
   "outputs": [],
   "source": [
    "lat = df['lat'].values\n",
    "lon = df['lon'].values\n",
    "nb = df['nbars'].values\n",
    "\n",
    "bs1 = df['bs1'].values.astype('float')\n",
    "bz1 = df['bz1'].values.astype('float')\n",
    "bs2 = df['bs2'].values.astype('float')\n",
    "bz2 = df['bz2'].values.astype('float')\n",
    "bs3 = df['bs3'].values.astype('float')\n",
    "bz3 = df['bz3'].values.astype('float')\n",
    "bs4 = df['bs4'].values.astype('float')\n",
    "bz4 = df['bz4'].values.astype('float')\n",
    "bs5 = df['bs5'].values.astype('float')\n",
    "bz5 = df['bz5'].values.astype('float')\n",
    "bx1 = df['bx1'].values.astype('float')\n",
    "bx2 = df['bx2'].values.astype('float')\n",
    "bx3 = df['bx3'].values.astype('float')\n",
    "bx4 = df['bx4'].values.astype('float')\n",
    "bx5 = df['bx5'].values.astype('float')\n",
    "\n",
    "bslope = df['beachslope'].values.astype('float')\n",
    "nsslope = df['nsslope'].values.astype('float')\n",
    "\n",
    "slz = df['slz'].values.astype('float')\n",
    "slx = df['slx'].values.astype('float')\n",
    "dlz = df['dlz'].values.astype('float')\n",
    "dlx = df['dlx'].values.astype('float')"
   ]
  },
  {
   "cell_type": "code",
   "execution_count": 6,
   "id": "d8d62bd0",
   "metadata": {},
   "outputs": [
    {
     "name": "stdout",
     "output_type": "stream",
     "text": [
      "Bar 1\n",
      "  n, nnan, nvalid:  70 2 68\n",
      "  mean, std, min, max   : 0.020 0.010 0.003 0.047\n",
      "  d5, d25, d50, d75, d95: 0.008 0.013 0.018 0.026 0.037\n",
      "\n",
      "Bar 2\n",
      "  n, nnan, nvalid:  70 14 56\n",
      "  mean, std, min, max   : 0.012 0.003 0.005 0.020\n",
      "  d5, d25, d50, d75, d95: 0.006 0.010 0.012 0.013 0.018\n",
      "\n",
      "Bar 3\n",
      "  n, nnan, nvalid:  70 49 21\n",
      "  mean, std, min, max   : 0.010 0.002 0.005 0.014\n",
      "  d5, d25, d50, d75, d95: 0.006 0.007 0.010 0.012 0.012\n",
      "\n",
      "Bar 4\n",
      "  n, nnan, nvalid:  70 62 8\n",
      "  mean, std, min, max   : 0.008 0.002 0.006 0.012\n",
      "  d5, d25, d50, d75, d95: 0.006 0.007 0.009 0.009 0.011\n",
      "\n",
      "Bar 5\n",
      "  n, nnan, nvalid:  70 68 2\n",
      "  mean, std, min, max   : 0.007 0.001 0.006 0.009\n",
      "  d5, d25, d50, d75, d95: 0.006 0.007 0.007 0.008 0.009\n",
      "\n"
     ]
    }
   ],
   "source": [
    "print('Bar 1')\n",
    "stat_summary(bs1, iprint=True)\n",
    "print()\n",
    "print('Bar 2')\n",
    "stat_summary(bs2, iprint=True)\n",
    "print()\n",
    "print('Bar 3')\n",
    "stat_summary(bs3, iprint=True)\n",
    "print()\n",
    "print('Bar 4')\n",
    "stat_summary(bs4, iprint=True)\n",
    "print()\n",
    "print('Bar 5')\n",
    "stat_summary(bs5, iprint=True)\n",
    "print()"
   ]
  },
  {
   "cell_type": "code",
   "execution_count": 7,
   "id": "b6873c51",
   "metadata": {},
   "outputs": [
    {
     "name": "stdout",
     "output_type": "stream",
     "text": [
      "[0.    0.005 0.01  0.015 0.02  0.025 0.03  0.035 0.04  0.045 0.05 ]\n"
     ]
    },
    {
     "data": {
      "text/plain": [
       "<matplotlib.legend.Legend at 0x1a43246d370>"
      ]
     },
     "execution_count": 7,
     "metadata": {},
     "output_type": "execute_result"
    },
    {
     "data": {
      "image/png": "[encoded data removed]",
      "text/plain": [
       "<Figure size 432x288 with 1 Axes>"
      ]
     },
     "metadata": {
      "needs_background": "light"
     },
     "output_type": "display_data"
    }
   ],
   "source": [
    "\n",
    "bcols = ['#ffffcc','#a1dab4','#41b6c4','#2c7fb8','#253494']\n",
    "bins = np.arange(0.,.055, .005)\n",
    "print(bins)\n",
    "plt.hist(bs1, alpha = .5, bins = bins, label='Bar 1')\n",
    "plt.hist(bs2, alpha = .5, bins = bins, label='Bar 2')\n",
    "plt.hist(bs3, alpha = .5, bins = bins, label='Bar 3')\n",
    "plt.hist(bs4, alpha = .5, bins = bins, label='Bar 4')\n",
    "# plt.hist(bs1, alpha = .5, bins = bins, color = bcols[1])\n",
    "# plt.hist(bs2, alpha = .5, bins = bins, color = bcols[2])\n",
    "# plt.hist(bs3, alpha = .5, bins = bins, color = bcols[3])\n",
    "# plt.hist(bs4, alpha = .5, bins = bins, color = bcols[4])\n",
    "# plt.hist(bs1, bins = bins, label='Bar 1', histtype='step', linewidth=2.5, color = bcols[1] )\n",
    "# plt.hist(bs2, bins = bins, label='Bar 2', histtype='step', linewidth=2.5, color = bcols[2] )\n",
    "# plt.hist(bs3, bins = bins, label='Bar 3', histtype='step', linewidth=2.5, color = bcols[3] )\n",
    "# plt.hist(bs4, bins = bins, label='Bar 4', histtype='step', linewidth=2.5, color = bcols[4] )\n",
    "plt.xlabel('Bar Slope (tanB)')\n",
    "plt.ylabel('N')\n",
    "plt.legend()\n",
    "# plt.savefig(\"C:/crs/proj/2022_Runup/barslope_hist.svg\", dpi=200)"
   ]
  },
  {
   "cell_type": "code",
   "execution_count": 8,
   "id": "116237ad",
   "metadata": {},
   "outputs": [
    {
     "name": "stdout",
     "output_type": "stream",
     "text": [
      "0.010000333346667207\n"
     ]
    }
   ],
   "source": [
    "print(np.tan(0.01))"
   ]
  },
  {
   "cell_type": "code",
   "execution_count": 20,
   "id": "7c87d9e6",
   "metadata": {},
   "outputs": [
    {
     "name": "stdout",
     "output_type": "stream",
     "text": [
      "Hs95: 2.11  Tp95: 9.52\n",
      "Lo95:  141.5021490746219\n"
     ]
    }
   ],
   "source": [
    "# Use median wave height and period, calculate range of runup based on bar slopes\n",
    "s06r2 = np.nan*np.ones_like(bs1)\n",
    "brun1 = np.nan*np.ones_like(bs1)\n",
    "lrun1 = np.nan*np.ones_like(bs1)\n",
    "print('Hs95: {}  Tp95: {}'.format(Hs95,Tp95))\n",
    "Lo95 = calc_L0(Tp95)\n",
    "print('Lo95: ',Lo95)\n",
    "Ess, f, df = jonswap_ess(Hs95, Tp95)\n",
    "for i, barslope in enumerate(bs1):\n",
    "    if(nb[i]>0):\n",
    "\n",
    "        brun1[i], S, setup, Sinc, SIG, ir, R16R  = calcR2_Raubenheimer(Hs95, Tp95 , bslope[i], barslope)\n",
    "        lrun1[i] = two_slope_IPA_free(Ess, f, df, bslope[i], barslope)\n",
    "        s06r2[i] = S06(Hs95, Lo95, bslope[i] )\n",
    "        #print(bslope[i], barslope, s06r2[i], brun1[i], lrun1[i])\n"
   ]
  },
  {
   "cell_type": "code",
   "execution_count": 21,
   "id": "4a26185c",
   "metadata": {},
   "outputs": [
    {
     "data": {
      "image/png": "[encoded data removed]",
      "text/plain": [
       "<Figure size 432x288 with 1 Axes>"
      ]
     },
     "metadata": {
      "needs_background": "light"
     },
     "output_type": "display_data"
    }
   ],
   "source": [
    "ok = np.argwhere( np.isfinite(brun1+lrun1+s06r2))\n",
    "res = np.hstack((brun1[ok],lrun1[ok],s06r2[ok]))\n",
    "plt.title('Variable Beach Slope')\n",
    "plt.boxplot(res, notch=True)\n",
    "#plt.ylim([0,1.5])\n",
    "plt.ylabel('Runup (m)', fontsize=14)\n",
    "['R21','L22','S06']\n",
    "plt.xticks([1,2,3], ['R21','L22','S06'])\n",
    "plt.xlabel('Formula',fontsize=14)\n",
    "plt.savefig(\"d:/crs/proj/2022_Runup/bar_variable_slope_runup_boxplot.svg\", dpi=200)"
   ]
  },
  {
   "cell_type": "code",
   "execution_count": 22,
   "id": "390cc312",
   "metadata": {},
   "outputs": [
    {
     "name": "stdout",
     "output_type": "stream",
     "text": [
      "Hs95: 2.11  Tp95: 9.52\n",
      "Lo95:  141.5021490746219\n"
     ]
    }
   ],
   "source": [
    "# Do the same thing, but keep beach slope constant\n",
    "s06sr2 = np.nan*np.ones_like(bs1)\n",
    "bruns1 = np.nan*np.ones_like(bs1)\n",
    "lruns1 = np.nan*np.ones_like(bs1)\n",
    "print('Hs95: {}  Tp95: {}'.format(Hs95,Tp95))\n",
    "Lo95 = calc_L0(Tp95)\n",
    "print('Lo95: ',Lo95)\n",
    "beach_slope = 0.1 # median of RC profiles\n",
    "Ess, f, df = jonswap_ess(Hs95, Tp95)\n",
    "for i, barslope in enumerate(bs1):\n",
    "    if(nb[i]>0):\n",
    "\n",
    "        bruns1[i], S, setup, Sinc, SIG, ir, R16R  = calcR2_Raubenheimer(Hs95, Tp95 , beach_slope, barslope)\n",
    "        lruns1[i] = two_slope_IPA_free(Ess, f, df, beach_slope, barslope)\n",
    "        s06sr2[i] = S06(Hs95, Lo95, beach_slope )\n",
    "        #print(bslope[i], barslope, s06r2[i], brun1[i], lrun1[i])"
   ]
  },
  {
   "cell_type": "code",
   "execution_count": 27,
   "id": "16e63761",
   "metadata": {},
   "outputs": [
    {
     "data": {
      "image/png": "[encoded data removed]",
      "text/plain": [
       "<Figure size 432x288 with 1 Axes>"
      ]
     },
     "metadata": {
      "needs_background": "light"
     },
     "output_type": "display_data"
    }
   ],
   "source": [
    "ok = np.argwhere( np.isfinite(brun1+lrun1+s06r2))\n",
    "res = np.hstack((bruns1[ok], lruns1[ok], s06sr2[ok], brun1[ok], lrun1[ok], s06r2[ok]))\n",
    "plt.title('Constant and Variable Beach Slope')\n",
    "plt.boxplot(res, notch=True)\n",
    "#plt.ylim([0,1.5])\n",
    "plt.ylabel('Runup (m)', fontsize=14)\n",
    "['R21','L22','S06','R21','L22','S06']\n",
    "plt.xticks([1,2,3,4,5,6], ['R21','L22','S06','R21','L22','S06'])\n",
    "plt.xlabel(r'Constant $\\beta$ | Obs. $\\beta$',fontsize=14)\n",
    "plt.savefig(\"d:/crs/proj/2022_Runup/bar_fixed_slope_runup_boxplot.svg\", dpi=200)"
   ]
  },
  {
   "cell_type": "code",
   "execution_count": 13,
   "id": "4bf6c113",
   "metadata": {},
   "outputs": [
    {
     "name": "stdout",
     "output_type": "stream",
     "text": [
      "[[1.         0.17350259]\n",
      " [0.17350259 1.        ]]\n"
     ]
    }
   ],
   "source": [
    "ok = np.argwhere(np.isfinite(bs1))\n",
    "np.shape([bslope[ok], bs1[ok]])\n",
    "cc = np.corrcoef(np.squeeze([bslope[ok], bs1[ok]]))\n",
    "print(cc)"
   ]
  },
  {
   "cell_type": "code",
   "execution_count": 15,
   "id": "30fdbb30",
   "metadata": {},
   "outputs": [
    {
     "data": {
      "text/plain": [
       "Text(0, 0.5, 'Bar Slope')"
      ]
     },
     "execution_count": 15,
     "metadata": {},
     "output_type": "execute_result"
    },
    {
     "data": {
      "image/png": "[encoded data removed]",
      "text/plain": [
       "<Figure size 432x288 with 2 Axes>"
      ]
     },
     "metadata": {
      "needs_background": "light"
     },
     "output_type": "display_data"
    }
   ],
   "source": [
    "plt.scatter(bslope[ok],bs1[ok],s=25, c=bs1[ok]/bslope[ok],cmap='inferno')\n",
    "cbar = plt.colorbar()\n",
    "cbar.ax.set_ylabel('Bar slope / Beach slope', rotation=90)\n",
    "plt.xlabel('Beach Slope')\n",
    "plt.ylabel('Bar Slope')\n",
    "# plt.savefig(\"C:/crs/proj/2022_Runup/beachslope_barslope_scatter.svg\", dpi=200)"
   ]
  },
  {
   "cell_type": "code",
   "execution_count": null,
   "id": "83892954",
   "metadata": {},
   "outputs": [],
   "source": [
    "plt.hist(bs1/bslope)\n",
    "stat_summary(bs1/bslope, iprint=True)"
   ]
  },
  {
   "cell_type": "code",
   "execution_count": null,
   "id": "21753847",
   "metadata": {},
   "outputs": [],
   "source": [
    "# high tide slope (not sure I trust this...these are very steep)\n",
    "tide = 1.12\n",
    "\n",
    "# lower of shoreline+tide or dune low\n",
    "rise = np.minimum(slz+tide,dlz)-bz1\n",
    "# (lower of distance to dune line or tide on beach slope) minus bar x\n",
    "run = np.minimum(dlx,slx-tide/bslope)-bx1\n",
    "ht_slope = rise/run\n",
    "_ = stat_summary(ht_slope, iprint=True)"
   ]
  },
  {
   "cell_type": "code",
   "execution_count": null,
   "id": "0ac0f28c",
   "metadata": {},
   "outputs": [],
   "source": [
    "# trim off really big ones\n",
    "ok = np.argwhere(ht_slope<=.03)\n",
    "plt.scatter(lon[ok],lat[ok],(400*ht_slope[ok])**2,ht_slope[ok],cmap='inferno')\n",
    "plt.colorbar()\n",
    "plt.title('Bar Slope')"
   ]
  },
  {
   "cell_type": "code",
   "execution_count": null,
   "id": "6ea852e8",
   "metadata": {},
   "outputs": [],
   "source": [
    "plt.scatter(lon,lat,4*nb**2,nb,cmap='inferno')\n",
    "plt.colorbar()\n",
    "plt.title('Number of Bars')"
   ]
  },
  {
   "cell_type": "code",
   "execution_count": null,
   "id": "e9c2837b",
   "metadata": {},
   "outputs": [],
   "source": [
    "# xfac is crude aspect ratio for lat/lon plot\n",
    "xfac=np.cos(41.9*np.pi/180)\n",
    "print(xfac)\n",
    "ysize = 6\n",
    "xsize = xfac*ysize\n",
    "# get rid of a few big slopes\n",
    "ok = np.argwhere(bs1<=.08)\n",
    "\n",
    "fig = plt.figure(figsize=(xsize,ysize), dpi=200)\n",
    "plt.scatter(lon[ok],lat[ok],4*nb[ok]**2,bs1[ok],cmap='inferno')\n",
    "for i, numbar in enumerate(nb):\n",
    "    plt.text(lon[i]+.008,lat[i]+.005,str(numbar))\n",
    "cbar = plt.colorbar()\n",
    "plt.xlabel(r'Longitude ($^\\circ$)')\n",
    "plt.ylabel(r'Latitude ($^\\circ$)')\n",
    "plt.xticks(np.arange(-70.2, -69.9,.1))\n",
    "cbar.ax.set_ylabel(r'Bar Slope (tan$\\beta$)', rotation=90)\n",
    "plt.savefig(\"C:/crs/proj/2022_Runup/cc_bar_slope_nbars.svg\", dpi=200)"
   ]
  },
  {
   "cell_type": "code",
   "execution_count": null,
   "id": "6d7abd7e",
   "metadata": {},
   "outputs": [],
   "source": [
    "# is there a correlation between slope and number of bars\n",
    "plt.plot(nb,bs1,'.')\n",
    "plt.xlabel('number of bars')\n",
    "plt.ylabel('bar slope')"
   ]
  }
 ],
 "metadata": {
  "kernelspec": {
   "display_name": "Python 3 (ipykernel)",
   "language": "python",
   "name": "python3"
  },
  "language_info": {
   "codemirror_mode": {
    "name": "ipython",
    "version": 3
   },
   "file_extension": ".py",
   "mimetype": "text/x-python",
   "name": "python",
   "nbconvert_exporter": "python",
   "pygments_lexer": "ipython3",
   "version": "3.9.13"
  }
 },
 "nbformat": 4,
 "nbformat_minor": 5
}

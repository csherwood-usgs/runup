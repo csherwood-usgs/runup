{
 "cells": [
  {
   "cell_type": "code",
   "execution_count": 2,
   "id": "1ba9fa0c",
   "metadata": {},
   "outputs": [],
   "source": [
    "import numpy as np\n",
    "import pandas as pd\n",
    "import matplotlib.pyplot as plt\n",
    "%run -i wave_funcs.py \n",
    "\n",
    "drv = 'C:'\n",
    "pdir = drv+'/crs/proj/2022_runup/'"
   ]
  },
  {
   "cell_type": "code",
   "execution_count": 3,
   "id": "964eaff8",
   "metadata": {},
   "outputs": [
    {
     "data": {
      "text/plain": [
       "25.0"
      ]
     },
     "execution_count": 3,
     "metadata": {},
     "output_type": "execute_result"
    }
   ],
   "source": [
    "1/.04"
   ]
  },
  {
   "cell_type": "code",
   "execution_count": 6,
   "id": "19df1739",
   "metadata": {},
   "outputs": [
    {
     "name": "stdout",
     "output_type": "stream",
     "text": [
      "np: 21\n",
      "[0.02411693 0.02643115 0.02896744 0.0317471  0.0347935  0.03813222\n",
      " 0.04179132 0.04580154 0.05019657 0.05501335 0.06029233 0.06607788\n",
      " 0.07241859 0.07936775 0.08698374 0.09533055 0.1044783  0.11450385\n",
      " 0.12549144 0.13753337]\n",
      "[0.02411693 0.02527404 0.02769929 0.03035727 0.0332703  0.03646286\n",
      " 0.03996177 0.04379643 0.04799906 0.05260496 0.05765284 0.0631851\n",
      " 0.06924823 0.07589317 0.08317575 0.09115714 0.09990442 0.10949107\n",
      " 0.11999764 0.1315124  0.13753337]\n",
      "5.153805174540507 5.2702880854372545 5.151862800503691 5.0346279952682815 5.2702880854372545\n",
      "5.034627995268282\n"
     ]
    },
    {
     "data": {
      "image/png": "[encoded data removed]",
      "text/plain": [
       "<Figure size 432x288 with 1 Axes>"
      ]
     },
     "metadata": {
      "needs_background": "light"
     },
     "output_type": "display_data"
    }
   ],
   "source": [
    "# make a frequency spectrum in sea-swell (SS) band\n",
    "wlo = 2.*np.pi/25.\n",
    "whi = 2.*np.pi/4.\n",
    "\n",
    "# experimenting with the best way to integrate\n",
    "# (linspace is bad)\n",
    "w = np.geomspace(wlo, whi, 21)\n",
    "\n",
    "n = len(w)\n",
    "print('np:', n)\n",
    "T = 2.*np.pi/w\n",
    "f = 1./T\n",
    "dw = np.diff(w)\n",
    "print(dw)\n",
    "\n",
    "delw = np.zeros_like(w)\n",
    "delw[1:-1]=0.5*(dw[0:-1]+dw[1:])\n",
    "delw[0]=dw[0]\n",
    "delw[-1]=dw[-1]\n",
    "print(delw)\n",
    "delw2 = np.zeros_like(w)\n",
    "delw2[1:-1]=0.5*(dw[0:-1]+dw[1:])\n",
    "delw2[0]=dw[0]/2.\n",
    "delw2[-1]=dw[-1]/2.\n",
    "\n",
    "dw1 = np.append(dw[0], dw)\n",
    "dw2 = np.append(dw, dw[-1])\n",
    "\n",
    "js = jonswap(w, 5., 15.)\n",
    "plt.loglog(w,js)\n",
    "plt.ylim(10**-4,10)\n",
    "Hst = 4.*np.sqrt( np.trapz(js, w) ) # this produces same aswer as next one\n",
    "Hs = 4.*np.sqrt( np.sum(js*delw) )  # this halves dw at the endpoints, but somehow overpredicts\n",
    "Hs2 = 4.*np.sqrt( np.sum(js*delw2) )  # this is fancier delw, but same as tra\n",
    "Hs1 = 4.*np.sqrt( np.sum(js*dw1) )  # this is best result\n",
    "Hs2 = 4.*np.sqrt( np.sum(js*dw2) )  # this is worst result\n",
    "\n",
    "print(Hs, Hs2, Hst, Hs1, Hs2)\n",
    "\n",
    "# check integration using f\n",
    "dff = np.diff(f)\n",
    "df = np.append(dff[0], dff)\n",
    "Hsf = 4.*np.sqrt( np.sum(2.*np.pi*js*df))\n",
    "print(Hsf)"
   ]
  }
 ],
 "metadata": {
  "kernelspec": {
   "display_name": "Python 3 (ipykernel)",
   "language": "python",
   "name": "python3"
  },
  "language_info": {
   "codemirror_mode": {
    "name": "ipython",
    "version": 3
   },
   "file_extension": ".py",
   "mimetype": "text/x-python",
   "name": "python",
   "nbconvert_exporter": "python",
   "pygments_lexer": "ipython3",
   "version": "3.9.7"
  }
 },
 "nbformat": 4,
 "nbformat_minor": 5
}

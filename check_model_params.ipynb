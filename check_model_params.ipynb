{
 "cells": [
  {
   "cell_type": "code",
   "execution_count": 1,
   "id": "1ba9fa0c",
   "metadata": {},
   "outputs": [],
   "source": [
    "import numpy as np\n",
    "import pandas as pd\n",
    "import matplotlib.pyplot as plt\n",
    "%run -i wave_funcs.py \n",
    "\n",
    "drv = 'D:'\n",
    "pdir = drv+'/crs/proj/2022_runup/'"
   ]
  },
  {
   "cell_type": "code",
   "execution_count": 19,
   "id": "964eaff8",
   "metadata": {},
   "outputs": [
    {
     "name": "stdout",
     "output_type": "stream",
     "text": [
      "T: 5, h: 15, k=0.163, kh=2.451, Lo=39.0, L15=32.2 h/Lo=0.4\n",
      "\n",
      "T: 15, h: 15, k=0.036, kh=0.542, Lo=351.3, L15=351.3 h/Lo=0.0\n"
     ]
    }
   ],
   "source": [
    "def calc_Lo(T):\n",
    "    return( 9.81 * T * T/(2. * np.pi) )\n",
    "\n",
    "\n",
    "h=15.\n",
    "T=5.\n",
    "Lo = calc_Lo(T)\n",
    "kh = qkhfs(2.*np.pi/T, h)\n",
    "k = kh/h\n",
    "Lh = wavelength_L(T,h)\n",
    "print('T: {:.0f}, h: {:.0f}, k={:.3f}, kh={:.3f}, Lo={:.1f}, L{:.0f}={:.1f} h/Lo={:.1f}'.format(T, h, k, kh, Lo, h, Lh, h/Lo ))\n",
    "print()\n",
    "\n",
    "h=15.\n",
    "T=15.\n",
    "Lo = calc_Lo(T)\n",
    "kh = qkhfs(2.*np.pi/T, h)\n",
    "k = kh/h\n",
    "Lh = wavelength_L(T,h)\n",
    "print('T: {:.0f}, h: {:.0f}, k={:.3f}, kh={:.3f}, Lo={:.1f}, L{:.0f}={:.1f} h/Lo={:.1f}'.format(T, h, k, kh, Lo, h, Lh, h/Lo ))\n"
   ]
  }
 ],
 "metadata": {
  "kernelspec": {
   "display_name": "Python 3 (ipykernel)",
   "language": "python",
   "name": "python3"
  },
  "language_info": {
   "codemirror_mode": {
    "name": "ipython",
    "version": 3
   },
   "file_extension": ".py",
   "mimetype": "text/x-python",
   "name": "python",
   "nbconvert_exporter": "python",
   "pygments_lexer": "ipython3",
   "version": "3.10.4"
  }
 },
 "nbformat": 4,
 "nbformat_minor": 5
}

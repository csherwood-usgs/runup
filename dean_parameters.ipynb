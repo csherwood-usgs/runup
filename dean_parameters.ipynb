{
 "cells": [
  {
   "cell_type": "code",
   "execution_count": 1,
   "id": "722c23ed",
   "metadata": {},
   "outputs": [],
   "source": [
    "import numpy as np\n",
    "import pandas as pd\n",
    "import matplotlib.pyplot as plt"
   ]
  },
  {
   "cell_type": "code",
   "execution_count": 2,
   "id": "e0cdf664",
   "metadata": {},
   "outputs": [
    {
     "data": {
      "text/html": [
       "<div>\n",
       "<style scoped>\n",
       "    .dataframe tbody tr th:only-of-type {\n",
       "        vertical-align: middle;\n",
       "    }\n",
       "\n",
       "    .dataframe tbody tr th {\n",
       "        vertical-align: top;\n",
       "    }\n",
       "\n",
       "    .dataframe thead th {\n",
       "        text-align: right;\n",
       "    }\n",
       "</style>\n",
       "<table border=\"1\" class=\"dataframe\">\n",
       "  <thead>\n",
       "    <tr style=\"text-align: right;\">\n",
       "      <th></th>\n",
       "      <th>pno</th>\n",
       "      <th>lon</th>\n",
       "      <th>lat</th>\n",
       "      <th>bslope</th>\n",
       "      <th>nsslope</th>\n",
       "      <th>a</th>\n",
       "      <th>rmse</th>\n",
       "    </tr>\n",
       "  </thead>\n",
       "  <tbody>\n",
       "    <tr>\n",
       "      <th>count</th>\n",
       "      <td>70.000000</td>\n",
       "      <td>70.000000</td>\n",
       "      <td>70.000000</td>\n",
       "      <td>70.000000</td>\n",
       "      <td>70.000000</td>\n",
       "      <td>70.000000</td>\n",
       "      <td>70.000000</td>\n",
       "    </tr>\n",
       "    <tr>\n",
       "      <th>mean</th>\n",
       "      <td>3612.014286</td>\n",
       "      <td>-70.018529</td>\n",
       "      <td>41.919279</td>\n",
       "      <td>0.097407</td>\n",
       "      <td>0.015050</td>\n",
       "      <td>0.129914</td>\n",
       "      <td>0.242286</td>\n",
       "    </tr>\n",
       "    <tr>\n",
       "      <th>std</th>\n",
       "      <td>23.027075</td>\n",
       "      <td>0.091703</td>\n",
       "      <td>0.135975</td>\n",
       "      <td>0.041468</td>\n",
       "      <td>0.006132</td>\n",
       "      <td>0.041188</td>\n",
       "      <td>0.155444</td>\n",
       "    </tr>\n",
       "    <tr>\n",
       "      <th>min</th>\n",
       "      <td>3573.000000</td>\n",
       "      <td>-70.245000</td>\n",
       "      <td>41.671400</td>\n",
       "      <td>0.021200</td>\n",
       "      <td>0.003700</td>\n",
       "      <td>0.064000</td>\n",
       "      <td>0.010000</td>\n",
       "    </tr>\n",
       "    <tr>\n",
       "      <th>25%</th>\n",
       "      <td>3592.250000</td>\n",
       "      <td>-70.077000</td>\n",
       "      <td>41.798875</td>\n",
       "      <td>0.074575</td>\n",
       "      <td>0.011850</td>\n",
       "      <td>0.096000</td>\n",
       "      <td>0.130000</td>\n",
       "    </tr>\n",
       "    <tr>\n",
       "      <th>50%</th>\n",
       "      <td>3612.500000</td>\n",
       "      <td>-69.985000</td>\n",
       "      <td>41.945200</td>\n",
       "      <td>0.089350</td>\n",
       "      <td>0.014350</td>\n",
       "      <td>0.129000</td>\n",
       "      <td>0.210000</td>\n",
       "    </tr>\n",
       "    <tr>\n",
       "      <th>75%</th>\n",
       "      <td>3630.750000</td>\n",
       "      <td>-69.937500</td>\n",
       "      <td>42.050125</td>\n",
       "      <td>0.118875</td>\n",
       "      <td>0.017100</td>\n",
       "      <td>0.149750</td>\n",
       "      <td>0.347500</td>\n",
       "    </tr>\n",
       "    <tr>\n",
       "      <th>max</th>\n",
       "      <td>3653.000000</td>\n",
       "      <td>-69.929000</td>\n",
       "      <td>42.080800</td>\n",
       "      <td>0.262200</td>\n",
       "      <td>0.047800</td>\n",
       "      <td>0.233000</td>\n",
       "      <td>0.690000</td>\n",
       "    </tr>\n",
       "  </tbody>\n",
       "</table>\n",
       "</div>"
      ],
      "text/plain": [
       "               pno        lon        lat     bslope    nsslope          a  \\\n",
       "count    70.000000  70.000000  70.000000  70.000000  70.000000  70.000000   \n",
       "mean   3612.014286 -70.018529  41.919279   0.097407   0.015050   0.129914   \n",
       "std      23.027075   0.091703   0.135975   0.041468   0.006132   0.041188   \n",
       "min    3573.000000 -70.245000  41.671400   0.021200   0.003700   0.064000   \n",
       "25%    3592.250000 -70.077000  41.798875   0.074575   0.011850   0.096000   \n",
       "50%    3612.500000 -69.985000  41.945200   0.089350   0.014350   0.129000   \n",
       "75%    3630.750000 -69.937500  42.050125   0.118875   0.017100   0.149750   \n",
       "max    3653.000000 -69.929000  42.080800   0.262200   0.047800   0.233000   \n",
       "\n",
       "            rmse  \n",
       "count  70.000000  \n",
       "mean    0.242286  \n",
       "std     0.155444  \n",
       "min     0.010000  \n",
       "25%     0.130000  \n",
       "50%     0.210000  \n",
       "75%     0.347500  \n",
       "max     0.690000  "
      ]
     },
     "execution_count": 2,
     "metadata": {},
     "output_type": "execute_result"
    }
   ],
   "source": [
    "# Read in Dean parameters fit to Cape Cod profiles in fit_Dean_parameter.m\n",
    "csv = 'C:/crs/proj/2022_Runup/cape_dean_params.csv'\n",
    "colnames = ['pno','lon','lat','bslope','nsslope','a','rmse']\n",
    "df = pd.read_csv(csv, header=None, names = colnames)\n",
    "df.describe()"
   ]
  },
  {
   "cell_type": "code",
   "execution_count": 3,
   "id": "e83082a9",
   "metadata": {},
   "outputs": [
    {
     "data": {
      "text/plain": [
       "Text(0.5, 1.0, 'Comparison of Dean param and nearshore slope, R = 0.555')"
      ]
     },
     "execution_count": 3,
     "metadata": {},
     "output_type": "execute_result"
    },
    {
     "data": {
      "image/png": "[encoded data removed]",
      "text/plain": [
       "<Figure size 432x288 with 1 Axes>"
      ]
     },
     "metadata": {
      "needs_background": "light"
     },
     "output_type": "display_data"
    }
   ],
   "source": [
    "plt.plot(df['nsslope'],df['a'],'.')\n",
    "plt.xlabel('Neashore slope')\n",
    "plt.ylabel('Dean parameter')\n",
    "R = np.corrcoef(df['nsslope'].values,df['a'].values)\n",
    "ts = 'Comparison of Dean param and nearshore slope, R = {:.3f}'.format(R[0,1])\n",
    "plt.title(ts)\n"
   ]
  },
  {
   "cell_type": "code",
   "execution_count": 4,
   "id": "426d747a",
   "metadata": {},
   "outputs": [
    {
     "data": {
      "text/plain": [
       "Text(0, 0.5, 'Dean parameter')"
      ]
     },
     "execution_count": 4,
     "metadata": {},
     "output_type": "execute_result"
    },
    {
     "data": {
      "image/png": "[encoded data removed]",
      "text/plain": [
       "<Figure size 432x288 with 1 Axes>"
      ]
     },
     "metadata": {
      "needs_background": "light"
     },
     "output_type": "display_data"
    }
   ],
   "source": [
    "plt.plot(df['bslope'],df['a'],'.')\n",
    "R = np.corrcoef(df['bslope'].values,df['a'].values)\n",
    "plt.title('Comparison of Dean param and beach slope, R={:.3f}'.format(R[0,1]))\n",
    "plt.xlabel('Neashore slope')\n",
    "plt.ylabel('Dean parameter')"
   ]
  },
  {
   "cell_type": "code",
   "execution_count": null,
   "id": "ca3f9281",
   "metadata": {},
   "outputs": [],
   "source": []
  }
 ],
 "metadata": {
  "kernelspec": {
   "display_name": "Python 3 (ipykernel)",
   "language": "python",
   "name": "python3"
  },
  "language_info": {
   "codemirror_mode": {
    "name": "ipython",
    "version": 3
   },
   "file_extension": ".py",
   "mimetype": "text/x-python",
   "name": "python",
   "nbconvert_exporter": "python",
   "pygments_lexer": "ipython3",
   "version": "3.9.7"
  }
 },
 "nbformat": 4,
 "nbformat_minor": 5
}

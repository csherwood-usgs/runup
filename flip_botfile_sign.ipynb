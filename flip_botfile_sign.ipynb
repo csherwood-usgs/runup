{
 "cells": [
  {
   "cell_type": "code",
   "execution_count": 1,
   "id": "b4e046ec",
   "metadata": {},
   "outputs": [],
   "source": [
    "import pandas as pd\n",
    "import numpy as np\n",
    "from scipy.signal import savgol_filter\n",
    "from scipy.interpolate import interp1d\n",
    "import matplotlib.pyplot as plt\n",
    "\n",
    "em2022 = np.loadtxt('C:/crs/proj/2022_SWASH/hom2022.bot')"
   ]
  },
  {
   "cell_type": "code",
   "execution_count": 2,
   "id": "c4249cbc",
   "metadata": {},
   "outputs": [],
   "source": [
    "em2022 = -em2022"
   ]
  },
  {
   "cell_type": "code",
   "execution_count": 3,
   "id": "b67fcc51",
   "metadata": {},
   "outputs": [],
   "source": [
    "np.savetxt('C:/crs/proj/2022_SWASH/HoM/hom2022.bot', em2022, fmt='%.3f', delimiter=\",\")"
   ]
  }
 ],
 "metadata": {
  "kernelspec": {
   "display_name": "Python 3 (ipykernel)",
   "language": "python",
   "name": "python3"
  },
  "language_info": {
   "codemirror_mode": {
    "name": "ipython",
    "version": 3
   },
   "file_extension": ".py",
   "mimetype": "text/x-python",
   "name": "python",
   "nbconvert_exporter": "python",
   "pygments_lexer": "ipython3",
   "version": "3.9.7"
  }
 },
 "nbformat": 4,
 "nbformat_minor": 5
}

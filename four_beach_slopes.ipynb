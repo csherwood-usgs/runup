{
 "cells": [
  {
   "cell_type": "code",
   "execution_count": 7,
   "id": "89cea1a5",
   "metadata": {},
   "outputs": [
    {
     "name": "stdout",
     "output_type": "stream",
     "text": [
      "bs2020: 0.0121\n",
      "bs2021: 0.0121\n",
      "bs2022: 0.0112\n",
      "\n"
     ]
    }
   ],
   "source": [
    "import numpy as np\n",
    "import pandas as pd\n",
    "import matplotlib.pyplot as plt\n",
    "%run -i runup_funcs.py\n",
    "%run -i wave_funcs.py \n",
    "\n",
    "# hand calculation of slope from bar crest to zero NAVD88\n",
    "# HoM from profiles exported from GM based on USGS mapping\n",
    "bs2020 = 5.273/(596.6-159.3)\n",
    "bs2021 = 5.15/(599.85-173.9)\n",
    "bs2022 = 5.21/(633.99-170.69)\n",
    "print('bs2020: {:.04f}\\nbs2021: {:.04f}\\nbs2022: {:.04f}\\n'.format(bs2020,bs2021,bs2022))\n",
    "# use beach slope of 0.037"
   ]
  },
  {
   "cell_type": "code",
   "execution_count": 2,
   "id": "381c167d",
   "metadata": {},
   "outputs": [
    {
     "name": "stdout",
     "output_type": "stream",
     "text": [
      "Mbs1_2018: 0.0223 Mbs2_2018: 0.0085\n",
      "Mbs1_2021: 0.0317 Mbs2_2021: 0.0111\n",
      "Mbs1_2022: 0.0140 Mbs2_2022: 0.0116\n"
     ]
    }
   ],
   "source": [
    "# Marconi inner bar 1, and outer bar 2\n",
    "Mbs1_2018 = 1.798/(801.84-721.08)\n",
    "Mbs2_2018 = 4.93/(801.84-222.81)\n",
    "Mbs1_2021 = 2.146/(804.28-736.58)\n",
    "Mbs2_2021 = 6.1/(804.28-254.55)\n",
    "Mbs1_2022 = 1.228/(796.94-709.01)\n",
    "Mbs2_2022 = 7.2/(796.92-176.4)\n",
    "print('Mbs1_2018: {:.04f} Mbs2_2018: {:.04f}'.format(Mbs1_2018, Mbs2_2018))\n",
    "print('Mbs1_2021: {:.04f} Mbs2_2021: {:.04f}'.format(Mbs1_2021, Mbs2_2021))\n",
    "print('Mbs1_2022: {:.04f} Mbs2_2022: {:.04f}'.format(Mbs1_2022, Mbs2_2022))"
   ]
  },
  {
   "cell_type": "code",
   "execution_count": 9,
   "id": "2a4cc29f",
   "metadata": {},
   "outputs": [
    {
     "name": "stdout",
     "output_type": "stream",
     "text": [
      "bs2020_04: 0.0161\n",
      "bs2020_11: 0.0124\n",
      "bs2021_10: 0.0249\n",
      "\n",
      "bsc2020_04: 3.1081\n",
      "bc2020_11: 2.9730\n",
      "bc2021_10: 3.1081\n",
      "\n",
      "bd2020_04: 193.3594\n",
      "bd2020_11: 240.2344\n",
      "bd2021_10: 125.0000\n",
      "\n",
      "beach slope is:  0.052\n"
     ]
    }
   ],
   "source": [
    "# Pea Island measured from Jin-Si's figure w/ ruler\n",
    "bs2020_04 = (5*2.3/3.7)/(250*(13.2-3.3)/12.8)\n",
    "bs2020_11 = (5*2.2/3.7)/(250*(16-3.7)/12.8)\n",
    "bs2021_10 = (5*2.3/3.7)/(250*(10.2-3.8)/12.8)\n",
    "# bar crest depths\n",
    "bd2020_04 = (250*(13.2-3.3)/12.8)\n",
    "bd2020_11 = (250*(16-3.7)/12.8)\n",
    "bd2021_10 = (250*(10.2-3.8)/12.8)\n",
    "# bar crest depths\n",
    "bc2020_04 = (5*2.3/3.7)\n",
    "bc2020_11 = (5*2.2/3.7)\n",
    "bc2021_10 = (5*2.3/3.7)\n",
    "print('bs2020_04: {:.04f}\\nbs2020_11: {:.04f}\\nbs2021_10: {:.04f}\\n'.format(bs2020_04,bs2020_11,bs2021_10))\n",
    "print('bc2020_04: {:.04f}\\nbc2020_11: {:.04f}\\nbc2021_10: {:.04f}\\n'.format(bc2020_04,bc2020_11,bc2021_10))\n",
    "print('bd2020_04: {:.04f}\\nbd2020_11: {:.04f}\\nbd2021_10: {:.04f}\\n'.format(bd2020_04,bd2020_11,bd2021_10))\n",
    "\n",
    "print(\"beach slope is: \",13/250)"
   ]
  },
  {
   "cell_type": "code",
   "execution_count": 4,
   "id": "57dcdaf2",
   "metadata": {},
   "outputs": [
    {
     "name": "stdout",
     "output_type": "stream",
     "text": [
      "0.020906644587041993\n"
     ]
    }
   ],
   "source": [
    "# Mad Beach from RC profile\n",
    "bs = 1.01/(1068.9-1020.59)\n",
    "print(bs)"
   ]
  },
  {
   "cell_type": "code",
   "execution_count": 10,
   "id": "161c1cf1",
   "metadata": {},
   "outputs": [
    {
     "data": {
      "text/html": [
       "<div>\n",
       "<style scoped>\n",
       "    .dataframe tbody tr th:only-of-type {\n",
       "        vertical-align: middle;\n",
       "    }\n",
       "\n",
       "    .dataframe tbody tr th {\n",
       "        vertical-align: top;\n",
       "    }\n",
       "\n",
       "    .dataframe thead th {\n",
       "        text-align: right;\n",
       "    }\n",
       "</style>\n",
       "<table border=\"1\" class=\"dataframe\">\n",
       "  <thead>\n",
       "    <tr style=\"text-align: right;\">\n",
       "      <th>name</th>\n",
       "      <th>HoM</th>\n",
       "      <th>Marconi</th>\n",
       "      <th>PeaIs</th>\n",
       "      <th>MadB</th>\n",
       "    </tr>\n",
       "  </thead>\n",
       "  <tbody>\n",
       "    <tr>\n",
       "      <th>wx</th>\n",
       "      <td>BOX</td>\n",
       "      <td>BOX</td>\n",
       "      <td>MHX</td>\n",
       "      <td>TBW</td>\n",
       "    </tr>\n",
       "    <tr>\n",
       "      <th>site_ID</th>\n",
       "      <td>1572</td>\n",
       "      <td>1548</td>\n",
       "      <td>6024</td>\n",
       "      <td>3665</td>\n",
       "    </tr>\n",
       "    <tr>\n",
       "      <th>record</th>\n",
       "      <td>125</td>\n",
       "      <td>3603</td>\n",
       "      <td>289</td>\n",
       "      <td>62</td>\n",
       "    </tr>\n",
       "    <tr>\n",
       "      <th>sl_lon</th>\n",
       "      <td>289.921</td>\n",
       "      <td>69.965</td>\n",
       "      <td>284.522</td>\n",
       "      <td>277.198</td>\n",
       "    </tr>\n",
       "    <tr>\n",
       "      <th>sl_lat</th>\n",
       "      <td>42.0511</td>\n",
       "      <td>41.8965</td>\n",
       "      <td>35.6713</td>\n",
       "      <td>27.8008</td>\n",
       "    </tr>\n",
       "    <tr>\n",
       "      <th>toe</th>\n",
       "      <td>6.3</td>\n",
       "      <td>5.51</td>\n",
       "      <td>3.34</td>\n",
       "      <td>1.34</td>\n",
       "    </tr>\n",
       "    <tr>\n",
       "      <th>crest</th>\n",
       "      <td>17.0</td>\n",
       "      <td>16.2</td>\n",
       "      <td>5.88</td>\n",
       "      <td>2.16</td>\n",
       "    </tr>\n",
       "    <tr>\n",
       "      <th>slope</th>\n",
       "      <td>0.1027</td>\n",
       "      <td>0.2549</td>\n",
       "      <td>0.086</td>\n",
       "      <td>0.0493</td>\n",
       "    </tr>\n",
       "    <tr>\n",
       "      <th>95_up</th>\n",
       "      <td>0.1532</td>\n",
       "      <td>0.4242</td>\n",
       "      <td>0.1363</td>\n",
       "      <td>0.0787</td>\n",
       "    </tr>\n",
       "    <tr>\n",
       "      <th>95_low</th>\n",
       "      <td>0.0522</td>\n",
       "      <td>0.0855</td>\n",
       "      <td>0.0358</td>\n",
       "      <td>0.0199</td>\n",
       "    </tr>\n",
       "    <tr>\n",
       "      <th>dhigh</th>\n",
       "      <td>17.3329</td>\n",
       "      <td>16.6378</td>\n",
       "      <td>5.8783</td>\n",
       "      <td>2.1629</td>\n",
       "    </tr>\n",
       "    <tr>\n",
       "      <th>dlow</th>\n",
       "      <td>6.2986</td>\n",
       "      <td>5.2639</td>\n",
       "      <td>3.3428</td>\n",
       "      <td>1.3439</td>\n",
       "    </tr>\n",
       "    <tr>\n",
       "      <th>tide_high</th>\n",
       "      <td>1.115</td>\n",
       "      <td>999.0</td>\n",
       "      <td>0.463</td>\n",
       "      <td>0.216</td>\n",
       "    </tr>\n",
       "    <tr>\n",
       "      <th>tide_low</th>\n",
       "      <td>-1.309</td>\n",
       "      <td>999.0</td>\n",
       "      <td>-0.612</td>\n",
       "      <td>-0.496</td>\n",
       "    </tr>\n",
       "  </tbody>\n",
       "</table>\n",
       "</div>"
      ],
      "text/plain": [
       "name           HoM  Marconi    PeaIs     MadB\n",
       "wx             BOX      BOX      MHX      TBW\n",
       "site_ID       1572     1548     6024     3665\n",
       "record         125     3603      289       62\n",
       "sl_lon     289.921   69.965  284.522  277.198\n",
       "sl_lat     42.0511  41.8965  35.6713  27.8008\n",
       "toe            6.3     5.51     3.34     1.34\n",
       "crest         17.0     16.2     5.88     2.16\n",
       "slope       0.1027   0.2549    0.086   0.0493\n",
       "95_up       0.1532   0.4242   0.1363   0.0787\n",
       "95_low      0.0522   0.0855   0.0358   0.0199\n",
       "dhigh      17.3329  16.6378   5.8783   2.1629\n",
       "dlow        6.2986   5.2639   3.3428   1.3439\n",
       "tide_high    1.115    999.0    0.463    0.216\n",
       "tide_low    -1.309    999.0   -0.612   -0.496"
      ]
     },
     "execution_count": 10,
     "metadata": {},
     "output_type": "execute_result"
    }
   ],
   "source": [
    "dfb = pd.read_csv('d:/crs/proj/2022_runup/beaches.csv', index_col=0, header=0).T\n",
    "dfb"
   ]
  },
  {
   "cell_type": "code",
   "execution_count": 28,
   "id": "fe76f4fc",
   "metadata": {},
   "outputs": [
    {
     "name": "stdout",
     "output_type": "stream",
     "text": [
      "Lange: 1.017 S06: 1.615\n",
      "Lange: 1.018 S06: 1.615\n",
      "Lange: 0.993 S06: 1.615\n"
     ]
    }
   ],
   "source": [
    "# HoM\n",
    "Hs = 2.11\n",
    "Tp = 9.52\n",
    "beta_f = 0.103 # median\n",
    "barslopes = [bs2020, bs2021, bs2022]\n",
    "for beta_eff in barslopes:\n",
    "    print('Lange: {:.3f} S06: {:.3f}'.format( two_slope_IPA_wrapper( Hs, Tp, beta_f, beta_eff),\n",
    "                                            S06( Hs, calc_L0( Tp ), beta_f )   ))"
   ]
  },
  {
   "cell_type": "code",
   "execution_count": 29,
   "id": "795c8704",
   "metadata": {},
   "outputs": [
    {
     "name": "stdout",
     "output_type": "stream",
     "text": [
      "Lange: 1.817 S06: 3.600\n",
      "Lange: 2.070 S06: 3.600\n",
      "Lange: 1.531 S06: 3.600\n"
     ]
    }
   ],
   "source": [
    "# Marconi\n",
    "Hs = 2.11\n",
    "Tp = 9.52\n",
    "beta_f = 0.2549 # median\n",
    "barslopes = [Mbs1_2018, Mbs1_2021, Mbs1_2022]\n",
    "for beta_eff in barslopes:\n",
    "    print('Lange: {:.3f} S06: {:.3f}'.format( two_slope_IPA_wrapper( Hs, Tp, beta_f, beta_eff),\n",
    "                                            S06( Hs, calc_L0( Tp ), beta_f )   ))"
   ]
  },
  {
   "cell_type": "code",
   "execution_count": 30,
   "id": "79033e8d",
   "metadata": {},
   "outputs": [
    {
     "name": "stdout",
     "output_type": "stream",
     "text": [
      "Lange: 1.686 S06: 3.783\n",
      "Lange: 1.531 S06: 3.783\n",
      "Lange: 1.981 S06: 3.783\n"
     ]
    }
   ],
   "source": [
    "# Pea Island\n",
    "Hs = 2.07\n",
    "Tp = 10.1\n",
    "beta_f = 0.2549 # median\n",
    "barslopes = [bs2020_04, bs2020_11, bs2021_10]\n",
    "for beta_eff in barslopes:\n",
    "    print('Lange: {:.3f} S06: {:.3f}'.format( two_slope_IPA_wrapper( Hs, Tp, beta_f, beta_eff),\n",
    "                                            S06( Hs, calc_L0( Tp ), beta_f )   ))"
   ]
  },
  {
   "cell_type": "code",
   "execution_count": 31,
   "id": "55424d7a",
   "metadata": {},
   "outputs": [
    {
     "name": "stdout",
     "output_type": "stream",
     "text": [
      "Lange: 0.881 S06: 0.438\n"
     ]
    }
   ],
   "source": [
    "# Madeira Beach\n",
    "Hs = 1.43\n",
    "Tp = 6.95\n",
    "beta_f = 0.0209 # median\n",
    "barslopes = [0.0493]\n",
    "for beta_eff in barslopes:\n",
    "    print('Lange: {:.3f} S06: {:.3f}'.format( two_slope_IPA_wrapper( Hs, Tp, beta_f, beta_eff),\n",
    "                                            S06( Hs, calc_L0( Tp ), beta_f )   ))"
   ]
  }
 ],
 "metadata": {
  "kernelspec": {
   "display_name": "Python 3 (ipykernel)",
   "language": "python",
   "name": "python3"
  },
  "language_info": {
   "codemirror_mode": {
    "name": "ipython",
    "version": 3
   },
   "file_extension": ".py",
   "mimetype": "text/x-python",
   "name": "python",
   "nbconvert_exporter": "python",
   "pygments_lexer": "ipython3",
   "version": "3.9.13"
  }
 },
 "nbformat": 4,
 "nbformat_minor": 5
}

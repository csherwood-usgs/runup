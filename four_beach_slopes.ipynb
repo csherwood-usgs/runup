{
 "cells": [
  {
   "cell_type": "code",
   "execution_count": 1,
   "id": "89cea1a5",
   "metadata": {},
   "outputs": [
    {
     "name": "stdout",
     "output_type": "stream",
     "text": [
      "bs2020: 0.0121\n",
      "bs2021: 0.0121\n",
      "bs2022: 0.0112\n",
      "\n"
     ]
    }
   ],
   "source": [
    "import numpy as np\n",
    "\n",
    "# hand calculation of slope from bar crest to zero NAVD88\n",
    "# HoM from profiles exported from GM based on USGS mapping\n",
    "bs2020 = 5.273/(596.6-159.3)\n",
    "bs2021 = 5.15/(599.85-173.9)\n",
    "bs2022 = 5.21/(633.99-170.69)\n",
    "print('bs2020: {:.04f}\\nbs2021: {:.04f}\\nbs2022: {:.04f}\\n'.format(bs2020,bs2021,bs2022))\n",
    "# use beach slope of 0.037"
   ]
  },
  {
   "cell_type": "code",
   "execution_count": 2,
   "id": "381c167d",
   "metadata": {},
   "outputs": [
    {
     "name": "stdout",
     "output_type": "stream",
     "text": [
      "Mbs1_2018: 0.0223 Mbs2_2018: 0.0085\n",
      "Mbs1_2021: 0.0317 Mbs2_2021: 0.0111\n",
      "Mbs1_2022: 0.0140 Mbs2_2022: 0.0116\n"
     ]
    }
   ],
   "source": [
    "# Marconi inner bar 1, and outer bar 2\n",
    "Mbs1_2018 = 1.798/(801.84-721.08)\n",
    "Mbs2_2018 = 4.93/(801.84-222.81)\n",
    "Mbs1_2021 = 2.146/(804.28-736.58)\n",
    "Mbs2_2021 = 6.1/(804.28-254.55)\n",
    "Mbs1_2022 = 1.228/(796.94-709.01)\n",
    "Mbs2_2022 = 7.2/(796.92-176.4)\n",
    "print('Mbs1_2018: {:.04f} Mbs2_2018: {:.04f}'.format(Mbs1_2018, Mbs2_2018))\n",
    "print('Mbs1_2021: {:.04f} Mbs2_2021: {:.04f}'.format(Mbs1_2021, Mbs2_2021))\n",
    "print('Mbs1_2022: {:.04f} Mbs2_2022: {:.04f}'.format(Mbs1_2022, Mbs2_2022))"
   ]
  },
  {
   "cell_type": "code",
   "execution_count": 3,
   "id": "2a4cc29f",
   "metadata": {},
   "outputs": [
    {
     "name": "stdout",
     "output_type": "stream",
     "text": [
      "bs2020_04: 0.0161\n",
      "bs2020-11: 0.0124\n",
      "bs2021_10: 0.0249\n",
      "\n",
      "bsc2020_04: 3.1081\n",
      "bc2020-11: 2.9730\n",
      "bc2021_10: 3.1081\n",
      "\n",
      "beach slope is:  0.052\n"
     ]
    }
   ],
   "source": [
    "# Pea Island measured from Jin-Si's figure w/ ruler\n",
    "bs2020_04 = (5*2.3/3.7)/(250*(13.2-3.3)/12.8)\n",
    "bs2020_11 = (5*2.2/3.7)/(250*(16-3.7)/12.8)\n",
    "bs2021_10 = (5*2.3/3.7)/(250*(10.2-3.8)/12.8)\n",
    "# bar crest depths\n",
    "bc2020_04 = (5*2.3/3.7)\n",
    "bc2020_11 = (5*2.2/3.7)\n",
    "bc2021_10 = (5*2.3/3.7)\n",
    "print('bs2020_04: {:.04f}\\nbs2020-11: {:.04f}\\nbs2021_10: {:.04f}\\n'.format(bs2020_04,bs2020_11,bs2021_10))\n",
    "print('bsc2020_04: {:.04f}\\nbc2020-11: {:.04f}\\nbc2021_10: {:.04f}\\n'.format(bc2020_04,bc2020_11,bc2021_10))\n",
    "print(\"beach slope is: \",13/250)"
   ]
  },
  {
   "cell_type": "code",
   "execution_count": 4,
   "id": "57dcdaf2",
   "metadata": {},
   "outputs": [
    {
     "name": "stdout",
     "output_type": "stream",
     "text": [
      "0.020906644587041993\n"
     ]
    }
   ],
   "source": [
    "# Mad Beach from RC profile\n",
    "bs = 1.01/(1068.9-1020.59)\n",
    "print(bs)"
   ]
  }
 ],
 "metadata": {
  "kernelspec": {
   "display_name": "Python 3 (ipykernel)",
   "language": "python",
   "name": "python3"
  },
  "language_info": {
   "codemirror_mode": {
    "name": "ipython",
    "version": 3
   },
   "file_extension": ".py",
   "mimetype": "text/x-python",
   "name": "python",
   "nbconvert_exporter": "python",
   "pygments_lexer": "ipython3",
   "version": "3.9.7"
  }
 },
 "nbformat": 4,
 "nbformat_minor": 5
}

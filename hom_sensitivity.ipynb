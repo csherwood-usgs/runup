{
 "cells": [
  {
   "cell_type": "code",
   "execution_count": 5,
   "id": "b35ef705",
   "metadata": {},
   "outputs": [],
   "source": [
    "import numpy as np\n",
    "import pandas as pd\n",
    "import matplotlib.pyplot as plt\n",
    "%run -i runup_funcs.py\n",
    "%run -i wave_funcs.py \n",
    "drv, _ = which_computer()"
   ]
  },
  {
   "cell_type": "code",
   "execution_count": 6,
   "id": "45f91758",
   "metadata": {},
   "outputs": [
    {
     "data": {
      "text/plain": [
       "2.424"
      ]
     },
     "execution_count": 6,
     "metadata": {},
     "output_type": "execute_result"
    }
   ],
   "source": [
    "1.115+1.309"
   ]
  },
  {
   "cell_type": "code",
   "execution_count": 7,
   "id": "bc76e4b1",
   "metadata": {},
   "outputs": [
    {
     "data": {
      "text/html": [
       "<div>\n",
       "<style scoped>\n",
       "    .dataframe tbody tr th:only-of-type {\n",
       "        vertical-align: middle;\n",
       "    }\n",
       "\n",
       "    .dataframe tbody tr th {\n",
       "        vertical-align: top;\n",
       "    }\n",
       "\n",
       "    .dataframe thead th {\n",
       "        text-align: right;\n",
       "    }\n",
       "</style>\n",
       "<table border=\"1\" class=\"dataframe\">\n",
       "  <thead>\n",
       "    <tr style=\"text-align: right;\">\n",
       "      <th>name</th>\n",
       "      <th>HoM</th>\n",
       "      <th>Marconi</th>\n",
       "      <th>PeaIs</th>\n",
       "      <th>MadB</th>\n",
       "    </tr>\n",
       "  </thead>\n",
       "  <tbody>\n",
       "    <tr>\n",
       "      <th>wx</th>\n",
       "      <td>BOX</td>\n",
       "      <td>BOX</td>\n",
       "      <td>MHX</td>\n",
       "      <td>TBW</td>\n",
       "    </tr>\n",
       "    <tr>\n",
       "      <th>site_ID</th>\n",
       "      <td>1572</td>\n",
       "      <td>1548</td>\n",
       "      <td>6024</td>\n",
       "      <td>3665</td>\n",
       "    </tr>\n",
       "    <tr>\n",
       "      <th>record</th>\n",
       "      <td>125</td>\n",
       "      <td>3603</td>\n",
       "      <td>289</td>\n",
       "      <td>62</td>\n",
       "    </tr>\n",
       "    <tr>\n",
       "      <th>sl_lon</th>\n",
       "      <td>289.921</td>\n",
       "      <td>69.965</td>\n",
       "      <td>284.522</td>\n",
       "      <td>277.198</td>\n",
       "    </tr>\n",
       "    <tr>\n",
       "      <th>sl_lat</th>\n",
       "      <td>42.0511</td>\n",
       "      <td>41.8965</td>\n",
       "      <td>35.6713</td>\n",
       "      <td>27.8008</td>\n",
       "    </tr>\n",
       "    <tr>\n",
       "      <th>toe</th>\n",
       "      <td>6.3</td>\n",
       "      <td>5.51</td>\n",
       "      <td>3.34</td>\n",
       "      <td>1.34</td>\n",
       "    </tr>\n",
       "    <tr>\n",
       "      <th>crest</th>\n",
       "      <td>17.0</td>\n",
       "      <td>16.2</td>\n",
       "      <td>5.88</td>\n",
       "      <td>2.16</td>\n",
       "    </tr>\n",
       "    <tr>\n",
       "      <th>slope</th>\n",
       "      <td>0.1027</td>\n",
       "      <td>0.2549</td>\n",
       "      <td>0.086</td>\n",
       "      <td>0.0493</td>\n",
       "    </tr>\n",
       "    <tr>\n",
       "      <th>95_up</th>\n",
       "      <td>0.1532</td>\n",
       "      <td>0.4242</td>\n",
       "      <td>0.1363</td>\n",
       "      <td>0.0787</td>\n",
       "    </tr>\n",
       "    <tr>\n",
       "      <th>95_low</th>\n",
       "      <td>0.0522</td>\n",
       "      <td>0.0855</td>\n",
       "      <td>0.0358</td>\n",
       "      <td>0.0199</td>\n",
       "    </tr>\n",
       "    <tr>\n",
       "      <th>dhigh</th>\n",
       "      <td>17.3329</td>\n",
       "      <td>16.6378</td>\n",
       "      <td>5.8783</td>\n",
       "      <td>2.1629</td>\n",
       "    </tr>\n",
       "    <tr>\n",
       "      <th>dlow</th>\n",
       "      <td>6.2986</td>\n",
       "      <td>5.2639</td>\n",
       "      <td>3.3428</td>\n",
       "      <td>1.3439</td>\n",
       "    </tr>\n",
       "    <tr>\n",
       "      <th>tide_high</th>\n",
       "      <td>1.115</td>\n",
       "      <td>999.0</td>\n",
       "      <td>0.463</td>\n",
       "      <td>0.216</td>\n",
       "    </tr>\n",
       "    <tr>\n",
       "      <th>tide_low</th>\n",
       "      <td>-1.309</td>\n",
       "      <td>999.0</td>\n",
       "      <td>-0.612</td>\n",
       "      <td>-0.496</td>\n",
       "    </tr>\n",
       "  </tbody>\n",
       "</table>\n",
       "</div>"
      ],
      "text/plain": [
       "name           HoM  Marconi    PeaIs     MadB\n",
       "wx             BOX      BOX      MHX      TBW\n",
       "site_ID       1572     1548     6024     3665\n",
       "record         125     3603      289       62\n",
       "sl_lon     289.921   69.965  284.522  277.198\n",
       "sl_lat     42.0511  41.8965  35.6713  27.8008\n",
       "toe            6.3     5.51     3.34     1.34\n",
       "crest         17.0     16.2     5.88     2.16\n",
       "slope       0.1027   0.2549    0.086   0.0493\n",
       "95_up       0.1532   0.4242   0.1363   0.0787\n",
       "95_low      0.0522   0.0855   0.0358   0.0199\n",
       "dhigh      17.3329  16.6378   5.8783   2.1629\n",
       "dlow        6.2986   5.2639   3.3428   1.3439\n",
       "tide_high    1.115    999.0    0.463    0.216\n",
       "tide_low    -1.309    999.0   -0.612   -0.496"
      ]
     },
     "execution_count": 7,
     "metadata": {},
     "output_type": "execute_result"
    }
   ],
   "source": [
    "dfb = pd.read_csv(drv+'crs/proj/2022_runup/beaches.csv', index_col=0, header=0).T\n",
    "dfb"
   ]
  },
  {
   "cell_type": "code",
   "execution_count": 8,
   "id": "5878a78c",
   "metadata": {},
   "outputs": [
    {
     "data": {
      "text/plain": [
       "0.1027"
      ]
     },
     "execution_count": 8,
     "metadata": {},
     "output_type": "execute_result"
    }
   ],
   "source": [
    "dfb['HoM']['slope']"
   ]
  },
  {
   "cell_type": "code",
   "execution_count": 9,
   "id": "66e02fd4",
   "metadata": {},
   "outputs": [
    {
     "data": {
      "text/html": [
       "<div>\n",
       "<style scoped>\n",
       "    .dataframe tbody tr th:only-of-type {\n",
       "        vertical-align: middle;\n",
       "    }\n",
       "\n",
       "    .dataframe tbody tr th {\n",
       "        vertical-align: top;\n",
       "    }\n",
       "\n",
       "    .dataframe thead th {\n",
       "        text-align: right;\n",
       "    }\n",
       "</style>\n",
       "<table border=\"1\" class=\"dataframe\">\n",
       "  <thead>\n",
       "    <tr style=\"text-align: right;\">\n",
       "      <th>var</th>\n",
       "      <th>H_s</th>\n",
       "      <th>T_p</th>\n",
       "      <th>Dir</th>\n",
       "      <th>Dir_scaled</th>\n",
       "      <th>H0L0</th>\n",
       "      <th>Iribarren</th>\n",
       "      <th>WL</th>\n",
       "      <th>subtidal</th>\n",
       "      <th>tides</th>\n",
       "      <th>runup</th>\n",
       "      <th>runup95</th>\n",
       "      <th>TWL</th>\n",
       "      <th>TWL95</th>\n",
       "    </tr>\n",
       "  </thead>\n",
       "  <tbody>\n",
       "    <tr>\n",
       "      <th>mean</th>\n",
       "      <td>0.969</td>\n",
       "      <td>6.08</td>\n",
       "      <td>22.6</td>\n",
       "      <td>21.1</td>\n",
       "      <td>79.0</td>\n",
       "      <td>0.992</td>\n",
       "      <td>-0.0278</td>\n",
       "      <td>-0.0278</td>\n",
       "      <td>-0.000145</td>\n",
       "      <td>0.696</td>\n",
       "      <td>0.973</td>\n",
       "      <td>0.669</td>\n",
       "      <td>0.945</td>\n",
       "    </tr>\n",
       "    <tr>\n",
       "      <th>std</th>\n",
       "      <td>0.606</td>\n",
       "      <td>1.95</td>\n",
       "      <td>46.7</td>\n",
       "      <td>43.8</td>\n",
       "      <td>69.9</td>\n",
       "      <td>0.274</td>\n",
       "      <td>0.8450</td>\n",
       "      <td>0.0941</td>\n",
       "      <td>0.829000</td>\n",
       "      <td>0.378</td>\n",
       "      <td>0.528</td>\n",
       "      <td>0.923</td>\n",
       "      <td>0.993</td>\n",
       "    </tr>\n",
       "    <tr>\n",
       "      <th>5</th>\n",
       "      <td>0.323</td>\n",
       "      <td>3.21</td>\n",
       "      <td>44.8</td>\n",
       "      <td>39.1</td>\n",
       "      <td>16.4</td>\n",
       "      <td>0.639</td>\n",
       "      <td>-1.2900</td>\n",
       "      <td>-0.1830</td>\n",
       "      <td>-1.230000</td>\n",
       "      <td>0.247</td>\n",
       "      <td>0.346</td>\n",
       "      <td>-0.743</td>\n",
       "      <td>-0.571</td>\n",
       "    </tr>\n",
       "    <tr>\n",
       "      <th>16</th>\n",
       "      <td>0.454</td>\n",
       "      <td>4.08</td>\n",
       "      <td>43.4</td>\n",
       "      <td>36.2</td>\n",
       "      <td>26.1</td>\n",
       "      <td>0.729</td>\n",
       "      <td>-1.0000</td>\n",
       "      <td>-0.1050</td>\n",
       "      <td>-0.960000</td>\n",
       "      <td>0.359</td>\n",
       "      <td>0.502</td>\n",
       "      <td>-0.370</td>\n",
       "      <td>-0.148</td>\n",
       "    </tr>\n",
       "    <tr>\n",
       "      <th>50</th>\n",
       "      <td>0.812</td>\n",
       "      <td>5.92</td>\n",
       "      <td>19.8</td>\n",
       "      <td>22.2</td>\n",
       "      <td>58.5</td>\n",
       "      <td>0.948</td>\n",
       "      <td>-0.0218</td>\n",
       "      <td>-0.0258</td>\n",
       "      <td>0.005960</td>\n",
       "      <td>0.613</td>\n",
       "      <td>0.857</td>\n",
       "      <td>0.683</td>\n",
       "      <td>0.955</td>\n",
       "    </tr>\n",
       "    <tr>\n",
       "      <th>85</th>\n",
       "      <td>1.520</td>\n",
       "      <td>8.16</td>\n",
       "      <td>57.7</td>\n",
       "      <td>63.6</td>\n",
       "      <td>133.0</td>\n",
       "      <td>1.270</td>\n",
       "      <td>0.9560</td>\n",
       "      <td>0.0505</td>\n",
       "      <td>0.973000</td>\n",
       "      <td>1.050</td>\n",
       "      <td>1.470</td>\n",
       "      <td>1.670</td>\n",
       "      <td>1.980</td>\n",
       "    </tr>\n",
       "    <tr>\n",
       "      <th>95</th>\n",
       "      <td>2.110</td>\n",
       "      <td>9.52</td>\n",
       "      <td>45.4</td>\n",
       "      <td>52.5</td>\n",
       "      <td>210.0</td>\n",
       "      <td>1.500</td>\n",
       "      <td>1.2400</td>\n",
       "      <td>0.1200</td>\n",
       "      <td>1.240000</td>\n",
       "      <td>1.420</td>\n",
       "      <td>1.990</td>\n",
       "      <td>2.120</td>\n",
       "      <td>2.560</td>\n",
       "    </tr>\n",
       "    <tr>\n",
       "      <th>99</th>\n",
       "      <td>3.100</td>\n",
       "      <td>11.20</td>\n",
       "      <td>45.5</td>\n",
       "      <td>48.8</td>\n",
       "      <td>349.0</td>\n",
       "      <td>1.820</td>\n",
       "      <td>1.5000</td>\n",
       "      <td>0.2320</td>\n",
       "      <td>1.480000</td>\n",
       "      <td>1.940</td>\n",
       "      <td>2.720</td>\n",
       "      <td>2.690</td>\n",
       "      <td>3.340</td>\n",
       "    </tr>\n",
       "  </tbody>\n",
       "</table>\n",
       "</div>"
      ],
      "text/plain": [
       "var     H_s    T_p   Dir  Dir_scaled   H0L0  Iribarren      WL  subtidal  \\\n",
       "mean  0.969   6.08  22.6        21.1   79.0      0.992 -0.0278   -0.0278   \n",
       "std   0.606   1.95  46.7        43.8   69.9      0.274  0.8450    0.0941   \n",
       "5     0.323   3.21  44.8        39.1   16.4      0.639 -1.2900   -0.1830   \n",
       "16    0.454   4.08  43.4        36.2   26.1      0.729 -1.0000   -0.1050   \n",
       "50    0.812   5.92  19.8        22.2   58.5      0.948 -0.0218   -0.0258   \n",
       "85    1.520   8.16  57.7        63.6  133.0      1.270  0.9560    0.0505   \n",
       "95    2.110   9.52  45.4        52.5  210.0      1.500  1.2400    0.1200   \n",
       "99    3.100  11.20  45.5        48.8  349.0      1.820  1.5000    0.2320   \n",
       "\n",
       "var      tides  runup  runup95    TWL  TWL95  \n",
       "mean -0.000145  0.696    0.973  0.669  0.945  \n",
       "std   0.829000  0.378    0.528  0.923  0.993  \n",
       "5    -1.230000  0.247    0.346 -0.743 -0.571  \n",
       "16   -0.960000  0.359    0.502 -0.370 -0.148  \n",
       "50    0.005960  0.613    0.857  0.683  0.955  \n",
       "85    0.973000  1.050    1.470  1.670  1.980  \n",
       "95    1.240000  1.420    1.990  2.120  2.560  \n",
       "99    1.480000  1.940    2.720  2.690  3.340  "
      ]
     },
     "execution_count": 9,
     "metadata": {},
     "output_type": "execute_result"
    }
   ],
   "source": [
    "df_hom = pd.read_csv(drv+'crs/proj/2022_runup/hom_stats.csv', delim_whitespace=True, index_col=0, header=0).T\n",
    "df_hom"
   ]
  },
  {
   "cell_type": "code",
   "execution_count": 10,
   "id": "68a9252e",
   "metadata": {},
   "outputs": [
    {
     "data": {
      "text/plain": [
       "6.08"
      ]
     },
     "execution_count": 10,
     "metadata": {},
     "output_type": "execute_result"
    }
   ],
   "source": [
    "df_hom['T_p']['mean']"
   ]
  },
  {
   "cell_type": "code",
   "execution_count": 11,
   "id": "677b41d4",
   "metadata": {},
   "outputs": [
    {
     "name": "stdout",
     "output_type": "stream",
     "text": [
      "['A17', 'D20', 'H86', 'NH91', 'P14', 'R01', 'S06', 'S11', 'V12']\n"
     ]
    }
   ],
   "source": [
    "# Load statistics \n",
    "Hs = [df_hom['H_s']['5'],df_hom['H_s']['50'],df_hom['H_s']['95']]\n",
    "Tp = np.array((df_hom['T_p']['5'],df_hom['T_p']['50'],df_hom['T_p']['95']))\n",
    "Lo = calc_L0(Tp)\n",
    "\n",
    "print(func_list)\n",
    "\n",
    "slopes = [dfb['HoM']['95_low'],dfb['HoM']['slope'],dfb['HoM']['95_up']]"
   ]
  },
  {
   "cell_type": "code",
   "execution_count": 17,
   "id": "f4b29083",
   "metadata": {},
   "outputs": [
    {
     "data": {
      "image/png": "[encoded data removed]",
      "text/plain": [
       "<Figure size 432x288 with 1 Axes>"
      ]
     },
     "metadata": {
      "needs_background": "light"
     },
     "output_type": "display_data"
    }
   ],
   "source": [
    "# Variation due to slopes\n",
    "R2_slopes = np.empty((len(func_list),3))\n",
    "\n",
    "for j, sl in enumerate( slopes ):       \n",
    "    for i, item in enumerate( func_list):\n",
    "        cmd = \"R2_slopes[i][j]={}({}, {}, {})\".format(item, Hs[2], Lo[2], sl)\n",
    "        #print(cmd)\n",
    "        exec(cmd)\n",
    "\n",
    "#plt.title('95th percentile H_s and T_p')\n",
    "plt.boxplot(R2_slopes, notch=False)\n",
    "plt.ylim([0,3.5])\n",
    "plt.plot([1,2,3],R2_slopes[6],'o')\n",
    "plt.ylabel('Runup (m)', fontsize=14)\n",
    "\n",
    "plt.xticks([1,2,3], ['5%-ile','Median','95%-ile'])\n",
    "plt.xlabel('Slope',fontsize=14)\n",
    "plt.savefig(drv+'crs/proj/2022_Runup/HoM_nine_equations_boxplot.svg', dpi=200)"
   ]
  },
  {
   "cell_type": "code",
   "execution_count": 16,
   "id": "a21b0854",
   "metadata": {},
   "outputs": [
    {
     "name": "stdout",
     "output_type": "stream",
     "text": [
      "95 low\n",
      "  n, nnan, nvalid:  9 0 9\n",
      "  mean, std, min, max   : 1.248 0.627 0.427 2.599\n",
      "  d5, d25, d50, d75, d95: 0.473 0.893 1.066 1.476 2.250\n",
      "median\n",
      "  n, nnan, nvalid:  9 0 9\n",
      "  mean, std, min, max   : 1.548 0.522 0.432 2.403\n",
      "  d5, d25, d50, d75, d95: 0.686 1.472 1.611 1.772 2.210\n",
      "95 high\n",
      "  n, nnan, nvalid:  9 0 9\n",
      "  mean, std, min, max   : 1.983 0.765 0.438 3.205\n",
      "  d5, d25, d50, d75, d95: 0.851 1.590 1.826 2.621 2.980\n"
     ]
    },
    {
     "data": {
      "text/plain": [
       "{'n': 9,\n",
       " 'nnan': 0,\n",
       " 'nvalid': 9,\n",
       " 'mean': 1.983343907422549,\n",
       " 'std': 0.7649582857788203,\n",
       " 'min': 0.43752732228909663,\n",
       " 'max': 3.2047302929892605,\n",
       " 'd5': 0.85137755570958,\n",
       " 'd25': 1.5904852212520109,\n",
       " 'd50': 1.8260635698944383,\n",
       " 'd75': 2.6206963596971526,\n",
       " 'd95': 2.9799631089471714}"
      ]
     },
     "execution_count": 16,
     "metadata": {},
     "output_type": "execute_result"
    }
   ],
   "source": [
    "print(\"95 low\")\n",
    "stat_summary(R2_slopes[:,0], iprint=True)\n",
    "print(\"median\")\n",
    "stat_summary(R2_slopes[:,1], iprint=True)\n",
    "print(\"95 high\")\n",
    "stat_summary(R2_slopes[:,2], iprint=True)"
   ]
  },
  {
   "cell_type": "code",
   "execution_count": null,
   "id": "1f4c4816",
   "metadata": {},
   "outputs": [],
   "source": [
    "R2_hs = np.empty((len(func_list),3))\n",
    "\n",
    "for j, hsj in enumerate( Hs ):       \n",
    "    for i, item in enumerate( func_list):\n",
    "        cmd = \"R2_hs[i][j]={}({}, {}, {})\".format(item, hsj, Lo[1], slopes[1])\n",
    "        #print(cmd)\n",
    "        exec(cmd)\n",
    "\n",
    "print(R2_hs)"
   ]
  },
  {
   "cell_type": "code",
   "execution_count": null,
   "id": "8ec4e69e",
   "metadata": {},
   "outputs": [],
   "source": [
    "R2_tp = np.empty((len(func_list),3))\n",
    "\n",
    "for j, loj in enumerate( Lo ):       \n",
    "    for i, item in enumerate( func_list):\n",
    "        cmd = \"R2_tp[i][j]={}({}, {}, {})\".format(item, Hs[1], loj, slopes[1])\n",
    "        #print(cmd)\n",
    "        exec(cmd)\n",
    "\n",
    "print(R2_tp)"
   ]
  },
  {
   "cell_type": "code",
   "execution_count": null,
   "id": "e3bd2dfc",
   "metadata": {},
   "outputs": [],
   "source": [
    "dang = Hs = np.array([df_hom['Dir_scaled']['5'],df_hom['Dir_scaled']['50'],dfb['HoM']['d_n'],df_hom['Dir_scaled']['95']])-dfb['HoM']['d_n']\n",
    "print(dang)\n",
    "dfb['HoM']['d_n']"
   ]
  },
  {
   "cell_type": "code",
   "execution_count": null,
   "id": "196d9d23",
   "metadata": {},
   "outputs": [],
   "source": [
    "plt.title('Slope (median H_s and T_p)')\n",
    "plt.boxplot(R2_slopes, notch=True)\n",
    "plt.ylim([0,1.5])\n",
    "plt.ylabel('Runup (m)', fontsize=14)\n",
    "['95%-low','Median','95%-high']\n",
    "plt.xticks([1,2,3], ['95%-low','Median','95%-high'])\n",
    "plt.xlabel('Slope',fontsize=14)"
   ]
  },
  {
   "cell_type": "code",
   "execution_count": null,
   "id": "c3c2b6d4",
   "metadata": {},
   "outputs": [],
   "source": [
    "plt.title('H_s (median slope and T_p)')\n",
    "plt.boxplot(R2_hs, notch=True)\n",
    "plt.ylim([0,1.5])\n",
    "plt.ylabel('Runup (m)', fontsize=14)\n",
    "['95%-low','Median','95%-high']\n",
    "plt.xticks([1,2,3], ['95%-low','Median','95%-high'])\n",
    "plt.xlabel('H_s',fontsize=14)"
   ]
  },
  {
   "cell_type": "code",
   "execution_count": null,
   "id": "ab8d90ab",
   "metadata": {},
   "outputs": [],
   "source": [
    "plt.title('T_p (median H_s and slope)')\n",
    "plt.boxplot(R2_tp, notch=True)\n",
    "plt.ylim([0,1.5])\n",
    "plt.ylabel('Runup (m)', fontsize=14)\n",
    "['95%-low','Median','95%-high']\n",
    "plt.xticks([1,2,3], ['95%-low','Median','95%-high'])\n",
    "plt.xlabel('T_p',fontsize=14)"
   ]
  }
 ],
 "metadata": {
  "kernelspec": {
   "display_name": "Python 3 (ipykernel)",
   "language": "python",
   "name": "python3"
  },
  "language_info": {
   "codemirror_mode": {
    "name": "ipython",
    "version": 3
   },
   "file_extension": ".py",
   "mimetype": "text/x-python",
   "name": "python",
   "nbconvert_exporter": "python",
   "pygments_lexer": "ipython3",
   "version": "3.9.7"
  }
 },
 "nbformat": 4,
 "nbformat_minor": 5
}

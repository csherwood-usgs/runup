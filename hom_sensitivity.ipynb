{
 "cells": [
  {
   "cell_type": "code",
   "execution_count": 1,
   "id": "b35ef705",
   "metadata": {},
   "outputs": [],
   "source": [
    "import numpy as np\n",
    "import pandas as pd\n",
    "import matplotlib.pyplot as plt\n",
    "%run -i runup_funcs.py\n",
    "%run -i wave_funcs.py "
   ]
  },
  {
   "cell_type": "code",
   "execution_count": 2,
   "id": "bc76e4b1",
   "metadata": {},
   "outputs": [
    {
     "data": {
      "text/html": [
       "<div>\n",
       "<style scoped>\n",
       "    .dataframe tbody tr th:only-of-type {\n",
       "        vertical-align: middle;\n",
       "    }\n",
       "\n",
       "    .dataframe tbody tr th {\n",
       "        vertical-align: top;\n",
       "    }\n",
       "\n",
       "    .dataframe thead th {\n",
       "        text-align: right;\n",
       "    }\n",
       "</style>\n",
       "<table border=\"1\" class=\"dataframe\">\n",
       "  <thead>\n",
       "    <tr style=\"text-align: right;\">\n",
       "      <th>name</th>\n",
       "      <th>HoM</th>\n",
       "      <th>PeaIs</th>\n",
       "      <th>MadB</th>\n",
       "    </tr>\n",
       "  </thead>\n",
       "  <tbody>\n",
       "    <tr>\n",
       "      <th>wx</th>\n",
       "      <td>BOX</td>\n",
       "      <td>MHX</td>\n",
       "      <td>TBW</td>\n",
       "    </tr>\n",
       "    <tr>\n",
       "      <th>site_ID</th>\n",
       "      <td>1572</td>\n",
       "      <td>6024</td>\n",
       "      <td>3665</td>\n",
       "    </tr>\n",
       "    <tr>\n",
       "      <th>record</th>\n",
       "      <td>125</td>\n",
       "      <td>289</td>\n",
       "      <td>62</td>\n",
       "    </tr>\n",
       "    <tr>\n",
       "      <th>sl_lon</th>\n",
       "      <td>289.921</td>\n",
       "      <td>284.522</td>\n",
       "      <td>277.198</td>\n",
       "    </tr>\n",
       "    <tr>\n",
       "      <th>sl_lat</th>\n",
       "      <td>42.0511</td>\n",
       "      <td>35.6713</td>\n",
       "      <td>27.8008</td>\n",
       "    </tr>\n",
       "    <tr>\n",
       "      <th>toe</th>\n",
       "      <td>6.3</td>\n",
       "      <td>3.34</td>\n",
       "      <td>1.34</td>\n",
       "    </tr>\n",
       "    <tr>\n",
       "      <th>crest</th>\n",
       "      <td>17.0</td>\n",
       "      <td>5.88</td>\n",
       "      <td>2.16</td>\n",
       "    </tr>\n",
       "    <tr>\n",
       "      <th>slope</th>\n",
       "      <td>0.1027</td>\n",
       "      <td>0.086</td>\n",
       "      <td>0.0493</td>\n",
       "    </tr>\n",
       "    <tr>\n",
       "      <th>95_up</th>\n",
       "      <td>0.1532</td>\n",
       "      <td>0.1363</td>\n",
       "      <td>0.0787</td>\n",
       "    </tr>\n",
       "    <tr>\n",
       "      <th>95_low</th>\n",
       "      <td>0.0522</td>\n",
       "      <td>0.0358</td>\n",
       "      <td>0.0199</td>\n",
       "    </tr>\n",
       "    <tr>\n",
       "      <th>dhigh</th>\n",
       "      <td>17.3329</td>\n",
       "      <td>5.8783</td>\n",
       "      <td>2.1629</td>\n",
       "    </tr>\n",
       "    <tr>\n",
       "      <th>dlow</th>\n",
       "      <td>6.2986</td>\n",
       "      <td>3.3428</td>\n",
       "      <td>1.3439</td>\n",
       "    </tr>\n",
       "    <tr>\n",
       "      <th>tide_high</th>\n",
       "      <td>1.115</td>\n",
       "      <td>0.463</td>\n",
       "      <td>0.216</td>\n",
       "    </tr>\n",
       "    <tr>\n",
       "      <th>tide_low</th>\n",
       "      <td>-1.309</td>\n",
       "      <td>-0.612</td>\n",
       "      <td>-0.496</td>\n",
       "    </tr>\n",
       "    <tr>\n",
       "      <th>d_n</th>\n",
       "      <td>32</td>\n",
       "      <td>80</td>\n",
       "      <td>223</td>\n",
       "    </tr>\n",
       "  </tbody>\n",
       "</table>\n",
       "</div>"
      ],
      "text/plain": [
       "name           HoM    PeaIs     MadB\n",
       "wx             BOX      MHX      TBW\n",
       "site_ID       1572     6024     3665\n",
       "record         125      289       62\n",
       "sl_lon     289.921  284.522  277.198\n",
       "sl_lat     42.0511  35.6713  27.8008\n",
       "toe            6.3     3.34     1.34\n",
       "crest         17.0     5.88     2.16\n",
       "slope       0.1027    0.086   0.0493\n",
       "95_up       0.1532   0.1363   0.0787\n",
       "95_low      0.0522   0.0358   0.0199\n",
       "dhigh      17.3329   5.8783   2.1629\n",
       "dlow        6.2986   3.3428   1.3439\n",
       "tide_high    1.115    0.463    0.216\n",
       "tide_low    -1.309   -0.612   -0.496\n",
       "d_n             32       80      223"
      ]
     },
     "execution_count": 2,
     "metadata": {},
     "output_type": "execute_result"
    }
   ],
   "source": [
    "dfb = pd.read_csv('c:/crs/proj/2022_runup/beaches.csv', index_col=0, header=0).T\n",
    "dfb"
   ]
  },
  {
   "cell_type": "code",
   "execution_count": 3,
   "id": "5878a78c",
   "metadata": {},
   "outputs": [
    {
     "data": {
      "text/plain": [
       "0.1027"
      ]
     },
     "execution_count": 3,
     "metadata": {},
     "output_type": "execute_result"
    }
   ],
   "source": [
    "dfb['HoM']['slope']"
   ]
  },
  {
   "cell_type": "code",
   "execution_count": 4,
   "id": "66e02fd4",
   "metadata": {},
   "outputs": [
    {
     "data": {
      "text/html": [
       "<div>\n",
       "<style scoped>\n",
       "    .dataframe tbody tr th:only-of-type {\n",
       "        vertical-align: middle;\n",
       "    }\n",
       "\n",
       "    .dataframe tbody tr th {\n",
       "        vertical-align: top;\n",
       "    }\n",
       "\n",
       "    .dataframe thead th {\n",
       "        text-align: right;\n",
       "    }\n",
       "</style>\n",
       "<table border=\"1\" class=\"dataframe\">\n",
       "  <thead>\n",
       "    <tr style=\"text-align: right;\">\n",
       "      <th>var</th>\n",
       "      <th>H_s</th>\n",
       "      <th>T_p</th>\n",
       "      <th>Dir</th>\n",
       "      <th>Dir_scaled</th>\n",
       "      <th>H0L0</th>\n",
       "      <th>Iribarren</th>\n",
       "      <th>WL</th>\n",
       "      <th>subtidal</th>\n",
       "      <th>tides</th>\n",
       "      <th>runup</th>\n",
       "      <th>runup95</th>\n",
       "      <th>TWL</th>\n",
       "      <th>TWL95</th>\n",
       "    </tr>\n",
       "  </thead>\n",
       "  <tbody>\n",
       "    <tr>\n",
       "      <th>mean</th>\n",
       "      <td>0.969</td>\n",
       "      <td>6.08</td>\n",
       "      <td>22.6</td>\n",
       "      <td>21.1</td>\n",
       "      <td>79.0</td>\n",
       "      <td>0.992</td>\n",
       "      <td>-0.0278</td>\n",
       "      <td>-0.0278</td>\n",
       "      <td>-0.000145</td>\n",
       "      <td>0.696</td>\n",
       "      <td>0.973</td>\n",
       "      <td>0.669</td>\n",
       "      <td>0.945</td>\n",
       "    </tr>\n",
       "    <tr>\n",
       "      <th>std</th>\n",
       "      <td>0.606</td>\n",
       "      <td>1.95</td>\n",
       "      <td>46.7</td>\n",
       "      <td>43.8</td>\n",
       "      <td>69.9</td>\n",
       "      <td>0.274</td>\n",
       "      <td>0.8450</td>\n",
       "      <td>0.0941</td>\n",
       "      <td>0.829000</td>\n",
       "      <td>0.378</td>\n",
       "      <td>0.528</td>\n",
       "      <td>0.923</td>\n",
       "      <td>0.993</td>\n",
       "    </tr>\n",
       "    <tr>\n",
       "      <th>5</th>\n",
       "      <td>0.323</td>\n",
       "      <td>3.21</td>\n",
       "      <td>44.8</td>\n",
       "      <td>39.1</td>\n",
       "      <td>16.4</td>\n",
       "      <td>0.639</td>\n",
       "      <td>-1.2900</td>\n",
       "      <td>-0.1830</td>\n",
       "      <td>-1.230000</td>\n",
       "      <td>0.247</td>\n",
       "      <td>0.346</td>\n",
       "      <td>-0.743</td>\n",
       "      <td>-0.571</td>\n",
       "    </tr>\n",
       "    <tr>\n",
       "      <th>16</th>\n",
       "      <td>0.454</td>\n",
       "      <td>4.08</td>\n",
       "      <td>43.4</td>\n",
       "      <td>36.2</td>\n",
       "      <td>26.1</td>\n",
       "      <td>0.729</td>\n",
       "      <td>-1.0000</td>\n",
       "      <td>-0.1050</td>\n",
       "      <td>-0.960000</td>\n",
       "      <td>0.359</td>\n",
       "      <td>0.502</td>\n",
       "      <td>-0.370</td>\n",
       "      <td>-0.148</td>\n",
       "    </tr>\n",
       "    <tr>\n",
       "      <th>50</th>\n",
       "      <td>0.812</td>\n",
       "      <td>5.92</td>\n",
       "      <td>19.8</td>\n",
       "      <td>22.2</td>\n",
       "      <td>58.5</td>\n",
       "      <td>0.948</td>\n",
       "      <td>-0.0218</td>\n",
       "      <td>-0.0258</td>\n",
       "      <td>0.005960</td>\n",
       "      <td>0.613</td>\n",
       "      <td>0.857</td>\n",
       "      <td>0.683</td>\n",
       "      <td>0.955</td>\n",
       "    </tr>\n",
       "    <tr>\n",
       "      <th>85</th>\n",
       "      <td>1.520</td>\n",
       "      <td>8.16</td>\n",
       "      <td>57.7</td>\n",
       "      <td>63.6</td>\n",
       "      <td>133.0</td>\n",
       "      <td>1.270</td>\n",
       "      <td>0.9560</td>\n",
       "      <td>0.0505</td>\n",
       "      <td>0.973000</td>\n",
       "      <td>1.050</td>\n",
       "      <td>1.470</td>\n",
       "      <td>1.670</td>\n",
       "      <td>1.980</td>\n",
       "    </tr>\n",
       "    <tr>\n",
       "      <th>95</th>\n",
       "      <td>2.110</td>\n",
       "      <td>9.52</td>\n",
       "      <td>45.4</td>\n",
       "      <td>52.5</td>\n",
       "      <td>210.0</td>\n",
       "      <td>1.500</td>\n",
       "      <td>1.2400</td>\n",
       "      <td>0.1200</td>\n",
       "      <td>1.240000</td>\n",
       "      <td>1.420</td>\n",
       "      <td>1.990</td>\n",
       "      <td>2.120</td>\n",
       "      <td>2.560</td>\n",
       "    </tr>\n",
       "    <tr>\n",
       "      <th>99</th>\n",
       "      <td>3.100</td>\n",
       "      <td>11.20</td>\n",
       "      <td>45.5</td>\n",
       "      <td>48.8</td>\n",
       "      <td>349.0</td>\n",
       "      <td>1.820</td>\n",
       "      <td>1.5000</td>\n",
       "      <td>0.2320</td>\n",
       "      <td>1.480000</td>\n",
       "      <td>1.940</td>\n",
       "      <td>2.720</td>\n",
       "      <td>2.690</td>\n",
       "      <td>3.340</td>\n",
       "    </tr>\n",
       "  </tbody>\n",
       "</table>\n",
       "</div>"
      ],
      "text/plain": [
       "var     H_s    T_p   Dir  Dir_scaled   H0L0  Iribarren      WL  subtidal  \\\n",
       "mean  0.969   6.08  22.6        21.1   79.0      0.992 -0.0278   -0.0278   \n",
       "std   0.606   1.95  46.7        43.8   69.9      0.274  0.8450    0.0941   \n",
       "5     0.323   3.21  44.8        39.1   16.4      0.639 -1.2900   -0.1830   \n",
       "16    0.454   4.08  43.4        36.2   26.1      0.729 -1.0000   -0.1050   \n",
       "50    0.812   5.92  19.8        22.2   58.5      0.948 -0.0218   -0.0258   \n",
       "85    1.520   8.16  57.7        63.6  133.0      1.270  0.9560    0.0505   \n",
       "95    2.110   9.52  45.4        52.5  210.0      1.500  1.2400    0.1200   \n",
       "99    3.100  11.20  45.5        48.8  349.0      1.820  1.5000    0.2320   \n",
       "\n",
       "var      tides  runup  runup95    TWL  TWL95  \n",
       "mean -0.000145  0.696    0.973  0.669  0.945  \n",
       "std   0.829000  0.378    0.528  0.923  0.993  \n",
       "5    -1.230000  0.247    0.346 -0.743 -0.571  \n",
       "16   -0.960000  0.359    0.502 -0.370 -0.148  \n",
       "50    0.005960  0.613    0.857  0.683  0.955  \n",
       "85    0.973000  1.050    1.470  1.670  1.980  \n",
       "95    1.240000  1.420    1.990  2.120  2.560  \n",
       "99    1.480000  1.940    2.720  2.690  3.340  "
      ]
     },
     "execution_count": 4,
     "metadata": {},
     "output_type": "execute_result"
    }
   ],
   "source": [
    "df_hom = pd.read_csv('c:/crs/proj/2022_runup/hom_stats.csv', delim_whitespace=True, index_col=0, header=0).T\n",
    "df_hom"
   ]
  },
  {
   "cell_type": "code",
   "execution_count": 5,
   "id": "68a9252e",
   "metadata": {},
   "outputs": [
    {
     "data": {
      "text/plain": [
       "6.08"
      ]
     },
     "execution_count": 5,
     "metadata": {},
     "output_type": "execute_result"
    }
   ],
   "source": [
    "df_hom['T_p']['mean']"
   ]
  },
  {
   "cell_type": "code",
   "execution_count": 6,
   "id": "677b41d4",
   "metadata": {},
   "outputs": [
    {
     "name": "stdout",
     "output_type": "stream",
     "text": [
      "['A17', 'D20', 'H86', 'NH91', 'P14', 'R01', 'S06', 'S11', 'V12']\n"
     ]
    }
   ],
   "source": [
    "# Range of runup values for median wave conditions\n",
    "Hs = [df_hom['H_s']['5'],df_hom['H_s']['50'],df_hom['H_s']['95']]\n",
    "Tp = np.array((df_hom['T_p']['5'],df_hom['T_p']['50'],df_hom['T_p']['95']))\n",
    "Lo = calc_L0(Tp)\n",
    "\n",
    "print(func_list)\n",
    "\n",
    "slopes = [dfb['HoM']['95_low'],dfb['HoM']['slope'],dfb['HoM']['95_up']]"
   ]
  },
  {
   "cell_type": "code",
   "execution_count": 7,
   "id": "f4b29083",
   "metadata": {},
   "outputs": [
    {
     "name": "stdout",
     "output_type": "stream",
     "text": [
      "[[0.34446888 0.67771942 1.01096996]\n",
      " [1.00275036 0.74068157 0.69614721]\n",
      " [0.45119714 0.73058901 1.00998087]\n",
      " [0.66547095 0.68343867 1.0195015 ]\n",
      " [0.56905737 0.92632633 1.23543414]\n",
      " [0.41119072 0.57675753 0.70442934]\n",
      " [0.39661222 0.62150426 0.8683672 ]\n",
      " [0.67161896 0.67161896 0.67161896]\n",
      " [0.20899674 0.41118708 0.61337741]]\n"
     ]
    }
   ],
   "source": [
    "R2_slopes = np.empty((len(func_list),3))\n",
    "\n",
    "for j, sl in enumerate( slopes ):       \n",
    "    for i, item in enumerate( func_list):\n",
    "        cmd = \"R2_slopes[i][j]={}({}, {}, {})\".format(item, Hs[1], Lo[1], sl)\n",
    "        #print(cmd)\n",
    "        exec(cmd)\n",
    "\n",
    "print(R2_slopes)"
   ]
  },
  {
   "cell_type": "code",
   "execution_count": 8,
   "id": "1f4c4816",
   "metadata": {},
   "outputs": [
    {
     "name": "stdout",
     "output_type": "stream",
     "text": [
      "[[0.42743805 0.67771942 1.09247911]\n",
      " [0.46714832 0.74068157 1.19397368]\n",
      " [0.42295715 0.73058901 1.33791683]\n",
      " [0.43104518 0.68343867 1.10169851]\n",
      " [0.51349683 0.92632633 1.7068247 ]\n",
      " [0.36376133 0.57675753 0.92972924]\n",
      " [0.39198311 0.62150426 1.00186066]\n",
      " [0.27495977 0.67161896 1.47215291]\n",
      " [0.24807029 0.41118708 0.71054681]]\n"
     ]
    }
   ],
   "source": [
    "R2_hs = np.empty((len(func_list),3))\n",
    "\n",
    "for j, hsj in enumerate( Hs ):       \n",
    "    for i, item in enumerate( func_list):\n",
    "        cmd = \"R2_hs[i][j]={}({}, {}, {})\".format(item, hsj, Lo[1], slopes[1])\n",
    "        #print(cmd)\n",
    "        exec(cmd)\n",
    "\n",
    "print(R2_hs)"
   ]
  },
  {
   "cell_type": "code",
   "execution_count": 9,
   "id": "8ec4e69e",
   "metadata": {},
   "outputs": [
    {
     "name": "stdout",
     "output_type": "stream",
     "text": [
      "[[0.36747962 0.67771942 1.08984609]\n",
      " [0.40161957 0.74068157 1.19109605]\n",
      " [0.47048897 0.73058901 1.07610935]\n",
      " [0.37058077 0.68343867 1.09904327]\n",
      " [0.59617808 0.92632633 1.30410026]\n",
      " [0.31273508 0.57675753 0.92748847]\n",
      " [0.33699809 0.62150426 0.99944604]\n",
      " [0.67161896 0.67161896 0.67161896]\n",
      " [0.2450991  0.41118708 0.63182055]]\n"
     ]
    }
   ],
   "source": [
    "R2_tp = np.empty((len(func_list),3))\n",
    "\n",
    "for j, loj in enumerate( Lo ):       \n",
    "    for i, item in enumerate( func_list):\n",
    "        cmd = \"R2_tp[i][j]={}({}, {}, {})\".format(item, Hs[1], loj, slopes[1])\n",
    "        #print(cmd)\n",
    "        exec(cmd)\n",
    "\n",
    "print(R2_tp)"
   ]
  },
  {
   "cell_type": "code",
   "execution_count": 10,
   "id": "e3bd2dfc",
   "metadata": {},
   "outputs": [
    {
     "name": "stdout",
     "output_type": "stream",
     "text": [
      "[ 7.1 -9.8  0.  20.5]\n"
     ]
    },
    {
     "data": {
      "text/plain": [
       "32"
      ]
     },
     "execution_count": 10,
     "metadata": {},
     "output_type": "execute_result"
    }
   ],
   "source": [
    "dang = Hs = np.array([df_hom['Dir_scaled']['5'],df_hom['Dir_scaled']['50'],dfb['HoM']['d_n'],df_hom['Dir_scaled']['95']])-dfb['HoM']['d_n']\n",
    "print(dang)\n",
    "dfb['HoM']['d_n']"
   ]
  },
  {
   "cell_type": "code",
   "execution_count": 12,
   "id": "196d9d23",
   "metadata": {},
   "outputs": [
    {
     "data": {
      "text/plain": [
       "Text(0.5, 0, 'Slope')"
      ]
     },
     "execution_count": 12,
     "metadata": {},
     "output_type": "execute_result"
    },
    {
     "data": {
      "image/png": "[encoded data removed]",
      "text/plain": [
       "<Figure size 432x288 with 1 Axes>"
      ]
     },
     "metadata": {
      "needs_background": "light"
     },
     "output_type": "display_data"
    }
   ],
   "source": [
    "plt.title('Slope (median H_s and T_p)')\n",
    "plt.boxplot(R2_slopes, notch=True)\n",
    "plt.ylim([0,1.5])\n",
    "plt.ylabel('Runup (m)', fontsize=14)\n",
    "['95%-low','Median','95%-high']\n",
    "plt.xticks([1,2,3], ['95%-low','Median','95%-high'])\n",
    "plt.xlabel('Slope',fontsize=14)"
   ]
  },
  {
   "cell_type": "code",
   "execution_count": 13,
   "id": "c3c2b6d4",
   "metadata": {},
   "outputs": [
    {
     "data": {
      "text/plain": [
       "Text(0.5, 0, 'H_s')"
      ]
     },
     "execution_count": 13,
     "metadata": {},
     "output_type": "execute_result"
    },
    {
     "data": {
      "image/png": "[encoded data removed]",
      "text/plain": [
       "<Figure size 432x288 with 1 Axes>"
      ]
     },
     "metadata": {
      "needs_background": "light"
     },
     "output_type": "display_data"
    }
   ],
   "source": [
    "plt.title('H_s (median slope and T_p)')\n",
    "plt.boxplot(R2_hs, notch=True)\n",
    "plt.ylim([0,1.5])\n",
    "plt.ylabel('Runup (m)', fontsize=14)\n",
    "['95%-low','Median','95%-high']\n",
    "plt.xticks([1,2,3], ['95%-low','Median','95%-high'])\n",
    "plt.xlabel('H_s',fontsize=14)"
   ]
  },
  {
   "cell_type": "code",
   "execution_count": 14,
   "id": "ab8d90ab",
   "metadata": {},
   "outputs": [
    {
     "data": {
      "text/plain": [
       "Text(0.5, 0, 'T_p')"
      ]
     },
     "execution_count": 14,
     "metadata": {},
     "output_type": "execute_result"
    },
    {
     "data": {
      "image/png": "[encoded data removed]",
      "text/plain": [
       "<Figure size 432x288 with 1 Axes>"
      ]
     },
     "metadata": {
      "needs_background": "light"
     },
     "output_type": "display_data"
    }
   ],
   "source": [
    "plt.title('T_p (median H_s and slope)')\n",
    "plt.boxplot(R2_tp, notch=True)\n",
    "plt.ylim([0,1.5])\n",
    "plt.ylabel('Runup (m)', fontsize=14)\n",
    "['95%-low','Median','95%-high']\n",
    "plt.xticks([1,2,3], ['95%-low','Median','95%-high'])\n",
    "plt.xlabel('T_p',fontsize=14)"
   ]
  }
 ],
 "metadata": {
  "kernelspec": {
   "display_name": "Python 3 (ipykernel)",
   "language": "python",
   "name": "python3"
  },
  "language_info": {
   "codemirror_mode": {
    "name": "ipython",
    "version": 3
   },
   "file_extension": ".py",
   "mimetype": "text/x-python",
   "name": "python",
   "nbconvert_exporter": "python",
   "pygments_lexer": "ipython3",
   "version": "3.9.7"
  }
 },
 "nbformat": 4,
 "nbformat_minor": 5
}

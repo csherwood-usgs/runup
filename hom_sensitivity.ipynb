{
 "cells": [
  {
   "cell_type": "code",
   "execution_count": 1,
   "id": "b35ef705",
   "metadata": {},
   "outputs": [],
   "source": [
    "import numpy as np\n",
    "import pandas as pd\n",
    "import matplotlib.pyplot as plt\n",
    "%run -i runup_funcs.py\n",
    "%run -i wave_funcs.py \n",
    "drv, _ = which_computer()"
   ]
  },
  {
   "cell_type": "code",
   "execution_count": 6,
   "id": "5878a78c",
   "metadata": {},
   "outputs": [],
   "source": [
    "# conditions for 95th HoLo per Alfredo email\n",
    "Hs=2.6139\n",
    "Tp=9.3503\n",
    "Bf = [.052, .103, .153]"
   ]
  },
  {
   "cell_type": "code",
   "execution_count": 15,
   "id": "f4b29083",
   "metadata": {},
   "outputs": [
    {
     "data": {
      "image/png": "[encoded data removed]",
      "text/plain": [
       "<Figure size 432x288 with 1 Axes>"
      ]
     },
     "metadata": {
      "needs_background": "light"
     },
     "output_type": "display_data"
    }
   ],
   "source": [
    "# Variation due to slopes\n",
    "R2_slopes = np.empty((len(func_list),3))\n",
    "R2_S06 = np.empty((3))\n",
    "for j, sl in enumerate( Bf ):\n",
    "    R2_S06[j]=S06(Hs, calc_L0(Tp),sl)\n",
    "    for i, item in enumerate( func_list):\n",
    "        cmd = \"R2_slopes[i][j]={}({}, {}, {})\".format(item, Hs, calc_L0(Tp), sl)\n",
    "        # print(cmd)\n",
    "        exec(cmd)\n",
    "\n",
    "#plt.title('95th percentile H_s and T_p')\n",
    "plt.boxplot(R2_slopes, notch=True)\n",
    "plt.ylim([0, 4.])\n",
    "plt.plot([1,2,3],R2_S06,'o') # Stockdon\n",
    "plt.ylabel('Runup (m)', fontsize=14)\n",
    "\n",
    "plt.xticks([1,2,3], ['5%-ile','Median','95%-ile'])\n",
    "plt.xlabel('Slope',fontsize=14)\n",
    "plt.savefig(drv+'crs/proj/2022_Runup/HoM_ten_equations_boxplot.svg', dpi=200)"
   ]
  },
  {
   "cell_type": "code",
   "execution_count": 16,
   "id": "a21b0854",
   "metadata": {},
   "outputs": [
    {
     "name": "stdout",
     "output_type": "stream",
     "text": [
      "95 low\n",
      "  n, nnan, nvalid:  10 0 10\n",
      "  mean, std, min, max   : 1.355 0.533 0.529 2.210\n",
      "  d5, d25, d50, d75, d95: 0.561 1.010 1.415 1.714 2.064\n",
      "median\n",
      "  n, nnan, nvalid:  10 0 10\n",
      "  mean, std, min, max   : 1.902 0.749 0.535 3.424\n",
      "  d5, d25, d50, d75, d95: 0.828 1.645 1.846 2.143 3.110\n",
      "95 high\n",
      "  n, nnan, nvalid:  10 0 10\n",
      "  mean, std, min, max   : 2.509 1.168 0.540 5.086\n",
      "  d5, d25, d50, d75, d95: 1.048 1.821 2.334 2.879 4.429\n"
     ]
    },
    {
     "data": {
      "text/plain": [
       "{'n': 10,\n",
       " 'nnan': 0,\n",
       " 'nvalid': 10,\n",
       " 'mean': 2.5094042754520096,\n",
       " 'std': 1.168178691913332,\n",
       " 'min': 0.5403529184178623,\n",
       " 'max': 5.086495888083331,\n",
       " 'd5': 1.048405538792275,\n",
       " 'd25': 1.8214931568183124,\n",
       " 'd50': 2.333995652835786,\n",
       " 'd75': 2.8792628273198173,\n",
       " 'd95': 4.428728659310622}"
      ]
     },
     "execution_count": 16,
     "metadata": {},
     "output_type": "execute_result"
    }
   ],
   "source": [
    "print(\"95 low\")\n",
    "stat_summary(R2_slopes[:,0], iprint=True)\n",
    "print(\"median\")\n",
    "stat_summary(R2_slopes[:,1], iprint=True)\n",
    "print(\"95 high\")\n",
    "stat_summary(R2_slopes[:,2], iprint=True)"
   ]
  }
 ],
 "metadata": {
  "kernelspec": {
   "display_name": "Python 3 (ipykernel)",
   "language": "python",
   "name": "python3"
  },
  "language_info": {
   "codemirror_mode": {
    "name": "ipython",
    "version": 3
   },
   "file_extension": ".py",
   "mimetype": "text/x-python",
   "name": "python",
   "nbconvert_exporter": "python",
   "pygments_lexer": "ipython3",
   "version": "3.9.13"
  }
 },
 "nbformat": 4,
 "nbformat_minor": 5
}

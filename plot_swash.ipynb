{
 "cells": [
  {
   "cell_type": "code",
   "execution_count": 1,
   "id": "2ce09ebd",
   "metadata": {},
   "outputs": [],
   "source": [
    "import numpy as np\n",
    "import pandas as pd\n",
    "import matplotlib.pyplot as plt\n",
    "%run -i runup_funcs.py\n",
    "\n",
    "run_name = 'hom013'\n",
    "fdir = 'D:/crs/proj/2022_SWASH/'\n",
    "fname = '/hs_setup.tab'\n",
    "fpath = fdir+run_name+fname"
   ]
  },
  {
   "cell_type": "code",
   "execution_count": 2,
   "id": "e615e8fa",
   "metadata": {},
   "outputs": [
    {
     "data": {
      "text/html": [
       "<div>\n",
       "<style scoped>\n",
       "    .dataframe tbody tr th:only-of-type {\n",
       "        vertical-align: middle;\n",
       "    }\n",
       "\n",
       "    .dataframe tbody tr th {\n",
       "        vertical-align: top;\n",
       "    }\n",
       "\n",
       "    .dataframe thead th {\n",
       "        text-align: right;\n",
       "    }\n",
       "</style>\n",
       "<table border=\"1\" class=\"dataframe\">\n",
       "  <thead>\n",
       "    <tr style=\"text-align: right;\">\n",
       "      <th></th>\n",
       "      <th>x</th>\n",
       "      <th>z</th>\n",
       "      <th>hs</th>\n",
       "      <th>setup</th>\n",
       "      <th>hrun</th>\n",
       "    </tr>\n",
       "  </thead>\n",
       "  <tbody>\n",
       "    <tr>\n",
       "      <th>0</th>\n",
       "      <td>0.0</td>\n",
       "      <td>15.000</td>\n",
       "      <td>1.47697</td>\n",
       "      <td>0.001883</td>\n",
       "      <td>1.0</td>\n",
       "    </tr>\n",
       "    <tr>\n",
       "      <th>1</th>\n",
       "      <td>1.0</td>\n",
       "      <td>14.975</td>\n",
       "      <td>1.47593</td>\n",
       "      <td>-0.003460</td>\n",
       "      <td>1.0</td>\n",
       "    </tr>\n",
       "    <tr>\n",
       "      <th>2</th>\n",
       "      <td>2.0</td>\n",
       "      <td>14.950</td>\n",
       "      <td>1.47104</td>\n",
       "      <td>-0.008985</td>\n",
       "      <td>1.0</td>\n",
       "    </tr>\n",
       "    <tr>\n",
       "      <th>3</th>\n",
       "      <td>3.0</td>\n",
       "      <td>14.925</td>\n",
       "      <td>1.46595</td>\n",
       "      <td>-0.009010</td>\n",
       "      <td>1.0</td>\n",
       "    </tr>\n",
       "    <tr>\n",
       "      <th>4</th>\n",
       "      <td>4.0</td>\n",
       "      <td>14.900</td>\n",
       "      <td>1.46481</td>\n",
       "      <td>-0.008777</td>\n",
       "      <td>1.0</td>\n",
       "    </tr>\n",
       "    <tr>\n",
       "      <th>...</th>\n",
       "      <td>...</td>\n",
       "      <td>...</td>\n",
       "      <td>...</td>\n",
       "      <td>...</td>\n",
       "      <td>...</td>\n",
       "    </tr>\n",
       "    <tr>\n",
       "      <th>996</th>\n",
       "      <td>996.0</td>\n",
       "      <td>-4.553</td>\n",
       "      <td>0.41151</td>\n",
       "      <td>2.269395</td>\n",
       "      <td>0.0</td>\n",
       "    </tr>\n",
       "    <tr>\n",
       "      <th>997</th>\n",
       "      <td>997.0</td>\n",
       "      <td>-4.589</td>\n",
       "      <td>0.00000</td>\n",
       "      <td>0.000000</td>\n",
       "      <td>0.0</td>\n",
       "    </tr>\n",
       "    <tr>\n",
       "      <th>998</th>\n",
       "      <td>998.0</td>\n",
       "      <td>-4.626</td>\n",
       "      <td>0.00000</td>\n",
       "      <td>0.000000</td>\n",
       "      <td>0.0</td>\n",
       "    </tr>\n",
       "    <tr>\n",
       "      <th>999</th>\n",
       "      <td>999.0</td>\n",
       "      <td>-4.664</td>\n",
       "      <td>0.26909</td>\n",
       "      <td>2.344523</td>\n",
       "      <td>0.0</td>\n",
       "    </tr>\n",
       "    <tr>\n",
       "      <th>1000</th>\n",
       "      <td>1000.0</td>\n",
       "      <td>-4.701</td>\n",
       "      <td>0.53821</td>\n",
       "      <td>4.689046</td>\n",
       "      <td>0.0</td>\n",
       "    </tr>\n",
       "  </tbody>\n",
       "</table>\n",
       "<p>1001 rows × 5 columns</p>\n",
       "</div>"
      ],
      "text/plain": [
       "           x       z       hs     setup  hrun\n",
       "0        0.0  15.000  1.47697  0.001883   1.0\n",
       "1        1.0  14.975  1.47593 -0.003460   1.0\n",
       "2        2.0  14.950  1.47104 -0.008985   1.0\n",
       "3        3.0  14.925  1.46595 -0.009010   1.0\n",
       "4        4.0  14.900  1.46481 -0.008777   1.0\n",
       "...      ...     ...      ...       ...   ...\n",
       "996    996.0  -4.553  0.41151  2.269395   0.0\n",
       "997    997.0  -4.589  0.00000  0.000000   0.0\n",
       "998    998.0  -4.626  0.00000  0.000000   0.0\n",
       "999    999.0  -4.664  0.26909  2.344523   0.0\n",
       "1000  1000.0  -4.701  0.53821  4.689046   0.0\n",
       "\n",
       "[1001 rows x 5 columns]"
      ]
     },
     "execution_count": 2,
     "metadata": {},
     "output_type": "execute_result"
    }
   ],
   "source": [
    "col_names = ['x','z','hs','setup', 'hrun']\n",
    "df = pd.read_csv(fpath, skiprows=7, delim_whitespace=True, names = col_names, header=None)\n",
    "x = df['x'].values\n",
    "z = -df['z'].values\n",
    "hs = df['hs'].values\n",
    "hr = df['hrun'].values\n",
    "setup = df['setup'].values\n",
    "hr_mask = hr.copy()\n",
    "hr_mask[hr_mask==0] = np.nan\n",
    "df"
   ]
  },
  {
   "cell_type": "code",
   "execution_count": 3,
   "id": "57503fe3",
   "metadata": {},
   "outputs": [
    {
     "data": {
      "text/plain": [
       "Text(0.5, 1.0, 'hom013, runup = -0.072 m')"
      ]
     },
     "execution_count": 3,
     "metadata": {},
     "output_type": "execute_result"
    },
    {
     "data": {
      "image/png": "[encoded data removed]",
      "text/plain": [
       "<Figure size 432x288 with 1 Axes>"
      ]
     },
     "metadata": {
      "needs_background": "light"
     },
     "output_type": "display_data"
    }
   ],
   "source": [
    "plt.plot(x,z,linewidth=3,c='gray')\n",
    "plt.plot(x,np.zeros_like(x),':')\n",
    "plt.plot(x,hs*hr_mask,label='Hs',c='blue')\n",
    "plt.plot(x,setup*hr_mask,label='setup',c='red')\n",
    "plt.legend()\n",
    "plt.xlabel('Cross-shore Distance (m)')\n",
    "plt.ylabel('Elevation (m NAVD88)')\n",
    "ts = run_name+', runup = {:.3f} m'.format(np.nanmax(z*hr_mask))\n",
    "plt.title(ts)"
   ]
  },
  {
   "cell_type": "code",
   "execution_count": 4,
   "id": "857a901a",
   "metadata": {},
   "outputs": [
    {
     "data": {
      "text/plain": [
       "(-3.0, 3.0)"
      ]
     },
     "execution_count": 4,
     "metadata": {},
     "output_type": "execute_result"
    },
    {
     "data": {
      "image/png": "[encoded data removed]",
      "text/plain": [
       "<Figure size 432x288 with 1 Axes>"
      ]
     },
     "metadata": {
      "needs_background": "light"
     },
     "output_type": "display_data"
    }
   ],
   "source": [
    "plt.plot(x,z,linewidth=3,c='gray')\n",
    "plt.plot(x,np.zeros_like(x),':')\n",
    "plt.plot(x,hs*hr_mask,label='Hs',c='blue')\n",
    "plt.plot(x,setup*hr_mask,label='setup',c='red')\n",
    "plt.legend()\n",
    "plt.xlabel('Cross-shore Distance (m)')\n",
    "plt.ylabel('Elevation (m NAVD88)')\n",
    "ts = run_name+', runup = {:.3f} m'.format(np.nanmax(z*hr_mask))\n",
    "plt.title(ts)\n",
    "plt.xlim([800,900])\n",
    "plt.ylim([-3,3])"
   ]
  }
 ],
 "metadata": {
  "kernelspec": {
   "display_name": "Python 3 (ipykernel)",
   "language": "python",
   "name": "python3"
  },
  "language_info": {
   "codemirror_mode": {
    "name": "ipython",
    "version": 3
   },
   "file_extension": ".py",
   "mimetype": "text/x-python",
   "name": "python",
   "nbconvert_exporter": "python",
   "pygments_lexer": "ipython3",
   "version": "3.10.4"
  }
 },
 "nbformat": 4,
 "nbformat_minor": 5
}

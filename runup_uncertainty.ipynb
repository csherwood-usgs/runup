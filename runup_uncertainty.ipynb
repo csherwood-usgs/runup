{
 "cells": [
  {
   "cell_type": "code",
   "execution_count": 31,
   "id": "79c1c2b2",
   "metadata": {},
   "outputs": [
    {
     "data": {
      "text/html": [
       "<div>\n",
       "<style scoped>\n",
       "    .dataframe tbody tr th:only-of-type {\n",
       "        vertical-align: middle;\n",
       "    }\n",
       "\n",
       "    .dataframe tbody tr th {\n",
       "        vertical-align: top;\n",
       "    }\n",
       "\n",
       "    .dataframe thead th {\n",
       "        text-align: right;\n",
       "    }\n",
       "</style>\n",
       "<table border=\"1\" class=\"dataframe\">\n",
       "  <thead>\n",
       "    <tr style=\"text-align: right;\">\n",
       "      <th></th>\n",
       "      <th>%iso_lon</th>\n",
       "      <th>%iso_lat</th>\n",
       "      <th>%sl_lon</th>\n",
       "      <th>%sl_lat</th>\n",
       "      <th>%slope</th>\n",
       "      <th>%95_up</th>\n",
       "      <th>%95_low</th>\n",
       "      <th>dhigh</th>\n",
       "      <th>dlow</th>\n",
       "      <th>month</th>\n",
       "      <th>year</th>\n",
       "    </tr>\n",
       "  </thead>\n",
       "  <tbody>\n",
       "    <tr>\n",
       "      <th>0</th>\n",
       "      <td>276.787</td>\n",
       "      <td>28.1059</td>\n",
       "      <td>277.149</td>\n",
       "      <td>28.2121</td>\n",
       "      <td>0.0235</td>\n",
       "      <td>0.0348</td>\n",
       "      <td>0.0122</td>\n",
       "      <td>1.3932</td>\n",
       "      <td>1.0812</td>\n",
       "      <td>6</td>\n",
       "      <td>2015</td>\n",
       "    </tr>\n",
       "    <tr>\n",
       "      <th>1</th>\n",
       "      <td>276.789</td>\n",
       "      <td>28.0995</td>\n",
       "      <td>277.149</td>\n",
       "      <td>28.2054</td>\n",
       "      <td>0.0438</td>\n",
       "      <td>0.0693</td>\n",
       "      <td>0.0183</td>\n",
       "      <td>1.5943</td>\n",
       "      <td>1.1923</td>\n",
       "      <td>6</td>\n",
       "      <td>2015</td>\n",
       "    </tr>\n",
       "    <tr>\n",
       "      <th>2</th>\n",
       "      <td>276.790</td>\n",
       "      <td>28.0932</td>\n",
       "      <td>277.149</td>\n",
       "      <td>28.1983</td>\n",
       "      <td>0.0325</td>\n",
       "      <td>0.0436</td>\n",
       "      <td>0.0215</td>\n",
       "      <td>2.0422</td>\n",
       "      <td>1.2272</td>\n",
       "      <td>6</td>\n",
       "      <td>2015</td>\n",
       "    </tr>\n",
       "    <tr>\n",
       "      <th>3</th>\n",
       "      <td>276.792</td>\n",
       "      <td>28.0871</td>\n",
       "      <td>277.149</td>\n",
       "      <td>28.1906</td>\n",
       "      <td>0.0394</td>\n",
       "      <td>0.0532</td>\n",
       "      <td>0.0257</td>\n",
       "      <td>1.8558</td>\n",
       "      <td>1.2048</td>\n",
       "      <td>6</td>\n",
       "      <td>2015</td>\n",
       "    </tr>\n",
       "    <tr>\n",
       "      <th>4</th>\n",
       "      <td>276.794</td>\n",
       "      <td>28.0811</td>\n",
       "      <td>277.149</td>\n",
       "      <td>28.1835</td>\n",
       "      <td>0.0312</td>\n",
       "      <td>0.0512</td>\n",
       "      <td>0.0112</td>\n",
       "      <td>2.0483</td>\n",
       "      <td>1.1813</td>\n",
       "      <td>6</td>\n",
       "      <td>2015</td>\n",
       "    </tr>\n",
       "    <tr>\n",
       "      <th>...</th>\n",
       "      <td>...</td>\n",
       "      <td>...</td>\n",
       "      <td>...</td>\n",
       "      <td>...</td>\n",
       "      <td>...</td>\n",
       "      <td>...</td>\n",
       "      <td>...</td>\n",
       "      <td>...</td>\n",
       "      <td>...</td>\n",
       "      <td>...</td>\n",
       "      <td>...</td>\n",
       "    </tr>\n",
       "    <tr>\n",
       "      <th>383</th>\n",
       "      <td>277.719</td>\n",
       "      <td>26.0811</td>\n",
       "      <td>278.144</td>\n",
       "      <td>26.3527</td>\n",
       "      <td>0.0439</td>\n",
       "      <td>0.0521</td>\n",
       "      <td>0.0357</td>\n",
       "      <td>2.0256</td>\n",
       "      <td>1.3096</td>\n",
       "      <td>5</td>\n",
       "      <td>2018</td>\n",
       "    </tr>\n",
       "    <tr>\n",
       "      <th>384</th>\n",
       "      <td>277.720</td>\n",
       "      <td>26.0771</td>\n",
       "      <td>278.147</td>\n",
       "      <td>26.3479</td>\n",
       "      <td>0.0572</td>\n",
       "      <td>0.0694</td>\n",
       "      <td>0.0450</td>\n",
       "      <td>2.1235</td>\n",
       "      <td>1.3895</td>\n",
       "      <td>5</td>\n",
       "      <td>2018</td>\n",
       "    </tr>\n",
       "    <tr>\n",
       "      <th>385</th>\n",
       "      <td>277.721</td>\n",
       "      <td>26.0735</td>\n",
       "      <td>278.150</td>\n",
       "      <td>26.3416</td>\n",
       "      <td>0.0742</td>\n",
       "      <td>0.0913</td>\n",
       "      <td>0.0570</td>\n",
       "      <td>2.2411</td>\n",
       "      <td>1.2101</td>\n",
       "      <td>5</td>\n",
       "      <td>2018</td>\n",
       "    </tr>\n",
       "    <tr>\n",
       "      <th>386</th>\n",
       "      <td>277.722</td>\n",
       "      <td>26.0702</td>\n",
       "      <td>278.152</td>\n",
       "      <td>26.3351</td>\n",
       "      <td>0.0781</td>\n",
       "      <td>0.1033</td>\n",
       "      <td>0.0530</td>\n",
       "      <td>2.2693</td>\n",
       "      <td>1.1243</td>\n",
       "      <td>5</td>\n",
       "      <td>2018</td>\n",
       "    </tr>\n",
       "    <tr>\n",
       "      <th>387</th>\n",
       "      <td>277.724</td>\n",
       "      <td>26.0672</td>\n",
       "      <td>278.154</td>\n",
       "      <td>26.3304</td>\n",
       "      <td>0.0757</td>\n",
       "      <td>0.0879</td>\n",
       "      <td>0.0635</td>\n",
       "      <td>2.3011</td>\n",
       "      <td>1.1802</td>\n",
       "      <td>5</td>\n",
       "      <td>2018</td>\n",
       "    </tr>\n",
       "  </tbody>\n",
       "</table>\n",
       "<p>388 rows × 11 columns</p>\n",
       "</div>"
      ],
      "text/plain": [
       "     %iso_lon  %iso_lat  %sl_lon  %sl_lat  %slope  %95_up  %95_low   dhigh  \\\n",
       "0     276.787   28.1059  277.149  28.2121  0.0235  0.0348   0.0122  1.3932   \n",
       "1     276.789   28.0995  277.149  28.2054  0.0438  0.0693   0.0183  1.5943   \n",
       "2     276.790   28.0932  277.149  28.1983  0.0325  0.0436   0.0215  2.0422   \n",
       "3     276.792   28.0871  277.149  28.1906  0.0394  0.0532   0.0257  1.8558   \n",
       "4     276.794   28.0811  277.149  28.1835  0.0312  0.0512   0.0112  2.0483   \n",
       "..        ...       ...      ...      ...     ...     ...      ...     ...   \n",
       "383   277.719   26.0811  278.144  26.3527  0.0439  0.0521   0.0357  2.0256   \n",
       "384   277.720   26.0771  278.147  26.3479  0.0572  0.0694   0.0450  2.1235   \n",
       "385   277.721   26.0735  278.150  26.3416  0.0742  0.0913   0.0570  2.2411   \n",
       "386   277.722   26.0702  278.152  26.3351  0.0781  0.1033   0.0530  2.2693   \n",
       "387   277.724   26.0672  278.154  26.3304  0.0757  0.0879   0.0635  2.3011   \n",
       "\n",
       "       dlow  month  year  \n",
       "0    1.0812      6  2015  \n",
       "1    1.1923      6  2015  \n",
       "2    1.2272      6  2015  \n",
       "3    1.2048      6  2015  \n",
       "4    1.1813      6  2015  \n",
       "..      ...    ...   ...  \n",
       "383  1.3096      5  2018  \n",
       "384  1.3895      5  2018  \n",
       "385  1.2101      5  2018  \n",
       "386  1.1243      5  2018  \n",
       "387  1.1802      5  2018  \n",
       "\n",
       "[388 rows x 11 columns]"
      ]
     },
     "execution_count": 31,
     "metadata": {},
     "output_type": "execute_result"
    }
   ],
   "source": [
    "import numpy as np\n",
    "import pandas as pd\n",
    "import matplotlib.pyplot as plt\n",
    "\n",
    "pdir = 'C:/crs/proj/2022_runup/'\n",
    "bos = 'CG1.BOX_slopes.txt'\n",
    "mhx = 'CG1.MHX_slopes.txt'\n",
    "tbw = 'CG1.TBW_slopes.txt'\n",
    "\n",
    "df_bos = pd.read_csv(pdir+bos, skiprows=2, delim_whitespace=True)\n",
    "df_mhx = pd.read_csv(pdir+mhx, skiprows=1, delim_whitespace=True)\n",
    "df_tbw = pd.read_csv(pdir+tbw, skiprows=1, delim_whitespace=True)\n",
    "df_tbw"
   ]
  },
  {
   "cell_type": "code",
   "execution_count": 25,
   "id": "0c30b0e0",
   "metadata": {},
   "outputs": [
    {
     "data": {
      "text/plain": [
       "%iso_lon     289.9275\n",
       "%iso_lat      42.0651\n",
       "%sl_lon      289.9210\n",
       "%sl_lat       42.0511\n",
       "%slope         0.1027\n",
       "%95_up         0.1532\n",
       "%95_low        0.0522\n",
       "dhigh         17.3329\n",
       "dlow           6.2986\n",
       "month         11.0000\n",
       "year        2013.0000\n",
       "Name: 125, dtype: float64"
      ]
     },
     "execution_count": 25,
     "metadata": {},
     "output_type": "execute_result"
    }
   ],
   "source": [
    "df_bos.loc[125,:] # this is HoM"
   ]
  },
  {
   "cell_type": "code",
   "execution_count": 28,
   "id": "3105a4ea",
   "metadata": {},
   "outputs": [
    {
     "data": {
      "text/plain": [
       "%iso_lon     284.5600\n",
       "%iso_lat      35.6837\n",
       "%sl_lon      284.5220\n",
       "%sl_lat       35.6713\n",
       "%slope         0.0860\n",
       "%95_up         0.1363\n",
       "%95_low        0.0358\n",
       "dhigh          5.8783\n",
       "dlow           3.3428\n",
       "month         10.0000\n",
       "year        2018.0000\n",
       "Name: 289, dtype: float64"
      ]
     },
     "execution_count": 28,
     "metadata": {},
     "output_type": "execute_result"
    }
   ],
   "source": [
    "df_mhx.loc[289,:] # this is Pea Island"
   ]
  },
  {
   "cell_type": "code",
   "execution_count": 33,
   "id": "3bfe7a9c",
   "metadata": {},
   "outputs": [
    {
     "data": {
      "text/plain": [
       "%iso_lon     276.9040\n",
       "%iso_lat      27.7239\n",
       "%sl_lon      277.1980\n",
       "%sl_lat       27.8008\n",
       "%slope         0.0493\n",
       "%95_up         0.0787\n",
       "%95_low        0.0199\n",
       "dhigh          2.1629\n",
       "dlow           1.3439\n",
       "month          6.0000\n",
       "year        2015.0000\n",
       "Name: 62, dtype: float64"
      ]
     },
     "execution_count": 33,
     "metadata": {},
     "output_type": "execute_result"
    }
   ],
   "source": [
    "df_tbw.loc[62,:] # this is Madeira Beach"
   ]
  },
  {
   "cell_type": "code",
   "execution_count": 13,
   "id": "9b0ca751",
   "metadata": {},
   "outputs": [],
   "source": [
    "tanB = df['%slope'].values/100.\n",
    "srad = np.arctan(tanB)\n",
    "tanB_up = df['%95_up'].values/100.\n",
    "tanB_lo = df['%95_low'].values/100.\n",
    "srad_up = np.arctan(tanB_up)\n",
    "srad_lo = np.arctan(tanB_lo)"
   ]
  },
  {
   "cell_type": "code",
   "execution_count": 17,
   "id": "a4cb76de",
   "metadata": {},
   "outputs": [
    {
     "data": {
      "text/plain": [
       "(array([ 34., 103., 123.,  55.,  28.,  11.,   2.,   2.,   1.,   1.]),\n",
       " array([0.000269  , 0.0005764 , 0.0008838 , 0.0011912 , 0.0014986 ,\n",
       "        0.00180599, 0.00211339, 0.00242079, 0.00272819, 0.00303559,\n",
       "        0.00334299]),\n",
       " <BarContainer object of 10 artists>)"
      ]
     },
     "execution_count": 17,
     "metadata": {},
     "output_type": "execute_result"
    },
    {
     "data": {
      "image/png": "[encoded data removed]",
      "text/plain": [
       "<Figure size 432x288 with 1 Axes>"
      ]
     },
     "metadata": {
      "needs_background": "light"
     },
     "output_type": "display_data"
    }
   ],
   "source": [
    "plt.hist(srad)"
   ]
  }
 ],
 "metadata": {
  "kernelspec": {
   "display_name": "Python 3 (ipykernel)",
   "language": "python",
   "name": "python3"
  },
  "language_info": {
   "codemirror_mode": {
    "name": "ipython",
    "version": 3
   },
   "file_extension": ".py",
   "mimetype": "text/x-python",
   "name": "python",
   "nbconvert_exporter": "python",
   "pygments_lexer": "ipython3",
   "version": "3.9.7"
  }
 },
 "nbformat": 4,
 "nbformat_minor": 5
}

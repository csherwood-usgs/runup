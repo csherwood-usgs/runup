{
 "cells": [
  {
   "cell_type": "code",
   "execution_count": 22,
   "id": "73add290",
   "metadata": {},
   "outputs": [
    {
     "name": "stdout",
     "output_type": "stream",
     "text": [
      "156.13099917314932\n",
      "['A17', 'D20', 'H86', 'NH91', 'P14', 'P16', 'R01', 'S06', 'S11', 'V12']\n",
      "A17\n",
      "0.3498845445000393\n",
      "D20\n",
      "5.574916526297034\n",
      "H86\n",
      "0.6933375474091239\n",
      "NH91\n",
      "1.764186045187383\n",
      "P14\n",
      "0.7407072495843278\n",
      "P16\n",
      "0.9333809511662428\n",
      "R01\n",
      "0.6747429110409386\n",
      "S06\n",
      "0.7371541008103424\n",
      "S11\n",
      "1.4210386883731967\n",
      "V12\n",
      "0.2105119278636574\n",
      "Raub\n",
      "1.0514324637448569\n"
     ]
    }
   ],
   "source": [
    "import numpy as np\n",
    "\n",
    "%run -i runup_funcs.py\n",
    "%run -i wave_funcs.py \n",
    "\n",
    "\n",
    "print(calc_L0(10))\n",
    "\n",
    "print(func_list)\n",
    "\n",
    "for item in func_list:\n",
    "    cmd = \"print({}())\".format(item, item)\n",
    "    print(item)\n",
    "    exec(cmd)\n",
    "\n",
    "print('Raub')\n",
    "R2R, S, setup, Sinc, SIG, ir, R16R = calcR2_Raubenheimer(2., 10., .05, .005)\n",
    "print(R2R)"
   ]
  },
  {
   "cell_type": "code",
   "execution_count": 4,
   "id": "c0f3ef1f",
   "metadata": {},
   "outputs": [
    {
     "name": "stdout",
     "output_type": "stream",
     "text": [
      "T: 25.0 4.0\n",
      "f: 0.04 0.25\n",
      "w: 0.25132741228718347 1.5707963267948966\n"
     ]
    }
   ],
   "source": [
    "# SS band\n",
    "f_lo = 0.04\n",
    "f_hi = 0.25\n",
    "T_lo = 1/f_lo\n",
    "T_hi = 1/f_hi\n",
    "w_lo = 2.*np.pi*f_lo\n",
    "w_hi = 2.*np.pi*f_hi\n",
    "print('T:',T_lo, T_hi)\n",
    "print('f:',f_lo, f_hi)\n",
    "print('w:',w_lo, w_hi)"
   ]
  },
  {
   "cell_type": "code",
   "execution_count": 12,
   "id": "23b98c31",
   "metadata": {},
   "outputs": [
    {
     "name": "stdout",
     "output_type": "stream",
     "text": [
      "2.0073711033839174\n"
     ]
    }
   ],
   "source": [
    "# Calculate spectrum i sea-swell band for Lange et al\n",
    "w = np.geomspace(2.*np.pi*0.04, 2*np.pi*0.25, 21)\n",
    "Ess = 2.*np.pi*jonswap(w, 2., 10.)\n",
    "# check Hs\n",
    "# check integration using f\n",
    "f = w/(2.*np.pi)\n",
    "dff = np.diff(f)\n",
    "df = np.append(dff[0], dff)\n",
    "Hsf = 4.*np.sqrt( np.sum(Ess*df))\n",
    "print(Hsf)"
   ]
  },
  {
   "cell_type": "code",
   "execution_count": 17,
   "id": "b70302d3",
   "metadata": {},
   "outputs": [],
   "source": [
    "def two_slope_IPA_free(Ess, f, df, beta_ef, beta_eff):\n",
    "    \"\"\"\n",
    "    Equation 9 in Lange et al., 2020\n",
    "    \"\"\"\n",
    "    #term1 = 0.4 * 𝛽eff^0.45 ∫𝑆𝑆 𝐸^0.5 𝑓^−1.45 𝑑𝑓\n",
    "    aint = Ess**0.5 * f**-1.45 * df\n",
    "    term1 = 0.4 * beta_eff**0.45 * aint.sum()\n",
    "\n",
    "    #term2 = 3.72 * 𝛽eff^0.6 ∫𝑆𝑆 𝐸^0.95 𝑓^−0.25 𝑑𝑓\n",
    "    bint = Ess**0.95 * f**-0.25 * df\n",
    "    term2= 3.72 * beta_eff**0.6 * bint.sum()\n",
    "\n",
    "    #term3 = 0.76 * 𝛽f^2 * 𝛽eff^0.75 ∫𝑆𝑆 𝐸^0.4 𝑓^−3.1 𝑑𝑓\n",
    "    cint = Ess**0.4 * f**-3.1 * df\n",
    "    term3= 0.76 * beta_f**2 * beta_eff**0.75 * cint.sum()\n",
    "    #term3.append(c)\n",
    "\n",
    "    #R2%,G = term1 + 2[term2 + term3]^0.5\n",
    "    R2 = term1 + 2*(term2+term3)**0.5\n",
    "    return R2"
   ]
  },
  {
   "cell_type": "code",
   "execution_count": 21,
   "id": "c02537b9",
   "metadata": {},
   "outputs": [
    {
     "name": "stdout",
     "output_type": "stream",
     "text": [
      "0.672110644099395\n"
     ]
    }
   ],
   "source": [
    "beta_f = 0.05\n",
    "beta_eff = 0.005\n",
    "R2IPA = two_slope_IPA_free(Ess, f, df, beta_f, beta_eff)\n",
    "print(R2IPA)"
   ]
  }
 ],
 "metadata": {
  "kernelspec": {
   "display_name": "Python 3 (ipykernel)",
   "language": "python",
   "name": "python3"
  },
  "language_info": {
   "codemirror_mode": {
    "name": "ipython",
    "version": 3
   },
   "file_extension": ".py",
   "mimetype": "text/x-python",
   "name": "python",
   "nbconvert_exporter": "python",
   "pygments_lexer": "ipython3",
   "version": "3.9.7"
  }
 },
 "nbformat": 4,
 "nbformat_minor": 5
}

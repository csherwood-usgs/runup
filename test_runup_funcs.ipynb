{
 "cells": [
  {
   "cell_type": "code",
   "execution_count": 19,
   "id": "23b98c31",
   "metadata": {},
   "outputs": [
    {
     "name": "stdout",
     "output_type": "stream",
     "text": [
      "156.13099917314932\n",
      "['A17', 'D20', 'H86', 'NH91', 'P14', 'P16', 'R01', 'S06', 'S11', 'V12']\n",
      "A17\n",
      "0.3498845445000393\n",
      "D20\n",
      "5.574916526297034\n",
      "H86\n",
      "0.6933375474091239\n",
      "NH91\n",
      "1.764186045187383\n",
      "P14\n",
      "0.7407072495843278\n",
      "P16\n",
      "0.9333809511662428\n",
      "R01\n",
      "0.6747429110409386\n",
      "S06\n",
      "0.7371541008103424\n",
      "S11\n",
      "1.4210386883731967\n",
      "V12\n",
      "0.2105119278636574\n"
     ]
    }
   ],
   "source": [
    "import numpy as np\n",
    "\n",
    "%run -i runup_funcs.py\n",
    "\n",
    "print(calc_L0(10))\n",
    "\n",
    "print(func_list)\n",
    "\n",
    "for item in func_list:\n",
    "    cmd = \"print({}())\".format(item, item)\n",
    "    print(item)\n",
    "    exec(cmd)"
   ]
  }
 ],
 "metadata": {
  "kernelspec": {
   "display_name": "Python 3 (ipykernel)",
   "language": "python",
   "name": "python3"
  },
  "language_info": {
   "codemirror_mode": {
    "name": "ipython",
    "version": 3
   },
   "file_extension": ".py",
   "mimetype": "text/x-python",
   "name": "python",
   "nbconvert_exporter": "python",
   "pygments_lexer": "ipython3",
   "version": "3.9.7"
  }
 },
 "nbformat": 4,
 "nbformat_minor": 5
}
